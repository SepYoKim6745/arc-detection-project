{
 "cells": [
  {
   "cell_type": "markdown",
   "id": "72e6ff18",
   "metadata": {},
   "source": [
    "# 라즈베리파이 실시간 전압/전류 측정\n",
    "\n",
    "## ⚙ 구성\n",
    "|항목|모델명|용도|\n",
    "|-------|-------|-------|\n",
    "전압 측정|ZMPT101B|220V 전압 감지(출력: 아날로그)\n",
    "전류 측정|ACS712 (5A/20A/30A)|부하 전류 감지 (출력: 아날로그)\n",
    "ADC|ADS1115|아날로그 센서 → 디지털 신호로 변환\n",
    "저장 형식|CSV|전처리 용이, 속도 빠름\n",
    "측정 주기|100Hz(10ms 간격, 일반 논문에서 자주 사용)\n",
    "\n",
    "## 🧠 흐름\n",
    "- ZMPT101B & ACS712 (Analog)\n",
    "- ADS1115 (I2C → Raspberry Pi)\n",
    "- 실시간 측정 (0.01초 간격)\n",
    "- CSV 파일로 저장\n",
    "\n",
    "## ⚠️ 참고사항\n",
    "- ACS712 전류 변환 공식: `current (A) = (measured_voltage - Vcc/2) / sensitivity` (예: 20A 모델은 100mV/A, Vcc=5V일 때 2.5V 중심 기준)\n",
    "- ZMPT101B도 보정이 필요하지만, 일단 상대적 변화 감지용으로도 사용 가능"
   ]
  },
  {
   "cell_type": "code",
   "execution_count": 14,
   "id": "fc2543e4",
   "metadata": {},
   "outputs": [],
   "source": [
    "import time\n",
    "import board\n",
    "import busio\n",
    "import adafruit_ads1x15.ads1115 as ADS\n",
    "from adafruit_ads1x15.analog_in import AnalogIn\n",
    "import pandas as pd\n",
    "import numpy as np"
   ]
  },
  {
   "cell_type": "code",
   "execution_count": 15,
   "id": "bdb8e542",
   "metadata": {},
   "outputs": [],
   "source": [
    "# I2C 및 ADC 설정\n",
    "i2c = busio.I2C(board.SCL, board.SDA)\n",
    "ads = ADS.ADS1115(i2c)\n",
    "ads.gain = 2/3  # ±6.144V\n",
    "\n",
    "voltage_ch = AnalogIn(ads, ADS.P0)\n",
    "current_ch = AnalogIn(ads, ADS.P1)"
   ]
  },
  {
   "cell_type": "code",
   "execution_count": 16,
   "id": "16f39cc0",
   "metadata": {},
   "outputs": [],
   "source": [
    "# 센서 보정값\n",
    "ZMPT_offset = 2.5539\n",
    "ZMPT_scale = 997.6\n",
    "\n",
    "ACS712_offset = 2.5087\n",
    "ACS712_sensitivity = 0.0990\n",
    "\n",
    "data = []\n",
    "count = 0"
   ]
  },
  {
   "cell_type": "code",
   "execution_count": 17,
   "id": "fafc73c7",
   "metadata": {},
   "outputs": [
    {
     "name": "stdout",
     "output_type": "stream",
     "text": [
      "[100] V_raw: 2.549, C_raw: 2.521\n",
      "      Voltage(V): -4.62, Current(A): 0.13\n",
      "------------------------------------------------------------\n",
      "[200] V_raw: 2.552, C_raw: 2.520\n",
      "      Voltage(V): -1.53, Current(A): 0.11\n",
      "------------------------------------------------------------\n",
      "[300] V_raw: 2.553, C_raw: 2.517\n",
      "      Voltage(V): -1.13, Current(A): 0.08\n",
      "------------------------------------------------------------\n",
      "[400] V_raw: 2.555, C_raw: 2.522\n",
      "      Voltage(V): 1.29, Current(A): 0.13\n",
      "------------------------------------------------------------\n",
      "[500] V_raw: 2.553, C_raw: 2.513\n",
      "      Voltage(V): -0.65, Current(A): 0.05\n",
      "------------------------------------------------------------\n",
      "[600] V_raw: 2.559, C_raw: 2.523\n",
      "      Voltage(V): 5.44, Current(A): 0.14\n",
      "------------------------------------------------------------\n",
      "[700] V_raw: 2.552, C_raw: 2.523\n",
      "      Voltage(V): -1.75, Current(A): 0.15\n",
      "------------------------------------------------------------\n",
      "[800] V_raw: 2.541, C_raw: 2.521\n",
      "      Voltage(V): -12.38, Current(A): 0.13\n",
      "------------------------------------------------------------\n",
      "[900] V_raw: 2.535, C_raw: 2.517\n",
      "      Voltage(V): -18.36, Current(A): 0.08\n",
      "------------------------------------------------------------\n",
      "🛑 실시간 감지를 종료합니다.\n"
     ]
    }
   ],
   "source": [
    "# 초기 측정을 통해 이전값 확보\n",
    "while True:\n",
    "    try:\n",
    "        prev_v_raw = voltage_ch.voltage\n",
    "        prev_c_raw = current_ch.voltage\n",
    "        break\n",
    "    except OSError as e:\n",
    "        print(f\"[초기 I2C 오류] {e}\")\n",
    "        time.sleep(0.001163)\n",
    "\n",
    "try:\n",
    "    while True:\n",
    "        now = time.time()\n",
    "\n",
    "        try:\n",
    "            v_raw = voltage_ch.voltage\n",
    "            c_raw = current_ch.voltage\n",
    "            prev_v_raw = v_raw\n",
    "            prev_c_raw = c_raw\n",
    "        except OSError as e:\n",
    "            print(f\"[I2C 오류 발생] {e}\")\n",
    "            v_raw = prev_v_raw\n",
    "            c_raw = prev_c_raw\n",
    "\n",
    "        real_voltage = (v_raw - ZMPT_offset) * ZMPT_scale\n",
    "        real_current = (c_raw - ACS712_offset) / ACS712_sensitivity\n",
    "\n",
    "        data.append([now, v_raw, c_raw, real_voltage, real_current, 1])\n",
    "        count += 1\n",
    "\n",
    "        if len(data) >= 100:\n",
    "            df = pd.DataFrame(data, columns=[\n",
    "                'timestamp', 'v_raw', 'c_raw', 'voltage(V)', 'current(A)', 'label'\n",
    "            ])\n",
    "\n",
    "            try:\n",
    "                df.to_csv(\"./arc/arc_20sec_60ohm.csv\", mode='a', index=False, header=False)\n",
    "            except Exception as e:\n",
    "                print(f\"[파일 저장 오류] {e}\")\n",
    "\n",
    "            print(f\"[{count}] V_raw: {df['v_raw'].mean():.3f}, C_raw: {df['c_raw'].mean():.3f}\")\n",
    "            print(f\"      Voltage(V): {df['voltage(V)'].mean():.2f}, Current(A): {df['current(A)'].mean():.2f}\")\n",
    "            print(\"-\" * 60)\n",
    "            data = []\n",
    "\n",
    "        time.sleep(0.001163)\n",
    "\n",
    "\n",
    "except KeyboardInterrupt:\n",
    "    print(\"🛑 실시간 감지를 종료합니다.\")"
   ]
  }
 ],
 "metadata": {
  "kernelspec": {
   "display_name": "powerenv",
   "language": "python",
   "name": "python3"
  },
  "language_info": {
   "codemirror_mode": {
    "name": "ipython",
    "version": 3
   },
   "file_extension": ".py",
   "mimetype": "text/x-python",
   "name": "python",
   "nbconvert_exporter": "python",
   "pygments_lexer": "ipython3",
   "version": "3.11.2"
  }
 },
 "nbformat": 4,
 "nbformat_minor": 5
}
