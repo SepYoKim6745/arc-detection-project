{
 "cells": [
  {
   "cell_type": "markdown",
   "id": "72e6ff18",
   "metadata": {},
   "source": [
    "# 라즈베리파이 실시간 전압/전류 측정\n",
    "\n",
    "## ⚙ 구성\n",
    "|항목|모델명|용도|\n",
    "|-------|-------|-------|\n",
    "전압 측정|ZMPT101B|220V 전압 감지(출력: 아날로그)\n",
    "전류 측정|ACS712 (5A/20A/30A)|부하 전류 감지 (출력: 아날로그)\n",
    "ADC|ADS1115|아날로그 센서 → 디지털 신호로 변환\n",
    "저장 형식|CSV|전처리 용이, 속도 빠름\n",
    "측정 주기|100Hz(10ms 간격, 일반 논문에서 자주 사용)\n",
    "\n",
    "## 🧠 흐름\n",
    "- ZMPT101B & ACS712 (Analog)\n",
    "- ADS1115 (I2C → Raspberry Pi)\n",
    "- 실시간 측정 (0.01초 간격)\n",
    "- CSV 파일로 저장\n",
    "\n",
    "## ⚠️ 참고사항\n",
    "- ACS712 전류 변환 공식: `current (A) = (measured_voltage - Vcc/2) / sensitivity` (예: 20A 모델은 100mV/A, Vcc=5V일 때 2.5V 중심 기준)\n",
    "- ZMPT101B도 보정이 필요하지만, 일단 상대적 변화 감지용으로도 사용 가능"
   ]
  },
  {
   "cell_type": "code",
   "execution_count": 10,
   "id": "fc2543e4",
   "metadata": {},
   "outputs": [],
   "source": [
    "import time\n",
    "import board\n",
    "import busio\n",
    "import adafruit_ads1x15.ads1115 as ADS\n",
    "from adafruit_ads1x15.analog_in import AnalogIn\n",
    "import pandas as pd\n",
    "import numpy as np"
   ]
  },
  {
   "cell_type": "code",
   "execution_count": null,
   "id": "bdb8e542",
   "metadata": {},
   "outputs": [],
   "source": [
    "# I2C 및 ADC 설정\n",
    "i2c = busio.I2C(board.SCL, board.SDA)\n",
    "ads = ADS.ADS1115(i2c)\n",
    "ads.gain = 1  # 1: ±4.096V 범위 (ZMPT, ACS712에 적절)\n",
    "\n",
    "# 센서 채널 지정\n",
    "voltage_ch = AnalogIn(ads, ADS.P0)\n",
    "current_ch = AnalogIn(ads, ADS.P1)\n",
    "\n",
    "# 보정 파라미터 (초기값)\n",
    "ZMPT_offset = 2.510\n",
    "ZMPT_scale = 941.68\n",
    "\n",
    "ACS712_offset = 2.552\n",
    "ACS712_sensitivity = 0.0925"
   ]
  },
  {
   "cell_type": "code",
   "execution_count": null,
   "id": "fafc73c7",
   "metadata": {},
   "outputs": [
    {
     "name": "stdout",
     "output_type": "stream",
     "text": [
      "[100] Mean raw V: 2.513, Mean raw C: 2.550\n",
      "     Mean Real Voltage(V): 2.56, Current(A): -0.12\n",
      "------------------------------------------------------------\n",
      "[200] Mean raw V: 2.512, Mean raw C: 2.556\n",
      "     Mean Real Voltage(V): 1.72, Current(A): 0.26\n",
      "------------------------------------------------------------\n",
      "[300] Mean raw V: 2.514, Mean raw C: 2.544\n",
      "     Mean Real Voltage(V): 4.05, Current(A): -0.53\n",
      "------------------------------------------------------------\n",
      "[400] Mean raw V: 2.510, Mean raw C: 2.547\n",
      "     Mean Real Voltage(V): 0.20, Current(A): -0.35\n",
      "------------------------------------------------------------\n",
      "[500] Mean raw V: 2.503, Mean raw C: 2.557\n",
      "     Mean Real Voltage(V): -6.13, Current(A): 0.38\n",
      "------------------------------------------------------------\n",
      "[600] Mean raw V: 2.506, Mean raw C: 2.562\n",
      "     Mean Real Voltage(V): -4.05, Current(A): 0.70\n",
      "------------------------------------------------------------\n"
     ]
    },
    {
     "ename": "NameError",
     "evalue": "name 'KeyboardIncterrupt' is not defined",
     "output_type": "error",
     "traceback": [
      "\u001b[31m---------------------------------------------------------------------------\u001b[39m",
      "\u001b[31mOSError\u001b[39m                                   Traceback (most recent call last)",
      "\u001b[36mCell\u001b[39m\u001b[36m \u001b[39m\u001b[32mIn[12]\u001b[39m\u001b[32m, line 9\u001b[39m\n\u001b[32m      8\u001b[39m \u001b[38;5;66;03m# 센서 원시 전압값\u001b[39;00m\n\u001b[32m----> \u001b[39m\u001b[32m9\u001b[39m v_raw = \u001b[43mvoltage_ch\u001b[49m\u001b[43m.\u001b[49m\u001b[43mvoltage\u001b[49m\n\u001b[32m     10\u001b[39m c_raw = current_ch.voltage\n",
      "\u001b[36mFile \u001b[39m\u001b[32m~/powerenv/lib/python3.11/site-packages/adafruit_ads1x15/analog_in.py:64\u001b[39m, in \u001b[36mAnalogIn.voltage\u001b[39m\u001b[34m(self)\u001b[39m\n\u001b[32m     63\u001b[39m \u001b[38;5;250m\u001b[39m\u001b[33;03m\"\"\"Returns the voltage from the ADC pin as a floating point value.\"\"\"\u001b[39;00m\n\u001b[32m---> \u001b[39m\u001b[32m64\u001b[39m volts = \u001b[38;5;28mself\u001b[39m.convert_to_voltage(\u001b[38;5;28;43mself\u001b[39;49m\u001b[43m.\u001b[49m\u001b[43mvalue\u001b[49m)\n\u001b[32m     65\u001b[39m \u001b[38;5;28;01mreturn\u001b[39;00m volts\n",
      "\u001b[36mFile \u001b[39m\u001b[32m~/powerenv/lib/python3.11/site-packages/adafruit_ads1x15/analog_in.py:59\u001b[39m, in \u001b[36mAnalogIn.value\u001b[39m\u001b[34m(self)\u001b[39m\n\u001b[32m     58\u001b[39m pin = \u001b[38;5;28mself\u001b[39m._pin_setting \u001b[38;5;28;01mif\u001b[39;00m \u001b[38;5;28mself\u001b[39m.is_differential \u001b[38;5;28;01melse\u001b[39;00m \u001b[38;5;28mself\u001b[39m._pin_setting + \u001b[32m0x04\u001b[39m\n\u001b[32m---> \u001b[39m\u001b[32m59\u001b[39m \u001b[38;5;28;01mreturn\u001b[39;00m \u001b[38;5;28;43mself\u001b[39;49m\u001b[43m.\u001b[49m\u001b[43m_ads\u001b[49m\u001b[43m.\u001b[49m\u001b[43mread\u001b[49m\u001b[43m(\u001b[49m\u001b[43mpin\u001b[49m\u001b[43m)\u001b[49m\n",
      "\u001b[36mFile \u001b[39m\u001b[32m~/powerenv/lib/python3.11/site-packages/adafruit_ads1x15/ads1x15.py:337\u001b[39m, in \u001b[36mADS1x15.read\u001b[39m\u001b[34m(self, pin)\u001b[39m\n\u001b[32m    332\u001b[39m \u001b[38;5;250m\u001b[39m\u001b[33;03m\"\"\"I2C Interface for ADS1x15-based ADCs reads.\u001b[39;00m\n\u001b[32m    333\u001b[39m \n\u001b[32m    334\u001b[39m \u001b[33;03m:param ~microcontroller.Pin pin: individual or differential pin.\u001b[39;00m\n\u001b[32m    335\u001b[39m \u001b[33;03m:param bool is_differential: single-ended or differential read.\u001b[39;00m\n\u001b[32m    336\u001b[39m \u001b[33;03m\"\"\"\u001b[39;00m\n\u001b[32m--> \u001b[39m\u001b[32m337\u001b[39m \u001b[38;5;28;01mreturn\u001b[39;00m \u001b[38;5;28;43mself\u001b[39;49m\u001b[43m.\u001b[49m\u001b[43m_read\u001b[49m\u001b[43m(\u001b[49m\u001b[43mpin\u001b[49m\u001b[43m)\u001b[49m\n",
      "\u001b[36mFile \u001b[39m\u001b[32m~/powerenv/lib/python3.11/site-packages/adafruit_ads1x15/ads1x15.py:369\u001b[39m, in \u001b[36mADS1x15._read\u001b[39m\u001b[34m(self, pin)\u001b[39m\n\u001b[32m    367\u001b[39m \u001b[38;5;28;01mif\u001b[39;00m \u001b[38;5;28mself\u001b[39m.mode == Mode.SINGLE:\n\u001b[32m    368\u001b[39m     \u001b[38;5;66;03m# Continuously poll conversion complete status bit\u001b[39;00m\n\u001b[32m--> \u001b[39m\u001b[32m369\u001b[39m     \u001b[38;5;28;01mwhile\u001b[39;00m \u001b[38;5;129;01mnot\u001b[39;00m \u001b[38;5;28;43mself\u001b[39;49m\u001b[43m.\u001b[49m\u001b[43m_conversion_complete\u001b[49m\u001b[43m(\u001b[49m\u001b[43m)\u001b[49m:\n\u001b[32m    370\u001b[39m         \u001b[38;5;28;01mpass\u001b[39;00m\n",
      "\u001b[36mFile \u001b[39m\u001b[32m~/powerenv/lib/python3.11/site-packages/adafruit_ads1x15/ads1x15.py:383\u001b[39m, in \u001b[36mADS1x15._conversion_complete\u001b[39m\u001b[34m(self)\u001b[39m\n\u001b[32m    380\u001b[39m \u001b[38;5;66;03m# OS is bit 15\u001b[39;00m\n\u001b[32m    381\u001b[39m \u001b[38;5;66;03m# OS = 0: Device is currently performing a conversion\u001b[39;00m\n\u001b[32m    382\u001b[39m \u001b[38;5;66;03m# OS = 1: Device is not currently performing a conversion\u001b[39;00m\n\u001b[32m--> \u001b[39m\u001b[32m383\u001b[39m \u001b[38;5;28;01mreturn\u001b[39;00m \u001b[38;5;28;43mself\u001b[39;49m\u001b[43m.\u001b[49m\u001b[43m_read_register\u001b[49m\u001b[43m(\u001b[49m\u001b[43m_ADS1X15_POINTER_CONFIG\u001b[49m\u001b[43m)\u001b[49m & \u001b[32m0x8000\u001b[39m\n",
      "\u001b[36mFile \u001b[39m\u001b[32m~/powerenv/lib/python3.11/site-packages/adafruit_ads1x15/ads1x15.py:409\u001b[39m, in \u001b[36mADS1x15._read_register\u001b[39m\u001b[34m(self, reg, fast)\u001b[39m\n\u001b[32m    408\u001b[39m     \u001b[38;5;28;01melse\u001b[39;00m:\n\u001b[32m--> \u001b[39m\u001b[32m409\u001b[39m         \u001b[43mi2c\u001b[49m\u001b[43m.\u001b[49m\u001b[43mwrite_then_readinto\u001b[49m\u001b[43m(\u001b[49m\u001b[38;5;28;43mbytearray\u001b[39;49m\u001b[43m(\u001b[49m\u001b[43m[\u001b[49m\u001b[43mreg\u001b[49m\u001b[43m]\u001b[49m\u001b[43m)\u001b[49m\u001b[43m,\u001b[49m\u001b[43m \u001b[49m\u001b[38;5;28;43mself\u001b[39;49m\u001b[43m.\u001b[49m\u001b[43mbuf\u001b[49m\u001b[43m,\u001b[49m\u001b[43m \u001b[49m\u001b[43min_end\u001b[49m\u001b[43m=\u001b[49m\u001b[32;43m2\u001b[39;49m\u001b[43m)\u001b[49m\n\u001b[32m    410\u001b[39m \u001b[38;5;28;01mreturn\u001b[39;00m \u001b[38;5;28mself\u001b[39m.buf[\u001b[32m0\u001b[39m] << \u001b[32m8\u001b[39m | \u001b[38;5;28mself\u001b[39m.buf[\u001b[32m1\u001b[39m]\n",
      "\u001b[36mFile \u001b[39m\u001b[32m~/powerenv/lib/python3.11/site-packages/adafruit_bus_device/i2c_device.py:140\u001b[39m, in \u001b[36mI2CDevice.write_then_readinto\u001b[39m\u001b[34m(self, out_buffer, in_buffer, out_start, out_end, in_start, in_end)\u001b[39m\n\u001b[32m    138\u001b[39m     in_end = \u001b[38;5;28mlen\u001b[39m(in_buffer)\n\u001b[32m--> \u001b[39m\u001b[32m140\u001b[39m \u001b[38;5;28;43mself\u001b[39;49m\u001b[43m.\u001b[49m\u001b[43mi2c\u001b[49m\u001b[43m.\u001b[49m\u001b[43mwriteto_then_readfrom\u001b[49m\u001b[43m(\u001b[49m\n\u001b[32m    141\u001b[39m \u001b[43m    \u001b[49m\u001b[38;5;28;43mself\u001b[39;49m\u001b[43m.\u001b[49m\u001b[43mdevice_address\u001b[49m\u001b[43m,\u001b[49m\n\u001b[32m    142\u001b[39m \u001b[43m    \u001b[49m\u001b[43mout_buffer\u001b[49m\u001b[43m,\u001b[49m\n\u001b[32m    143\u001b[39m \u001b[43m    \u001b[49m\u001b[43min_buffer\u001b[49m\u001b[43m,\u001b[49m\n\u001b[32m    144\u001b[39m \u001b[43m    \u001b[49m\u001b[43mout_start\u001b[49m\u001b[43m=\u001b[49m\u001b[43mout_start\u001b[49m\u001b[43m,\u001b[49m\n\u001b[32m    145\u001b[39m \u001b[43m    \u001b[49m\u001b[43mout_end\u001b[49m\u001b[43m=\u001b[49m\u001b[43mout_end\u001b[49m\u001b[43m,\u001b[49m\n\u001b[32m    146\u001b[39m \u001b[43m    \u001b[49m\u001b[43min_start\u001b[49m\u001b[43m=\u001b[49m\u001b[43min_start\u001b[49m\u001b[43m,\u001b[49m\n\u001b[32m    147\u001b[39m \u001b[43m    \u001b[49m\u001b[43min_end\u001b[49m\u001b[43m=\u001b[49m\u001b[43min_end\u001b[49m\u001b[43m,\u001b[49m\n\u001b[32m    148\u001b[39m \u001b[43m\u001b[49m\u001b[43m)\u001b[49m\n",
      "\u001b[36mFile \u001b[39m\u001b[32m~/powerenv/lib/python3.11/site-packages/busio.py:232\u001b[39m, in \u001b[36mI2C.writeto_then_readfrom\u001b[39m\u001b[34m(self, address, buffer_out, buffer_in, out_start, out_end, in_start, in_end, stop)\u001b[39m\n\u001b[32m    229\u001b[39m \u001b[38;5;250m\u001b[39m\u001b[33;03m\"\"\" \"Write to a device at specified address from a buffer then read\u001b[39;00m\n\u001b[32m    230\u001b[39m \u001b[33;03mfrom a device at specified address into a buffer\u001b[39;00m\n\u001b[32m    231\u001b[39m \u001b[33;03m\"\"\"\u001b[39;00m\n\u001b[32m--> \u001b[39m\u001b[32m232\u001b[39m \u001b[38;5;28;01mreturn\u001b[39;00m \u001b[38;5;28;43mself\u001b[39;49m\u001b[43m.\u001b[49m\u001b[43m_i2c\u001b[49m\u001b[43m.\u001b[49m\u001b[43mwriteto_then_readfrom\u001b[49m\u001b[43m(\u001b[49m\n\u001b[32m    233\u001b[39m \u001b[43m    \u001b[49m\u001b[43maddress\u001b[49m\u001b[43m,\u001b[49m\n\u001b[32m    234\u001b[39m \u001b[43m    \u001b[49m\u001b[43mbuffer_out\u001b[49m\u001b[43m,\u001b[49m\n\u001b[32m    235\u001b[39m \u001b[43m    \u001b[49m\u001b[43mbuffer_in\u001b[49m\u001b[43m,\u001b[49m\n\u001b[32m    236\u001b[39m \u001b[43m    \u001b[49m\u001b[43mout_start\u001b[49m\u001b[43m=\u001b[49m\u001b[43mout_start\u001b[49m\u001b[43m,\u001b[49m\n\u001b[32m    237\u001b[39m \u001b[43m    \u001b[49m\u001b[43mout_end\u001b[49m\u001b[43m=\u001b[49m\u001b[43mout_end\u001b[49m\u001b[43m,\u001b[49m\n\u001b[32m    238\u001b[39m \u001b[43m    \u001b[49m\u001b[43min_start\u001b[49m\u001b[43m=\u001b[49m\u001b[43min_start\u001b[49m\u001b[43m,\u001b[49m\n\u001b[32m    239\u001b[39m \u001b[43m    \u001b[49m\u001b[43min_end\u001b[49m\u001b[43m=\u001b[49m\u001b[43min_end\u001b[49m\u001b[43m,\u001b[49m\n\u001b[32m    240\u001b[39m \u001b[43m    \u001b[49m\u001b[43mstop\u001b[49m\u001b[43m=\u001b[49m\u001b[43mstop\u001b[49m\u001b[43m,\u001b[49m\n\u001b[32m    241\u001b[39m \u001b[43m\u001b[49m\u001b[43m)\u001b[49m\n",
      "\u001b[36mFile \u001b[39m\u001b[32m~/powerenv/lib/python3.11/site-packages/adafruit_blinka/microcontroller/generic_linux/i2c.py:98\u001b[39m, in \u001b[36mI2C.writeto_then_readfrom\u001b[39m\u001b[34m(self, address, buffer_out, buffer_in, out_start, out_end, in_start, in_end, stop)\u001b[39m\n\u001b[32m     96\u001b[39m \u001b[38;5;28;01melse\u001b[39;00m:\n\u001b[32m     97\u001b[39m     \u001b[38;5;66;03m# To generate without a stop, do in one block transaction\u001b[39;00m\n\u001b[32m---> \u001b[39m\u001b[32m98\u001b[39m     readin = \u001b[38;5;28;43mself\u001b[39;49m\u001b[43m.\u001b[49m\u001b[43m_i2c_bus\u001b[49m\u001b[43m.\u001b[49m\u001b[43mread_i2c_block_data\u001b[49m\u001b[43m(\u001b[49m\n\u001b[32m     99\u001b[39m \u001b[43m        \u001b[49m\u001b[43maddress\u001b[49m\u001b[43m,\u001b[49m\u001b[43m \u001b[49m\u001b[43mbuffer_out\u001b[49m\u001b[43m[\u001b[49m\u001b[43mout_start\u001b[49m\u001b[43m:\u001b[49m\u001b[43mout_end\u001b[49m\u001b[43m]\u001b[49m\u001b[43m,\u001b[49m\u001b[43m \u001b[49m\u001b[43min_end\u001b[49m\u001b[43m \u001b[49m\u001b[43m-\u001b[49m\u001b[43m \u001b[49m\u001b[43min_start\u001b[49m\n\u001b[32m    100\u001b[39m \u001b[43m    \u001b[49m\u001b[43m)\u001b[49m\n\u001b[32m    101\u001b[39m     \u001b[38;5;28;01mfor\u001b[39;00m i \u001b[38;5;129;01min\u001b[39;00m \u001b[38;5;28mrange\u001b[39m(in_end - in_start):\n",
      "\u001b[36mFile \u001b[39m\u001b[32m~/powerenv/lib/python3.11/site-packages/Adafruit_PureIO/smbus.py:264\u001b[39m, in \u001b[36mSMBus.read_i2c_block_data\u001b[39m\u001b[34m(self, addr, cmd, length)\u001b[39m\n\u001b[32m    263\u001b[39m \u001b[38;5;66;03m# Make ioctl call and return result data.\u001b[39;00m\n\u001b[32m--> \u001b[39m\u001b[32m264\u001b[39m ioctl(\u001b[38;5;28mself\u001b[39m._device.fileno(), I2C_RDWR, request)\n\u001b[32m    265\u001b[39m \u001b[38;5;28;01mreturn\u001b[39;00m \u001b[38;5;28mbytearray\u001b[39m(\n\u001b[32m    266\u001b[39m     result.raw\n\u001b[32m    267\u001b[39m )\n",
      "\u001b[31mOSError\u001b[39m: [Errno 5] Input/output error",
      "\nDuring handling of the above exception, another exception occurred:\n",
      "\u001b[31mNameError\u001b[39m                                 Traceback (most recent call last)",
      "\u001b[36mCell\u001b[39m\u001b[36m \u001b[39m\u001b[32mIn[12]\u001b[39m\u001b[32m, line 35\u001b[39m\n\u001b[32m     31\u001b[39m             data = []\n\u001b[32m     33\u001b[39m         time.sleep(\u001b[32m0.00001\u001b[39m)  \u001b[38;5;66;03m# 100kHz → 0.01ms 간격\u001b[39;00m\n\u001b[32m---> \u001b[39m\u001b[32m35\u001b[39m \u001b[38;5;28;01mexcept\u001b[39;00m \u001b[43mKeyboardIncterrupt\u001b[49m:\n\u001b[32m     36\u001b[39m     \u001b[38;5;28mprint\u001b[39m(\u001b[33m\"\u001b[39m\u001b[33m측정 중단됨\u001b[39m\u001b[33m\"\u001b[39m)\n",
      "\u001b[31mNameError\u001b[39m: name 'KeyboardIncterrupt' is not defined"
     ]
    }
   ],
   "source": [
    "data = []\n",
    "count = 0\n",
    "\n",
    "try:\n",
    "    while True:\n",
    "        now = time.time()\n",
    "\n",
    "        # 센서 원시 전압값\n",
    "        v_raw = voltage_ch.voltage\n",
    "        c_raw = current_ch.voltage\n",
    "\n",
    "        # 보정 계산\n",
    "        real_voltage = (v_raw - ZMPT_offset) * ZMPT_scale\n",
    "        real_current = (c_raw - ACS712_offset) / ACS712_sensitivity\n",
    "\n",
    "        data.append([now, v_raw, c_raw, real_voltage, real_current])\n",
    "        count += 1\n",
    "\n",
    "        # 매 100개마다 CSV로 저장 및 보정 확인 로그 출력\n",
    "        if len(data) >= 100:\n",
    "            df = pd.DataFrame(data, columns=['timestamp', 'v_raw', 'c_raw', 'voltage(V)', 'current(A)'])\n",
    "\n",
    "            # 파일 저장\n",
    "            df.to_csv(\"raw_normal_dataset1.csv\", mode='a', index=False, header=False)\n",
    "\n",
    "            # 보정값 평균 확인 (로그)\n",
    "            print(f\"[{count}] Mean raw V: {df['v_raw'].mean():.3f}, Mean raw C: {df['c_raw'].mean():.3f}\")\n",
    "            print(f\"     Mean Real Voltage(V): {df['voltage(V)'].mean():.2f}, Current(A): {df['current(A)'].mean():.2f}\")\n",
    "            print(\"-\" * 60)\n",
    "\n",
    "            data = []\n",
    "\n",
    "        time.sleep(0.00001)  # 100kHz → 0.01ms 간격\n",
    "\n",
    "except KeyboardInterrupt:\n",
    "    print(\"🛑 실시간 감지를 종료합니다.\")\n",
    "    pass"
   ]
  }
 ],
 "metadata": {
  "kernelspec": {
   "display_name": "powerenv",
   "language": "python",
   "name": "python3"
  },
  "language_info": {
   "codemirror_mode": {
    "name": "ipython",
    "version": 3
   },
   "file_extension": ".py",
   "mimetype": "text/x-python",
   "name": "python",
   "nbconvert_exporter": "python",
   "pygments_lexer": "ipython3",
   "version": "3.11.2"
  }
 },
 "nbformat": 4,
 "nbformat_minor": 5
}
