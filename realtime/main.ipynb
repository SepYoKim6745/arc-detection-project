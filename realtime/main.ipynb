{
 "cells": [
  {
   "cell_type": "markdown",
   "id": "72e6ff18",
   "metadata": {},
   "source": [
    "# 라즈베리파이 실시간 전압/전류 측정\n",
    "\n",
    "## ⚙ 구성\n",
    "|항목|모델명|용도|\n",
    "|-------|-------|-------|\n",
    "전압 측정|ZMPT101B|220V 전압 감지(출력: 아날로그)\n",
    "전류 측정|ACS712 (5A/20A/30A)|부하 전류 감지 (출력: 아날로그)\n",
    "ADC|ADS1115|아날로그 센서 → 디지털 신호로 변환\n",
    "저장 형식|CSV|전처리 용이, 속도 빠름\n",
    "측정 주기|100Hz(10ms 간격, 일반 논문에서 자주 사용)\n",
    "\n",
    "## 🧠 흐름\n",
    "- ZMPT101B & ACS712 (Analog)\n",
    "- ADS1115 (I2C → Raspberry Pi)\n",
    "- 실시간 측정 (0.01초 간격)\n",
    "- CSV 파일로 저장\n",
    "\n",
    "## ⚠️ 참고사항\n",
    "- ACS712 전류 변환 공식: `current (A) = (measured_voltage - Vcc/2) / sensitivity` (예: 20A 모델은 100mV/A, Vcc=5V일 때 2.5V 중심 기준)\n",
    "- ZMPT101B도 보정이 필요하지만, 일단 상대적 변화 감지용으로도 사용 가능"
   ]
  },
  {
   "cell_type": "code",
   "execution_count": 1,
   "id": "fc2543e4",
   "metadata": {},
   "outputs": [
    {
     "ename": "ModuleNotFoundError",
     "evalue": "No module named 'board'",
     "output_type": "error",
     "traceback": [
      "\u001b[0;31m---------------------------------------------------------------------------\u001b[0m",
      "\u001b[0;31mModuleNotFoundError\u001b[0m                       Traceback (most recent call last)",
      "Cell \u001b[0;32mIn[1], line 2\u001b[0m\n\u001b[1;32m      1\u001b[0m \u001b[38;5;28;01mimport\u001b[39;00m\u001b[38;5;250m \u001b[39m\u001b[38;5;21;01mtime\u001b[39;00m\n\u001b[0;32m----> 2\u001b[0m \u001b[38;5;28;01mimport\u001b[39;00m\u001b[38;5;250m \u001b[39m\u001b[38;5;21;01mboard\u001b[39;00m\n\u001b[1;32m      3\u001b[0m \u001b[38;5;28;01mimport\u001b[39;00m\u001b[38;5;250m \u001b[39m\u001b[38;5;21;01mbusio\u001b[39;00m\n\u001b[1;32m      4\u001b[0m \u001b[38;5;28;01mimport\u001b[39;00m\u001b[38;5;250m \u001b[39m\u001b[38;5;21;01madafruit_ads1x15\u001b[39;00m\u001b[38;5;21;01m.\u001b[39;00m\u001b[38;5;21;01mads1115\u001b[39;00m\u001b[38;5;250m \u001b[39m\u001b[38;5;28;01mas\u001b[39;00m\u001b[38;5;250m \u001b[39m\u001b[38;5;21;01mADS\u001b[39;00m\n",
      "\u001b[0;31mModuleNotFoundError\u001b[0m: No module named 'board'"
     ]
    }
   ],
   "source": [
    "import time\n",
    "import board\n",
    "import busio\n",
    "import adafruit_ads1x15.ads1115 as ADS\n",
    "from adafruit_ads1x15.analog_in import AnalogIn\n",
    "import pandas as pd\n",
    "import numpy as np"
   ]
  },
  {
   "cell_type": "code",
   "execution_count": 2,
   "id": "bdb8e542",
   "metadata": {},
   "outputs": [
    {
     "ename": "NameError",
     "evalue": "name 'busio' is not defined",
     "output_type": "error",
     "traceback": [
      "\u001b[0;31m---------------------------------------------------------------------------\u001b[0m",
      "\u001b[0;31mNameError\u001b[0m                                 Traceback (most recent call last)",
      "Cell \u001b[0;32mIn[2], line 2\u001b[0m\n\u001b[1;32m      1\u001b[0m \u001b[38;5;66;03m# I2C 및 ADC 설정\u001b[39;00m\n\u001b[0;32m----> 2\u001b[0m i2c \u001b[38;5;241m=\u001b[39m \u001b[43mbusio\u001b[49m\u001b[38;5;241m.\u001b[39mI2C(board\u001b[38;5;241m.\u001b[39mSCL, board\u001b[38;5;241m.\u001b[39mSDA)\n\u001b[1;32m      3\u001b[0m ads \u001b[38;5;241m=\u001b[39m ADS\u001b[38;5;241m.\u001b[39mADS1115(i2c)\n\u001b[1;32m      4\u001b[0m ads\u001b[38;5;241m.\u001b[39mgain \u001b[38;5;241m=\u001b[39m \u001b[38;5;241m1\u001b[39m  \u001b[38;5;66;03m# 1: ±4.096V 범위 (ZMPT, ACS712에 적절)\u001b[39;00m\n",
      "\u001b[0;31mNameError\u001b[0m: name 'busio' is not defined"
     ]
    }
   ],
   "source": [
    "# I2C 및 ADC 설정\n",
    "i2c = busio.I2C(board.SCL, board.SDA)\n",
    "ads = ADS.ADS1115(i2c)\n",
    "ads.gain = 1  # 1: ±4.096V 범위 (ZMPT, ACS712에 적절)\n",
    "\n",
    "# 센서 채널 지정\n",
    "voltage_ch = AnalogIn(ads, ADS.P0)\n",
    "current_ch = AnalogIn(ads, ADS.P1)\n",
    "\n",
    "# 보정 파라미터 (초기값)\n",
    "ZMPT_offset = 1.65           # ZMPT101B 기준 중심값\n",
    "ZMPT_scale = 57.14           # 실험 필요\n",
    "\n",
    "ACS712_offset = 2.5          # 0A일 때 출력 기준 (Vcc=5V 기준)\n",
    "ACS712_sensitivity = 0.1     # 100mV/A (20A 버전 기준)"
   ]
  },
  {
   "cell_type": "code",
   "execution_count": null,
   "id": "fafc73c7",
   "metadata": {},
   "outputs": [],
   "source": [
    "data = []\n",
    "count = 0\n",
    "\n",
    "try:\n",
    "    while True:\n",
    "        now = time.time()\n",
    "\n",
    "        # 센서 원시 전압값\n",
    "        v_raw = voltage_ch.voltage\n",
    "        c_raw = current_ch.voltage\n",
    "\n",
    "        # 보정 계산\n",
    "        real_voltage = (v_raw - ZMPT_offset) * ZMPT_scale\n",
    "        real_current = (c_raw - ACS712_offset) / ACS712_sensitivity\n",
    "\n",
    "        data.append([now, v_raw, c_raw, real_voltage, real_current])\n",
    "        count += 1\n",
    "\n",
    "        # 매 100개마다 CSV로 저장 및 보정 확인 로그 출력\n",
    "        if len(data) >= 100:\n",
    "            df = pd.DataFrame(data, columns=['timestamp', 'v_raw', 'c_raw', 'voltage(V)', 'current(A)'])\n",
    "\n",
    "            # 파일 저장\n",
    "            df.to_csv(\"raw_normal_dataset.csv\", mode='a', index=False, header=False)\n",
    "\n",
    "            # 보정값 평균 확인 (로그)\n",
    "            print(f\"[{count}] Mean raw V: {df['v_raw'].mean():.3f}, Mean raw C: {df['c_raw'].mean():.3f}\")\n",
    "            print(f\"     Mean Real Voltage(V): {df['voltage(V)'].mean():.2f}, Current(A): {df['current(A)'].mean():.2f}\")\n",
    "            print(\"-\" * 60)\n",
    "\n",
    "            data = []\n",
    "\n",
    "        time.sleep(0.00001)  # 100kHz → 0.01ms 간격\n",
    "\n",
    "except KeyboardInterrupt:\n",
    "    print(\"측정 중단됨\")"
   ]
  }
 ],
 "metadata": {
  "kernelspec": {
   "display_name": "powerenv",
   "language": "python",
   "name": "python3"
  },
  "language_info": {
   "codemirror_mode": {
    "name": "ipython",
    "version": 3
   },
   "file_extension": ".py",
   "mimetype": "text/x-python",
   "name": "python",
   "nbconvert_exporter": "python",
   "pygments_lexer": "ipython3",
   "version": "3.10.17"
  }
 },
 "nbformat": 4,
 "nbformat_minor": 5
}
