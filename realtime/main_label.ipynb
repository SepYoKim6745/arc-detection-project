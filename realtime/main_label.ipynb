{
 "cells": [
  {
   "cell_type": "markdown",
   "id": "72e6ff18",
   "metadata": {},
   "source": [
    "# 라즈베리파이 실시간 전압/전류 측정\n",
    "\n",
    "## ⚙ 구성\n",
    "|항목|모델명|용도|\n",
    "|-------|-------|-------|\n",
    "전압 측정|ZMPT101B|220V 전압 감지(출력: 아날로그)\n",
    "전류 측정|ACS712 (5A/20A/30A)|부하 전류 감지 (출력: 아날로그)\n",
    "ADC|ADS1115|아날로그 센서 → 디지털 신호로 변환\n",
    "저장 형식|CSV|전처리 용이, 속도 빠름\n",
    "측정 주기|100Hz(10ms 간격, 일반 논문에서 자주 사용)\n",
    "\n",
    "## 🧠 흐름\n",
    "- ZMPT101B & ACS712 (Analog)\n",
    "- ADS1115 (I2C → Raspberry Pi)\n",
    "- 실시간 측정 (0.01초 간격)\n",
    "- CSV 파일로 저장\n",
    "\n",
    "## ⚠️ 참고사항\n",
    "- ACS712 전류 변환 공식: `current (A) = (measured_voltage - Vcc/2) / sensitivity` (예: 20A 모델은 100mV/A, Vcc=5V일 때 2.5V 중심 기준)\n",
    "- ZMPT101B도 보정이 필요하지만, 일단 상대적 변화 감지용으로도 사용 가능"
   ]
  },
  {
   "cell_type": "code",
   "execution_count": 10,
   "id": "fc2543e4",
   "metadata": {},
   "outputs": [],
   "source": [
    "import time\n",
    "import board\n",
    "import busio\n",
    "import adafruit_ads1x15.ads1115 as ADS\n",
    "from adafruit_ads1x15.analog_in import AnalogIn\n",
    "import pandas as pd\n",
    "import numpy as np"
   ]
  },
  {
   "cell_type": "code",
   "execution_count": 11,
   "id": "bdb8e542",
   "metadata": {},
   "outputs": [],
   "source": [
    "# I2C 및 ADC 설정\n",
    "i2c = busio.I2C(board.SCL, board.SDA)\n",
    "ads = ADS.ADS1115(i2c)\n",
    "ads.gain = 1  # 1: ±4.096V 범위 (ZMPT, ACS712에 적절)\n",
    "\n",
    "# 센서 채널 지정\n",
    "voltage_ch = AnalogIn(ads, ADS.P0)\n",
    "current_ch = AnalogIn(ads, ADS.P1)\n",
    "\n",
    "# # 보정 파라미터 (초기값)\n",
    "# ZMPT_offset = 2.510\n",
    "# ZMPT_scale = 941.68\n",
    "\n",
    "# ACS712_offset = 2.552\n",
    "# ACS712_sensitivity = 0.0925\n",
    "\n",
    "# 센서 기준 오프셋\n",
    "ZMPT_offset = 2.554\n",
    "ZMPT_scale = 1000.0     # → 나중에 부하 걸고 조정 예정\n",
    "\n",
    "ACS712_offset = 2.508\n",
    "ACS712_sensitivity = 0.1  # 또는 0.05"
   ]
  },
  {
   "cell_type": "code",
   "execution_count": 14,
   "id": "fafc73c7",
   "metadata": {},
   "outputs": [
    {
     "name": "stdout",
     "output_type": "stream",
     "text": [
      "[100] Mean Voltage: 6.35, Current: -18.37, Abnormal Count: 0\n",
      "------------------------------------------------------------\n",
      "⚠️ I2C 통신 오류 발생: [Errno 5] Input/output error\n",
      "[200] Mean Voltage: 7.72, Current: -18.44, Abnormal Count: 1\n",
      "------------------------------------------------------------\n",
      "[300] Mean Voltage: 4.80, Current: -19.15, Abnormal Count: 0\n",
      "------------------------------------------------------------\n",
      "[400] Mean Voltage: 5.04, Current: -19.16, Abnormal Count: 0\n",
      "------------------------------------------------------------\n",
      "[500] Mean Voltage: 4.38, Current: -19.15, Abnormal Count: 0\n",
      "------------------------------------------------------------\n",
      "[600] Mean Voltage: 3.88, Current: -18.94, Abnormal Count: 0\n",
      "------------------------------------------------------------\n",
      "[700] Mean Voltage: 6.75, Current: -18.35, Abnormal Count: 0\n",
      "------------------------------------------------------------\n",
      "🛑 실시간 감지를 종료합니다.\n"
     ]
    }
   ],
   "source": [
    "data = []\n",
    "count = 0\n",
    "\n",
    "try:\n",
    "    while True:\n",
    "        now = time.time()\n",
    "        label = 0  # 기본은 정상\n",
    "\n",
    "        try:\n",
    "            # 센서 원시 전압값 (정상)\n",
    "            v_raw = voltage_ch.voltage\n",
    "            c_raw = current_ch.voltage\n",
    "\n",
    "            # 보정 계산\n",
    "            real_voltage = (v_raw - ZMPT_offset) * ZMPT_scale\n",
    "            real_current = (c_raw - ACS712_offset) / ACS712_sensitivity\n",
    "\n",
    "        except OSError as e:\n",
    "            print(f\"⚠️ I2C 통신 오류 발생: {e}\")\n",
    "            v_raw, c_raw = np.nan, np.nan\n",
    "            real_voltage, real_current = np.nan, np.nan\n",
    "            label = 1  # 아크 감지\n",
    "\n",
    "        data.append([now, v_raw, c_raw, real_voltage, real_current, label])\n",
    "        count += 1\n",
    "\n",
    "        # 매 100개마다 CSV로 저장\n",
    "        if len(data) >= 100:\n",
    "            df = pd.DataFrame(data, columns=['timestamp', 'v_raw', 'c_raw', 'voltage(V)', 'current(A)', 'label'])\n",
    "\n",
    "            # 파일 저장\n",
    "            # df.to_csv(\"raw_normal_dataset(860hz)_label.csv\", mode='a', index=False, header=False)\n",
    "            df.to_csv(\"raw_normal_dataset(860hz)_label_no_current.csv\", mode='a', index=False, header=False)\n",
    "\n",
    "            # 로그 출력\n",
    "            print(f\"[{count}] Mean Voltage: {df['voltage(V)'].mean():.2f}, Current: {df['current(A)'].mean():.2f}, Abnormal Count: {df['label'].sum()}\")\n",
    "            print(\"-\" * 60)\n",
    "\n",
    "            data = []\n",
    "\n",
    "        time.sleep(0.001163)\n",
    "except KeyboardInterrupt:\n",
    "    print(\"🛑 실시간 감지를 종료합니다.\")"
   ]
  },
  {
   "cell_type": "code",
   "execution_count": null,
   "id": "d4228ba5",
   "metadata": {},
   "outputs": [],
   "source": []
  }
 ],
 "metadata": {
  "kernelspec": {
   "display_name": "powerenv",
   "language": "python",
   "name": "python3"
  },
  "language_info": {
   "codemirror_mode": {
    "name": "ipython",
    "version": 3
   },
   "file_extension": ".py",
   "mimetype": "text/x-python",
   "name": "python",
   "nbconvert_exporter": "python",
   "pygments_lexer": "ipython3",
   "version": "3.11.2"
  }
 },
 "nbformat": 4,
 "nbformat_minor": 5
}
