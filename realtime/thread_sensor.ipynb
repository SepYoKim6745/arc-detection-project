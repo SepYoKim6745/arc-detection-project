{
 "cells": [
  {
   "cell_type": "code",
   "execution_count": 1,
   "id": "1f6de08d",
   "metadata": {},
   "outputs": [],
   "source": [
    "import time\n",
    "import board\n",
    "import busio\n",
    "import adafruit_ads1x15.ads1115 as ADS\n",
    "from adafruit_ads1x15.analog_in import AnalogIn\n",
    "import pandas as pd\n",
    "import numpy as np\n",
    "import threading"
   ]
  },
  {
   "cell_type": "code",
   "execution_count": 2,
   "id": "4952c692",
   "metadata": {},
   "outputs": [],
   "source": [
    "# I2C 및 ADC 설정\n",
    "i2c = busio.I2C(board.SCL, board.SDA)\n",
    "ads = ADS.ADS1115(i2c)\n",
    "ads.gain = 1  # 1: ±4.096V 범위 (ZMPT, ACS712에 적절)\n",
    "\n",
    "# 센서 채널 지정\n",
    "voltage_ch = AnalogIn(ads, ADS.P0)\n",
    "current_ch = AnalogIn(ads, ADS.P1)\n",
    "\n",
    "# 보정 파라미터 (초기값)\n",
    "ZMPT_offset = 2.510\n",
    "ZMPT_scale = 941.68\n",
    "\n",
    "ACS712_offset = 2.552\n",
    "ACS712_sensitivity = 0.0925"
   ]
  },
  {
   "cell_type": "code",
   "execution_count": 3,
   "id": "68fd4d27",
   "metadata": {},
   "outputs": [],
   "source": [
    "# 데이터 저장 함수 (스레드에서 실행됨)\n",
    "def save_data_async(data_chunk, count):\n",
    "    df = pd.DataFrame(data_chunk, columns=['timestamp', 'v_raw', 'c_raw', 'voltage(V)', 'current(A)'])\n",
    "    df.to_csv(\"thread_raw_normal_dataset.csv\", mode='a', index=False, header=False)\n",
    "\n",
    "    # 평균 로그 출력\n",
    "    print(f\"[{count}] Mean raw V: {df['v_raw'].mean():.3f}, Mean raw C: {df['c_raw'].mean():.3f}\")\n",
    "    print(f\"     Mean Real Voltage(V): {df['voltage(V)'].mean():.2f}, Current(A): {df['current(A)'].mean():.2f}\")\n",
    "    print(\"-\" * 60)"
   ]
  },
  {
   "cell_type": "code",
   "execution_count": 4,
   "id": "a1120399",
   "metadata": {},
   "outputs": [
    {
     "name": "stdout",
     "output_type": "stream",
     "text": [
      "🟢 실시간 센서 감지 시작... (Ctrl+C로 종료)\n",
      "[100] Mean raw V: 2.553, Mean raw C: 2.508\n",
      "     Mean Real Voltage(V): 40.12, Current(A): -0.47\n",
      "------------------------------------------------------------\n",
      "[200] Mean raw V: 2.556, Mean raw C: 2.508\n",
      "     Mean Real Voltage(V): 43.73, Current(A): -0.48\n",
      "------------------------------------------------------------\n",
      "[300] Mean raw V: 2.560, Mean raw C: 2.508\n",
      "     Mean Real Voltage(V): 46.70, Current(A): -0.48\n",
      "------------------------------------------------------------\n",
      "[400] Mean raw V: 2.558, Mean raw C: 2.508\n",
      "     Mean Real Voltage(V): 44.99, Current(A): -0.48\n",
      "------------------------------------------------------------\n",
      "[500] Mean raw V: 2.554, Mean raw C: 2.507\n",
      "     Mean Real Voltage(V): 41.82, Current(A): -0.48\n",
      "------------------------------------------------------------\n",
      "[600] Mean raw V: 2.555, Mean raw C: 2.508\n",
      "     Mean Real Voltage(V): 42.25, Current(A): -0.47\n",
      "------------------------------------------------------------\n",
      "[700] Mean raw V: 2.554, Mean raw C: 2.507\n",
      "     Mean Real Voltage(V): 41.90, Current(A): -0.48\n",
      "------------------------------------------------------------\n",
      "🛑 실시간 감지를 종료합니다.\n"
     ]
    }
   ],
   "source": [
    "# 초기화\n",
    "data = []\n",
    "count = 0\n",
    "\n",
    "print(\"🟢 실시간 센서 감지 시작... (Ctrl+C로 종료)\")\n",
    "\n",
    "try:\n",
    "    while True:\n",
    "        now = time.time()\n",
    "\n",
    "        # 센서 원시 전압값\n",
    "        v_raw = voltage_ch.voltage\n",
    "        c_raw = current_ch.voltage\n",
    "\n",
    "        # 보정 계산\n",
    "        real_voltage = (v_raw - ZMPT_offset) * ZMPT_scale\n",
    "        real_current = (c_raw - ACS712_offset) / ACS712_sensitivity\n",
    "\n",
    "        # 데이터 추가\n",
    "        data.append([now, v_raw, c_raw, real_voltage, real_current])\n",
    "        count += 1\n",
    "\n",
    "        # 100개마다 저장\n",
    "        if len(data) >= 100:\n",
    "            # 데이터 복사 후 비동기 저장\n",
    "            threading.Thread(target=save_data_async, args=(data.copy(), count)).start()\n",
    "            data = []  # 메인 루프용 버퍼 비움\n",
    "\n",
    "        time.sleep(0.001)  # 최소 1ms 간격 (라즈베리파이에서는 이 이상 권장)\n",
    "        # time.sleep(0.001163)  # 860Hz 샘플링 주기\n",
    "\n",
    "\n",
    "except KeyboardInterrupt:\n",
    "    print(\"🛑 실시간 감지를 종료합니다.\")"
   ]
  },
  {
   "cell_type": "code",
   "execution_count": null,
   "id": "cf33ed10",
   "metadata": {},
   "outputs": [],
   "source": []
  }
 ],
 "metadata": {
  "kernelspec": {
   "display_name": "powerenv",
   "language": "python",
   "name": "python3"
  },
  "language_info": {
   "codemirror_mode": {
    "name": "ipython",
    "version": 3
   },
   "file_extension": ".py",
   "mimetype": "text/x-python",
   "name": "python",
   "nbconvert_exporter": "python",
   "pygments_lexer": "ipython3",
   "version": "3.11.2"
  }
 },
 "nbformat": 4,
 "nbformat_minor": 5
}
