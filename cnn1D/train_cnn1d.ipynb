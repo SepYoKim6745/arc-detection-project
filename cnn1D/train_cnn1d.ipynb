{
 "cells": [
  {
   "cell_type": "code",
   "execution_count": null,
   "id": "865e867f",
   "metadata": {},
   "outputs": [],
   "source": [
    "import pandas as pd\n",
    "import numpy as np\n",
    "import matplotlib.pyplot as plt\n",
    "import tensorflow as tf\n",
    "from tensorflow.keras.models import Sequential\n",
    "from tensorflow.keras.layers import Conv1D, MaxPooling1D, Flatten, Dense, Dropout\n",
    "from tensorflow.keras.callbacks import EarlyStopping\n",
    "from sklearn.preprocessing import StandardScaler\n",
    "from sklearn.metrics import classification_report\n",
    "import joblib\n",
    "import os\n",
    "import time"
   ]
  },
  {
   "cell_type": "code",
   "execution_count": null,
   "id": "a67510e8",
   "metadata": {},
   "outputs": [],
   "source": [
    "# 데이터 불러오기\n",
    "df_normal = pd.read_excel('../dataset/preprocessed/50ohm_정상_train.xlsx')\n",
    "df_arc = pd.read_excel('../dataset/preprocessed/50ohm_아크_train.xlsx')\n",
    "test_df = pd.read_excel('../dataset/preprocessed/50ohm_통합_test.xlsx')\n",
    "\n",
    "df_normal = df_normal.rename(columns={'power_voltage': 'voltage', 'power_current': 'current'})\n",
    "df_arc = df_arc.rename(columns={'arc_voltage': 'voltage', 'arc_current': 'current'})\n",
    "test_df = test_df.rename(columns={'power_voltage': 'voltage', 'power_current': 'current'})\n",
    "\n",
    "df_normal['label'] = 0\n",
    "df_arc['label'] = 1\n",
    "\n",
    "train_df = pd.concat([df_normal, df_arc], ignore_index=True)"
   ]
  },
  {
   "cell_type": "code",
   "execution_count": null,
   "id": "fc1cbfcf",
   "metadata": {},
   "outputs": [],
   "source": [
    "def add_features(df):\n",
    "    df['voltage_diff'] = df['voltage'].diff().fillna(0).abs()\n",
    "    df['current_diff'] = df['current'].diff().fillna(0).abs()\n",
    "    df['voltage_ma'] = df['voltage'].rolling(5).mean().bfill()\n",
    "    df['current_ma'] = df['current'].rolling(5).mean().bfill()\n",
    "    df['power'] = df['voltage'] * df['current']\n",
    "    df['power_diff'] = df['power'].diff().fillna(0).abs()\n",
    "    return df\n",
    "\n",
    "train_df = add_features(train_df)\n",
    "test_df = add_features(test_df)"
   ]
  },
  {
   "cell_type": "code",
   "execution_count": null,
   "id": "ebf7ac3a",
   "metadata": {},
   "outputs": [],
   "source": [
    "# 피처 설정\n",
    "features = ['voltage', 'current', 'voltage_diff', 'current_diff',\n",
    "            'voltage_ma', 'current_ma', 'power', 'power_diff']\n",
    "\n",
    "X_train = train_df[features].values\n",
    "y_train = train_df['label'].values\n",
    "X_test = test_df[features].values\n",
    "y_test = test_df['label'].values"
   ]
  },
  {
   "cell_type": "code",
   "execution_count": null,
   "id": "eae65142",
   "metadata": {},
   "outputs": [],
   "source": [
    "# 정규화\n",
    "scaler = StandardScaler()\n",
    "X_train_scaled = scaler.fit_transform(X_train)\n",
    "X_test_scaled = scaler.transform(X_test)\n",
    "\n",
    "# CNN 입력에 맞게 reshape\n",
    "X_train_scaled = X_train_scaled.reshape((X_train_scaled.shape[0], X_train_scaled.shape[1], 1))\n",
    "X_test_scaled = X_test_scaled.reshape((X_test_scaled.shape[0], X_test_scaled.shape[1], 1))\n",
    "\n",
    "print(X_train_scaled.shape)"
   ]
  },
  {
   "cell_type": "code",
   "execution_count": null,
   "id": "222c52c4",
   "metadata": {},
   "outputs": [],
   "source": [
    "# CNN 모델 정의\n",
    "model = Sequential()\n",
    "model.add(Conv1D(32, kernel_size=3, activation='relu', input_shape=(X_train_scaled.shape[1], 1)))\n",
    "model.add(MaxPooling1D(pool_size=2))\n",
    "model.add(Dropout(0.3))\n",
    "model.add(Flatten())\n",
    "model.add(Dense(64, activation='relu'))\n",
    "model.add(Dense(1, activation='sigmoid'))  # 이진 분류\n",
    "\n",
    "model.compile(optimizer='adam', loss='binary_crossentropy', metrics=['accuracy'])\n"
   ]
  },
  {
   "cell_type": "code",
   "execution_count": null,
   "id": "4d59c345",
   "metadata": {},
   "outputs": [],
   "source": [
    "# 학습\n",
    "early_stop = EarlyStopping(monitor='val_loss', patience=3, restore_best_weights=True)\n",
    "\n",
    "model.fit(X_train_scaled, y_train, validation_split=0.2,\n",
    "          epochs=100, batch_size=64, callbacks=[early_stop])\n",
    "\n",
    "model.save('./model/cnn1d_model.h5')\n",
    "joblib.dump(scaler, './model/scaler_cnn.joblib')"
   ]
  },
  {
   "cell_type": "code",
   "execution_count": null,
   "id": "7bf816e3",
   "metadata": {},
   "outputs": [],
   "source": [
    "import tensorflow as tf\n",
    "\n",
    "# 기존 .h5 모델 로드\n",
    "model = tf.keras.models.load_model('cnn1d_model.h5')\n",
    "\n",
    "# TFLite 변환기 설정\n",
    "converter = tf.lite.TFLiteConverter.from_keras_model(model)\n",
    "tflite_model = converter.convert()\n",
    "\n",
    "# .tflite 모델 저장\n",
    "with open(\"cnn1d_model.tflite\", \"wb\") as f:\n",
    "    f.write(tflite_model)"
   ]
  },
  {
   "cell_type": "code",
   "execution_count": null,
   "id": "32103668",
   "metadata": {},
   "outputs": [],
   "source": [
    "# 예측\n",
    "y_pred_prob = model.predict(X_test_scaled)\n",
    "y_pred = (y_pred_prob.flatten() > 0.0555).astype(int)"
   ]
  },
  {
   "cell_type": "code",
   "execution_count": null,
   "id": "8bd6ee57",
   "metadata": {},
   "outputs": [],
   "source": [
    "def postprocess_anomalies(y_pred_bin, min_consecutive=8):\n",
    "    y_post = np.zeros_like(y_pred_bin)\n",
    "    count = 0\n",
    "    for i, val in enumerate(y_pred_bin):\n",
    "        if val == 1:\n",
    "            count += 1\n",
    "        else:\n",
    "            if count >= min_consecutive:\n",
    "                y_post[i - count:i] = 1\n",
    "            count = 0\n",
    "    if count >= min_consecutive:\n",
    "        y_post[len(y_pred_bin)-count:] = 1\n",
    "    return y_post\n",
    "\n",
    "y_pred_post = postprocess_anomalies(y_pred, min_consecutive=8)\n",
    "y_true_post = postprocess_anomalies(y_test, min_consecutive=8)"
   ]
  },
  {
   "cell_type": "code",
   "execution_count": null,
   "id": "7c032046",
   "metadata": {},
   "outputs": [],
   "source": [
    "print(\"📋 (후처리 적용) 분류 리포트:\\n\")\n",
    "print(classification_report(y_true_post, y_pred_post, target_names=['정상', '아크']))"
   ]
  },
  {
   "cell_type": "code",
   "execution_count": null,
   "id": "481f371b",
   "metadata": {},
   "outputs": [],
   "source": [
    "def calculate_detection_delay(y_pred_bin, label, sampling_interval=0.0001):\n",
    "    arc_start = np.where(label == 1)[0][0]\n",
    "    detected = np.where(y_pred_bin[arc_start:] == 1)[0]\n",
    "    if len(detected) == 0:\n",
    "        print(\"⚠️ 아크를 탐지하지 못했습니다.\")\n",
    "        return None\n",
    "    detect_index = detected[0] + arc_start\n",
    "    delay = detect_index - arc_start\n",
    "    time_detected = detect_index * sampling_interval\n",
    "    print(f\"✅ 아크 시작 인덱스: {arc_start}\")\n",
    "    print(f\"✅ 모델 이상 감지 인덱스: {detect_index}\")\n",
    "    print(f\"⏱️ 감지 지연 시간: {delay} 샘플\")\n",
    "    print(f\"⏱️ 감지된 시점 (초): {time_detected:.6f} 초\")\n",
    "    return arc_start, detect_index, delay\n",
    "\n",
    "arc_start, detect_index, delay = calculate_detection_delay(y_pred_post, y_true_post)\n"
   ]
  },
  {
   "cell_type": "code",
   "execution_count": null,
   "id": "080e85db",
   "metadata": {},
   "outputs": [],
   "source": [
    "# 전체 예측 시간\n",
    "start_total = time.perf_counter()\n",
    "y_pred_prob = model.predict(X_test_scaled)\n",
    "y_pred = (y_pred_prob.flatten() > 0.5).astype(int)\n",
    "elapsed_total = time.perf_counter() - start_total\n",
    "print(f\"⏱️ 전체 예측 소요 시간: {elapsed_total:.10f}초\")\n",
    "\n",
    "# 후처리 + 첫 이상 감지까지 시간\n",
    "start_first = time.perf_counter()\n",
    "y_pred_post = postprocess_anomalies(y_pred, min_consecutive=8)\n",
    "first_index = np.where(y_pred_post == 1)[0]\n",
    "elapsed_first = time.perf_counter() - start_first\n",
    "\n",
    "if len(first_index) > 0:\n",
    "    print(f\"🟡 첫 번째 이상 탐지 인덱스: {first_index[0]}\")\n",
    "    print(f\"⏱️ 첫 이상 탐지까지 걸린 시간: {elapsed_first:.10f}초\")\n",
    "else:\n",
    "    print(\"⚠️ 후처리된 이상 탐지 결과가 없습니다.\")\n"
   ]
  },
  {
   "cell_type": "code",
   "execution_count": null,
   "id": "2b4c720c",
   "metadata": {},
   "outputs": [],
   "source": [
    "# 모듈 임포트\n",
    "import psutil\n",
    "import os\n",
    "\n",
    "# 리소스 사용량 출력 함수\n",
    "def print_resource_usage():\n",
    "    process = psutil.Process(os.getpid())\n",
    "    mem_info = process.memory_info()\n",
    "    cpu_percent = process.cpu_percent(interval=1.0)\n",
    "    print(f\"🧠 메모리 사용량: {mem_info.rss / 1024 ** 2:.2f} MB\")\n",
    "    print(f\"🧮 CPU 사용률: {cpu_percent:.2f}%\")\n",
    "\n",
    "\n",
    "# 전체 예측 시간 측정 + 시스템 리소스 출력\n",
    "print(\"🔍 예측 전 시스템 상태:\")\n",
    "print_resource_usage()\n",
    "\n",
    "start_total = time.perf_counter()\n",
    "y_pred = model.predict(X_test_scaled)\n",
    "elapsed_total = time.perf_counter() - start_total\n",
    "\n",
    "print(\"🔍 예측 후 시스템 상태:\")\n",
    "print_resource_usage()\n",
    "\n",
    "print(f\"⏱️ 전체 예측 소요 시간: {elapsed_total:.10f}초\")\n",
    "\n"
   ]
  },
  {
   "cell_type": "markdown",
   "id": "597ab985",
   "metadata": {},
   "source": [
    "---\n",
    "# 시각화"
   ]
  },
  {
   "cell_type": "code",
   "execution_count": null,
   "id": "53a13482",
   "metadata": {},
   "outputs": [],
   "source": [
    "import matplotlib.pyplot as plt\n",
    "import matplotlib as mpl\n",
    "\n",
    "# 한글 폰트 설정 (예: 맑은 고딕)\n",
    "plt.rcParams['font.family'] = 'Malgun Gothic'  # Windows 사용자\n",
    "# plt.rcParams['font.family'] = 'AppleGothic'   # macOS 사용자\n",
    "# plt.rcParams['font.family'] = 'NanumGothic'   # Linux 사용자 (Nanum 폰트 설치 필요)\n",
    "\n",
    "# 마이너스 부호 깨짐 방지\n",
    "mpl.rcParams['axes.unicode_minus'] = False"
   ]
  },
  {
   "cell_type": "code",
   "execution_count": null,
   "id": "252048c0",
   "metadata": {},
   "outputs": [],
   "source": [
    "def plot_predictions(y_pred_bin, arc_start=None, detect_index=None):\n",
    "    plt.figure(figsize=(15, 4))\n",
    "    plt.plot(y_pred_bin, label='예측 이상 (1=이상)', color='red', linewidth=1)\n",
    "\n",
    "    if arc_start is not None:\n",
    "        plt.axvline(x=arc_start, color='blue', linestyle='--', label='실제 아크 시작')\n",
    "    if detect_index is not None:\n",
    "        plt.axvline(x=detect_index, color='green', linestyle='--', label='감지된 시점')\n",
    "\n",
    "    plt.title(\"CNN 이상 탐지 결과\")\n",
    "    plt.xlabel(\"샘플 인덱스\")\n",
    "    plt.ylabel(\"예측값\")\n",
    "    plt.legend()\n",
    "    plt.grid(True)\n",
    "    plt.tight_layout()\n",
    "    plt.show()\n",
    "\n",
    "plot_predictions(y_pred_post, arc_start, detect_index)\n"
   ]
  },
  {
   "cell_type": "code",
   "execution_count": null,
   "id": "10da97d4",
   "metadata": {},
   "outputs": [],
   "source": [
    "def plot_current_waveform(test_df):\n",
    "    plt.figure(figsize=(15, 4))\n",
    "    plt.plot(test_df['current'], label='전류 파형', alpha=0.7)\n",
    "    plt.title(\"전체 전류 파형\")\n",
    "    plt.xlabel(\"샘플 인덱스\")\n",
    "    plt.ylabel(\"전류 (A)\")\n",
    "    plt.grid(True)\n",
    "    plt.tight_layout()\n",
    "    plt.legend()\n",
    "    plt.show()\n",
    "\n",
    "plot_current_waveform(test_df)"
   ]
  },
  {
   "cell_type": "code",
   "execution_count": null,
   "id": "10a33c4b",
   "metadata": {},
   "outputs": [],
   "source": [
    "def compare_postprocessing(y_pred_bin, y_pred_post, title=\"후처리 전후 비교\"):\n",
    "    plt.figure(figsize=(15, 4))\n",
    "    plt.plot(y_pred_bin, label='후처리 전', color='orange', alpha=0.6)\n",
    "    plt.plot(y_pred_post, label='후처리 후', color='green', alpha=0.6)\n",
    "    plt.title(title)\n",
    "    plt.xlabel(\"샘플 인덱스\")\n",
    "    plt.ylabel(\"이상 탐지 결과\")\n",
    "    plt.legend()\n",
    "    plt.grid(True)\n",
    "    plt.tight_layout()\n",
    "    plt.show()\n",
    "\n",
    "compare_postprocessing(y_pred, y_pred_post)\n",
    "\n",
    "\n"
   ]
  },
  {
   "cell_type": "code",
   "execution_count": null,
   "id": "81ad4b0c",
   "metadata": {},
   "outputs": [],
   "source": [
    "def compare_prediction_vs_label(y_true, y_pred_post):\n",
    "    plt.figure(figsize=(15, 4))\n",
    "    plt.plot(y_true, label='실제 라벨', alpha=0.5)\n",
    "    plt.plot(y_pred_post, label='모델 예측', alpha=0.7)\n",
    "    plt.title(\"실제 라벨 vs 모델 예측 비교\")\n",
    "    plt.xlabel(\"샘플 인덱스\")\n",
    "    plt.ylabel(\"값 (0=정상, 1=아크)\")\n",
    "    plt.legend()\n",
    "    plt.grid(True)\n",
    "    plt.tight_layout()\n",
    "    plt.show()\n",
    "\n",
    "compare_prediction_vs_label(y_true_post, y_pred_post)\n",
    "\n",
    "# # 차이점 위치 찾기\n",
    "# mismatch_indices = np.where(y_true_post != y_pred_post)[0]\n",
    "# print(\"불일치 인덱스:\", mismatch_indices)\n",
    "# print(\"불일치 개수:\", len(mismatch_indices))"
   ]
  },
  {
   "cell_type": "code",
   "execution_count": null,
   "id": "2e769514",
   "metadata": {},
   "outputs": [],
   "source": []
  }
 ],
 "metadata": {
  "kernelspec": {
   "display_name": "powerenv",
   "language": "python",
   "name": "python3"
  },
  "language_info": {
   "codemirror_mode": {
    "name": "ipython",
    "version": 3
   },
   "file_extension": ".py",
   "mimetype": "text/x-python",
   "name": "python",
   "nbconvert_exporter": "python",
   "pygments_lexer": "ipython3",
   "version": "3.10.17"
  }
 },
 "nbformat": 4,
 "nbformat_minor": 5
}
