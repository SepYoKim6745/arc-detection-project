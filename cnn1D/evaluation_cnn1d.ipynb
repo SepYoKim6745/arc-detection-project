{
 "cells": [
  {
   "cell_type": "code",
   "execution_count": 1,
   "id": "a6015982",
   "metadata": {},
   "outputs": [],
   "source": [
    "# 모듈 임포트\n",
    "import pandas as pd\n",
    "import numpy as np\n",
    "import tensorflow as tf\n",
    "from sklearn.preprocessing import StandardScaler\n",
    "from sklearn.metrics import classification_report\n",
    "import joblib\n",
    "import time"
   ]
  },
  {
   "cell_type": "code",
   "execution_count": 2,
   "id": "c10ef9e7",
   "metadata": {},
   "outputs": [],
   "source": [
    "# 파생 피처 생성 함수\n",
    "def add_features(df):\n",
    "    df['voltage_diff'] = df['voltage'].diff().fillna(0).abs()\n",
    "    df['current_diff'] = df['current'].diff().fillna(0).abs()\n",
    "    df['voltage_ma'] = df['voltage'].rolling(5).mean().bfill()\n",
    "    df['current_ma'] = df['current'].rolling(5).mean().bfill()\n",
    "    df['power'] = df['voltage'] * df['current']\n",
    "    df['power_diff'] = df['power'].diff().fillna(0).abs()\n",
    "    return df"
   ]
  },
  {
   "cell_type": "code",
   "execution_count": 3,
   "id": "d378d825",
   "metadata": {},
   "outputs": [],
   "source": [
    "# 시퀀스 생성 함수\n",
    "def create_sequences(data, labels, seq_len=8):\n",
    "    X, y = [], []\n",
    "    for i in range(len(data) - seq_len):\n",
    "        X.append(data[i:i+seq_len])\n",
    "        y.append(labels[i+seq_len - 1])\n",
    "    return np.array(X), np.array(y)\n"
   ]
  },
  {
   "cell_type": "code",
   "execution_count": 4,
   "id": "f675479f",
   "metadata": {},
   "outputs": [],
   "source": [
    "# 테스트셋 로드 및 전처리\n",
    "test_df = pd.read_csv('../realtime/test/9대0.1.csv')  # 경로 확인\n",
    "test_df = add_features(test_df).dropna()\n",
    "\n",
    "features = ['voltage', 'current', 'voltage_diff', 'current_diff',\n",
    "            'voltage_ma', 'current_ma', 'power', 'power_diff']\n",
    "\n",
    "X_raw = test_df[features].values\n",
    "y_raw = test_df['label'].values.astype(int)\n",
    "\n",
    "scaler = joblib.load('./model/scaler_cnn.joblib')\n",
    "X_scaled = scaler.transform(X_raw)\n",
    "\n",
    "# CNN 입력 시퀀스 생성\n",
    "seq_len = 8\n",
    "X_seq, y_seq = create_sequences(X_scaled, y_raw, seq_len)\n",
    "X_seq = X_seq.reshape((X_seq.shape[0], seq_len, len(features)))"
   ]
  },
  {
   "cell_type": "code",
   "execution_count": 5,
   "id": "1f787c0a",
   "metadata": {},
   "outputs": [
    {
     "name": "stderr",
     "output_type": "stream",
     "text": [
      "WARNING:absl:Compiled the loaded model, but the compiled metrics have yet to be built. `model.compile_metrics` will be empty until you train or evaluate the model.\n"
     ]
    },
    {
     "name": "stdout",
     "output_type": "stream",
     "text": [
      "\u001b[1m845/845\u001b[0m \u001b[32m━━━━━━━━━━━━━━━━━━━━\u001b[0m\u001b[37m\u001b[0m \u001b[1m1s\u001b[0m 2ms/step\n"
     ]
    }
   ],
   "source": [
    "# 모델 로드\n",
    "model = tf.keras.models.load_model('./model/cnn1d_model.h5')\n",
    "\n",
    "# 예측\n",
    "y_pred_prob = model.predict(X_seq)\n",
    "y_pred = (y_pred_prob.flatten() > 0.3).astype(int)"
   ]
  },
  {
   "cell_type": "code",
   "execution_count": 6,
   "id": "1b78e54d",
   "metadata": {},
   "outputs": [],
   "source": [
    "# 후처리\n",
    "def postprocess_anomalies(y_pred_bin, min_consecutive=8):\n",
    "    y_post = np.zeros_like(y_pred_bin)\n",
    "    count = 0\n",
    "    for i, val in enumerate(y_pred_bin):\n",
    "        if val == 1:\n",
    "            count += 1\n",
    "        else:\n",
    "            if count >= min_consecutive:\n",
    "                y_post[i - count:i] = 1\n",
    "            count = 0\n",
    "    if count >= min_consecutive:\n",
    "        y_post[len(y_pred_bin)-count:] = 1\n",
    "    return y_post\n",
    "\n",
    "y_pred_post = postprocess_anomalies(y_pred, min_consecutive=1)\n",
    "y_true_post = postprocess_anomalies(y_seq, min_consecutive=1)\n"
   ]
  },
  {
   "cell_type": "code",
   "execution_count": 7,
   "id": "4980984e",
   "metadata": {},
   "outputs": [
    {
     "name": "stdout",
     "output_type": "stream",
     "text": [
      "📋 후처리 적용 후 CNN 분류 리포트:\n",
      "📋 후처리 적용 후 CNN 분류 리포트:\n",
      "              precision    recall  f1-score   support\n",
      "\n",
      "          정상       1.00      0.91      0.95     26992\n",
      "          아크       0.00      0.13      0.00        30\n",
      "\n",
      "    accuracy                           0.91     27022\n",
      "   macro avg       0.50      0.52      0.48     27022\n",
      "weighted avg       1.00      0.91      0.95     27022\n",
      "\n"
     ]
    }
   ],
   "source": [
    "# 평가 지표 출력\n",
    "print(\"📋 후처리 적용 후 CNN 분류 리포트:\")\n",
    "print(\"📋 후처리 적용 후 CNN 분류 리포트:\")\n",
    "print(classification_report(\n",
    "    y_true_post,\n",
    "    y_pred_post,\n",
    "    labels=[0, 1],\n",
    "    target_names=['정상', '아크'],\n",
    "    zero_division=0  # 예: precision 0/0 방지\n",
    "))\n"
   ]
  }
 ],
 "metadata": {
  "kernelspec": {
   "display_name": "power-ai",
   "language": "python",
   "name": "python3"
  },
  "language_info": {
   "codemirror_mode": {
    "name": "ipython",
    "version": 3
   },
   "file_extension": ".py",
   "mimetype": "text/x-python",
   "name": "python",
   "nbconvert_exporter": "python",
   "pygments_lexer": "ipython3",
   "version": "3.10.16"
  }
 },
 "nbformat": 4,
 "nbformat_minor": 5
}
