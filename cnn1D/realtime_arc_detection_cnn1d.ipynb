{
 "cells": [
  {
   "cell_type": "code",
   "execution_count": 4,
   "id": "fcc8118f",
   "metadata": {},
   "outputs": [
    {
     "name": "stderr",
     "output_type": "stream",
     "text": [
      "/home/raspberry/powerenv/lib/python3.11/site-packages/numpy/core/getlimits.py:549: UserWarning: The value of the smallest subnormal for <class 'numpy.float64'> type is zero.\n",
      "  setattr(self, word, getattr(machar, word).flat[0])\n",
      "/home/raspberry/powerenv/lib/python3.11/site-packages/numpy/core/getlimits.py:89: UserWarning: The value of the smallest subnormal for <class 'numpy.float64'> type is zero.\n",
      "  return self._float_to_str(self.smallest_subnormal)\n",
      "/home/raspberry/powerenv/lib/python3.11/site-packages/numpy/core/getlimits.py:549: UserWarning: The value of the smallest subnormal for <class 'numpy.float32'> type is zero.\n",
      "  setattr(self, word, getattr(machar, word).flat[0])\n",
      "/home/raspberry/powerenv/lib/python3.11/site-packages/numpy/core/getlimits.py:89: UserWarning: The value of the smallest subnormal for <class 'numpy.float32'> type is zero.\n",
      "  return self._float_to_str(self.smallest_subnormal)\n"
     ]
    }
   ],
   "source": [
    "# 모듈 임포트\n",
    "import time\n",
    "import board\n",
    "import busio\n",
    "import adafruit_ads1x15.ads1115 as ADS\n",
    "from adafruit_ads1x15.analog_in import AnalogIn\n",
    "import joblib\n",
    "import numpy as np\n",
    "import psutil\n",
    "import tflite_runtime.interpreter as tflite\n",
    "from sklearn.preprocessing import StandardScaler"
   ]
  },
  {
   "cell_type": "code",
   "execution_count": 5,
   "id": "e4c7d416",
   "metadata": {},
   "outputs": [],
   "source": [
    "# TFLite 모델 및 스케일러 로드\n",
    "interpreter = tflite.Interpreter(model_path=\"./model/cnn1d_model.tflite\")\n",
    "interpreter.allocate_tensors()\n",
    "\n",
    "input_details = interpreter.get_input_details()\n",
    "output_details = interpreter.get_output_details()\n",
    "\n",
    "scaler = joblib.load('./model/scaler_cnn.joblib')"
   ]
  },
  {
   "cell_type": "code",
   "execution_count": 6,
   "id": "8940fe09",
   "metadata": {},
   "outputs": [
    {
     "ename": "ValueError",
     "evalue": "No I2C device at address: 0x48",
     "output_type": "error",
     "traceback": [
      "\u001b[31m---------------------------------------------------------------------------\u001b[39m",
      "\u001b[31mOSError\u001b[39m                                   Traceback (most recent call last)",
      "\u001b[36mFile \u001b[39m\u001b[32m~/powerenv/lib/python3.11/site-packages/adafruit_bus_device/i2c_device.py:175\u001b[39m, in \u001b[36mI2CDevice.__probe_for_device\u001b[39m\u001b[34m(self)\u001b[39m\n\u001b[32m    174\u001b[39m \u001b[38;5;28;01mtry\u001b[39;00m:\n\u001b[32m--> \u001b[39m\u001b[32m175\u001b[39m     \u001b[38;5;28;43mself\u001b[39;49m\u001b[43m.\u001b[49m\u001b[43mi2c\u001b[49m\u001b[43m.\u001b[49m\u001b[43mwriteto\u001b[49m\u001b[43m(\u001b[49m\u001b[38;5;28;43mself\u001b[39;49m\u001b[43m.\u001b[49m\u001b[43mdevice_address\u001b[49m\u001b[43m,\u001b[49m\u001b[43m \u001b[49m\u001b[33;43mb\u001b[39;49m\u001b[33;43m\"\u001b[39;49m\u001b[33;43m\"\u001b[39;49m\u001b[43m)\u001b[49m\n\u001b[32m    176\u001b[39m \u001b[38;5;28;01mexcept\u001b[39;00m \u001b[38;5;167;01mOSError\u001b[39;00m:\n\u001b[32m    177\u001b[39m     \u001b[38;5;66;03m# some OS's dont like writing an empty bytesting...\u001b[39;00m\n\u001b[32m    178\u001b[39m     \u001b[38;5;66;03m# Retry by reading a byte\u001b[39;00m\n",
      "\u001b[36mFile \u001b[39m\u001b[32m~/powerenv/lib/python3.11/site-packages/busio.py:215\u001b[39m, in \u001b[36mI2C.writeto\u001b[39m\u001b[34m(self, address, buffer, start, end)\u001b[39m\n\u001b[32m    214\u001b[39m     \u001b[38;5;28;01mreturn\u001b[39;00m \u001b[38;5;28mself\u001b[39m._i2c.writeto(address, \u001b[38;5;28mmemoryview\u001b[39m(buffer)[start:end], stop=\u001b[38;5;28;01mTrue\u001b[39;00m)\n\u001b[32m--> \u001b[39m\u001b[32m215\u001b[39m \u001b[38;5;28;01mreturn\u001b[39;00m \u001b[38;5;28;43mself\u001b[39;49m\u001b[43m.\u001b[49m\u001b[43m_i2c\u001b[49m\u001b[43m.\u001b[49m\u001b[43mwriteto\u001b[49m\u001b[43m(\u001b[49m\u001b[43maddress\u001b[49m\u001b[43m,\u001b[49m\u001b[43m \u001b[49m\u001b[43mbuffer\u001b[49m\u001b[43m,\u001b[49m\u001b[43m \u001b[49m\u001b[43mstop\u001b[49m\u001b[43m=\u001b[49m\u001b[38;5;28;43;01mTrue\u001b[39;49;00m\u001b[43m)\u001b[49m\n",
      "\u001b[36mFile \u001b[39m\u001b[32m~/powerenv/lib/python3.11/site-packages/adafruit_blinka/microcontroller/generic_linux/i2c.py:60\u001b[39m, in \u001b[36mI2C.writeto\u001b[39m\u001b[34m(self, address, buffer, start, end, stop)\u001b[39m\n\u001b[32m     59\u001b[39m     end = \u001b[38;5;28mlen\u001b[39m(buffer)\n\u001b[32m---> \u001b[39m\u001b[32m60\u001b[39m \u001b[38;5;28;43mself\u001b[39;49m\u001b[43m.\u001b[49m\u001b[43m_i2c_bus\u001b[49m\u001b[43m.\u001b[49m\u001b[43mwrite_bytes\u001b[49m\u001b[43m(\u001b[49m\u001b[43maddress\u001b[49m\u001b[43m,\u001b[49m\u001b[43m \u001b[49m\u001b[43mbuffer\u001b[49m\u001b[43m[\u001b[49m\u001b[43mstart\u001b[49m\u001b[43m:\u001b[49m\u001b[43mend\u001b[49m\u001b[43m]\u001b[49m\u001b[43m)\u001b[49m\n",
      "\u001b[36mFile \u001b[39m\u001b[32m~/powerenv/lib/python3.11/site-packages/Adafruit_PureIO/smbus.py:303\u001b[39m, in \u001b[36mSMBus.write_bytes\u001b[39m\u001b[34m(self, addr, buf)\u001b[39m\n\u001b[32m    302\u001b[39m \u001b[38;5;28mself\u001b[39m._select_device(addr)\n\u001b[32m--> \u001b[39m\u001b[32m303\u001b[39m \u001b[38;5;28;43mself\u001b[39;49m\u001b[43m.\u001b[49m\u001b[43m_device\u001b[49m\u001b[43m.\u001b[49m\u001b[43mwrite\u001b[49m\u001b[43m(\u001b[49m\u001b[43mbuf\u001b[49m\u001b[43m)\u001b[49m\n",
      "\u001b[31mOSError\u001b[39m: [Errno 121] Remote I/O error",
      "\nDuring handling of the above exception, another exception occurred:\n",
      "\u001b[31mOSError\u001b[39m                                   Traceback (most recent call last)",
      "\u001b[36mFile \u001b[39m\u001b[32m~/powerenv/lib/python3.11/site-packages/adafruit_bus_device/i2c_device.py:181\u001b[39m, in \u001b[36mI2CDevice.__probe_for_device\u001b[39m\u001b[34m(self)\u001b[39m\n\u001b[32m    180\u001b[39m     result = \u001b[38;5;28mbytearray\u001b[39m(\u001b[32m1\u001b[39m)\n\u001b[32m--> \u001b[39m\u001b[32m181\u001b[39m     \u001b[38;5;28;43mself\u001b[39;49m\u001b[43m.\u001b[49m\u001b[43mi2c\u001b[49m\u001b[43m.\u001b[49m\u001b[43mreadfrom_into\u001b[49m\u001b[43m(\u001b[49m\u001b[38;5;28;43mself\u001b[39;49m\u001b[43m.\u001b[49m\u001b[43mdevice_address\u001b[49m\u001b[43m,\u001b[49m\u001b[43m \u001b[49m\u001b[43mresult\u001b[49m\u001b[43m)\u001b[49m\n\u001b[32m    182\u001b[39m \u001b[38;5;28;01mexcept\u001b[39;00m \u001b[38;5;167;01mOSError\u001b[39;00m:\n\u001b[32m    183\u001b[39m     \u001b[38;5;66;03m# pylint: disable=raise-missing-from\u001b[39;00m\n",
      "\u001b[36mFile \u001b[39m\u001b[32m~/powerenv/lib/python3.11/site-packages/busio.py:205\u001b[39m, in \u001b[36mI2C.readfrom_into\u001b[39m\u001b[34m(self, address, buffer, start, end)\u001b[39m\n\u001b[32m    204\u001b[39m     buffer = \u001b[38;5;28mmemoryview\u001b[39m(buffer)[start:end]\n\u001b[32m--> \u001b[39m\u001b[32m205\u001b[39m \u001b[38;5;28;01mreturn\u001b[39;00m \u001b[38;5;28;43mself\u001b[39;49m\u001b[43m.\u001b[49m\u001b[43m_i2c\u001b[49m\u001b[43m.\u001b[49m\u001b[43mreadfrom_into\u001b[49m\u001b[43m(\u001b[49m\u001b[43maddress\u001b[49m\u001b[43m,\u001b[49m\u001b[43m \u001b[49m\u001b[43mbuffer\u001b[49m\u001b[43m,\u001b[49m\u001b[43m \u001b[49m\u001b[43mstop\u001b[49m\u001b[43m=\u001b[49m\u001b[38;5;28;43;01mTrue\u001b[39;49;00m\u001b[43m)\u001b[49m\n",
      "\u001b[36mFile \u001b[39m\u001b[32m~/powerenv/lib/python3.11/site-packages/adafruit_blinka/microcontroller/generic_linux/i2c.py:67\u001b[39m, in \u001b[36mI2C.readfrom_into\u001b[39m\u001b[34m(self, address, buffer, start, end, stop)\u001b[39m\n\u001b[32m     65\u001b[39m     end = \u001b[38;5;28mlen\u001b[39m(buffer)\n\u001b[32m---> \u001b[39m\u001b[32m67\u001b[39m readin = \u001b[38;5;28;43mself\u001b[39;49m\u001b[43m.\u001b[49m\u001b[43m_i2c_bus\u001b[49m\u001b[43m.\u001b[49m\u001b[43mread_bytes\u001b[49m\u001b[43m(\u001b[49m\u001b[43maddress\u001b[49m\u001b[43m,\u001b[49m\u001b[43m \u001b[49m\u001b[43mend\u001b[49m\u001b[43m \u001b[49m\u001b[43m-\u001b[49m\u001b[43m \u001b[49m\u001b[43mstart\u001b[49m\u001b[43m)\u001b[49m\n\u001b[32m     68\u001b[39m \u001b[38;5;28;01mfor\u001b[39;00m i \u001b[38;5;129;01min\u001b[39;00m \u001b[38;5;28mrange\u001b[39m(end - start):\n",
      "\u001b[36mFile \u001b[39m\u001b[32m~/powerenv/lib/python3.11/site-packages/Adafruit_PureIO/smbus.py:170\u001b[39m, in \u001b[36mSMBus.read_bytes\u001b[39m\u001b[34m(self, addr, number)\u001b[39m\n\u001b[32m    169\u001b[39m \u001b[38;5;28mself\u001b[39m._select_device(addr)\n\u001b[32m--> \u001b[39m\u001b[32m170\u001b[39m \u001b[38;5;28;01mreturn\u001b[39;00m \u001b[38;5;28;43mself\u001b[39;49m\u001b[43m.\u001b[49m\u001b[43m_device\u001b[49m\u001b[43m.\u001b[49m\u001b[43mread\u001b[49m\u001b[43m(\u001b[49m\u001b[43mnumber\u001b[49m\u001b[43m)\u001b[49m\n",
      "\u001b[31mOSError\u001b[39m: [Errno 5] Input/output error",
      "\nDuring handling of the above exception, another exception occurred:\n",
      "\u001b[31mValueError\u001b[39m                                Traceback (most recent call last)",
      "\u001b[36mCell\u001b[39m\u001b[36m \u001b[39m\u001b[32mIn[6]\u001b[39m\u001b[32m, line 3\u001b[39m\n\u001b[32m      1\u001b[39m \u001b[38;5;66;03m# I2C 및 ADC 설정\u001b[39;00m\n\u001b[32m      2\u001b[39m i2c = busio.I2C(board.SCL, board.SDA)\n\u001b[32m----> \u001b[39m\u001b[32m3\u001b[39m ads = \u001b[43mADS\u001b[49m\u001b[43m.\u001b[49m\u001b[43mADS1115\u001b[49m\u001b[43m(\u001b[49m\u001b[43mi2c\u001b[49m\u001b[43m)\u001b[49m\n\u001b[32m      4\u001b[39m ads.gain = \u001b[32m1\u001b[39m\n\u001b[32m      6\u001b[39m voltage_ch = AnalogIn(ads, ADS.P0)\n",
      "\u001b[36mFile \u001b[39m\u001b[32m~/powerenv/lib/python3.11/site-packages/adafruit_ads1x15/ads1x15.py:153\u001b[39m, in \u001b[36mADS1x15.__init__\u001b[39m\u001b[34m(self, i2c, gain, data_rate, mode, comparator_queue_length, comparator_low_threshold, comparator_high_threshold, comparator_mode, comparator_polarity, comparator_latch, address)\u001b[39m\n\u001b[32m    149\u001b[39m \u001b[38;5;28mself\u001b[39m.buf = \u001b[38;5;28mbytearray\u001b[39m(\u001b[32m3\u001b[39m)\n\u001b[32m    150\u001b[39m \u001b[38;5;28mself\u001b[39m.initialized = (\n\u001b[32m    151\u001b[39m     \u001b[38;5;28;01mFalse\u001b[39;00m  \u001b[38;5;66;03m# Prevents writing to ADC until all values are initialized\u001b[39;00m\n\u001b[32m    152\u001b[39m )\n\u001b[32m--> \u001b[39m\u001b[32m153\u001b[39m \u001b[38;5;28mself\u001b[39m.i2c_device = \u001b[43mI2CDevice\u001b[49m\u001b[43m(\u001b[49m\u001b[43mi2c\u001b[49m\u001b[43m,\u001b[49m\u001b[43m \u001b[49m\u001b[43maddress\u001b[49m\u001b[43m)\u001b[49m\n\u001b[32m    154\u001b[39m \u001b[38;5;28mself\u001b[39m.gain = gain\n\u001b[32m    155\u001b[39m \u001b[38;5;28mself\u001b[39m.data_rate = \u001b[38;5;28mself\u001b[39m._data_rate_default() \u001b[38;5;28;01mif\u001b[39;00m data_rate \u001b[38;5;129;01mis\u001b[39;00m \u001b[38;5;28;01mNone\u001b[39;00m \u001b[38;5;28;01melse\u001b[39;00m data_rate\n",
      "\u001b[36mFile \u001b[39m\u001b[32m~/powerenv/lib/python3.11/site-packages/adafruit_bus_device/i2c_device.py:62\u001b[39m, in \u001b[36mI2CDevice.__init__\u001b[39m\u001b[34m(self, i2c, device_address, probe)\u001b[39m\n\u001b[32m     59\u001b[39m \u001b[38;5;28mself\u001b[39m.device_address = device_address\n\u001b[32m     61\u001b[39m \u001b[38;5;28;01mif\u001b[39;00m probe:\n\u001b[32m---> \u001b[39m\u001b[32m62\u001b[39m     \u001b[38;5;28;43mself\u001b[39;49m\u001b[43m.\u001b[49m\u001b[43m__probe_for_device\u001b[49m\u001b[43m(\u001b[49m\u001b[43m)\u001b[49m\n",
      "\u001b[36mFile \u001b[39m\u001b[32m~/powerenv/lib/python3.11/site-packages/adafruit_bus_device/i2c_device.py:184\u001b[39m, in \u001b[36mI2CDevice.__probe_for_device\u001b[39m\u001b[34m(self)\u001b[39m\n\u001b[32m    181\u001b[39m         \u001b[38;5;28mself\u001b[39m.i2c.readfrom_into(\u001b[38;5;28mself\u001b[39m.device_address, result)\n\u001b[32m    182\u001b[39m     \u001b[38;5;28;01mexcept\u001b[39;00m \u001b[38;5;167;01mOSError\u001b[39;00m:\n\u001b[32m    183\u001b[39m         \u001b[38;5;66;03m# pylint: disable=raise-missing-from\u001b[39;00m\n\u001b[32m--> \u001b[39m\u001b[32m184\u001b[39m         \u001b[38;5;28;01mraise\u001b[39;00m \u001b[38;5;167;01mValueError\u001b[39;00m(\u001b[33m\"\u001b[39m\u001b[33mNo I2C device at address: 0x\u001b[39m\u001b[38;5;132;01m%x\u001b[39;00m\u001b[33m\"\u001b[39m % \u001b[38;5;28mself\u001b[39m.device_address)\n\u001b[32m    185\u001b[39m         \u001b[38;5;66;03m# pylint: enable=raise-missing-from\u001b[39;00m\n\u001b[32m    186\u001b[39m \u001b[38;5;28;01mfinally\u001b[39;00m:\n\u001b[32m    187\u001b[39m     \u001b[38;5;28mself\u001b[39m.i2c.unlock()\n",
      "\u001b[31mValueError\u001b[39m: No I2C device at address: 0x48"
     ]
    }
   ],
   "source": [
    "# I2C 및 ADC 설정\n",
    "i2c = busio.I2C(board.SCL, board.SDA)\n",
    "ads = ADS.ADS1115(i2c)\n",
    "ads.gain = 1\n",
    "\n",
    "voltage_ch = AnalogIn(ads, ADS.P0)\n",
    "current_ch = AnalogIn(ads, ADS.P1)"
   ]
  },
  {
   "cell_type": "code",
   "execution_count": 7,
   "id": "f3623583",
   "metadata": {},
   "outputs": [],
   "source": [
    "# 샘플 버퍼 및 이상 탐지 버퍼\n",
    "data_buffer = []\n",
    "anomaly_buffer = []\n",
    "ANOMALY_THRESHOLD = 8\n",
    "first_anomaly_detected = False\n",
    "\n",
    "# 피처 생성 함수\n",
    "def add_features(voltage_seq, current_seq):\n",
    "    voltage = np.mean(voltage_seq) # 평균\n",
    "    current = np.mean(current_seq) # 평균\n",
    "    voltage_diff = np.abs(voltage_seq[-1] - voltage_seq[-2])\n",
    "    current_diff = np.abs(current_seq[-1] - current_seq[-2])\n",
    "    voltage_ma = np.mean(voltage_seq[-5:])\n",
    "    current_ma = np.mean(current_seq[-5:])\n",
    "    power = voltage * current\n",
    "    power_diff = np.abs(power - (voltage_seq[-2] * current_seq[-2]))\n",
    "    return [voltage, current, voltage_diff, current_diff, voltage_ma, current_ma, power, power_diff]"
   ]
  },
  {
   "cell_type": "code",
   "execution_count": 8,
   "id": "141caeee",
   "metadata": {},
   "outputs": [
    {
     "name": "stdout",
     "output_type": "stream",
     "text": [
      "🚀 실시간 아크 감지 시작합니다!\n"
     ]
    },
    {
     "ename": "NameError",
     "evalue": "name 'voltage_ch' is not defined",
     "output_type": "error",
     "traceback": [
      "\u001b[31m---------------------------------------------------------------------------\u001b[39m",
      "\u001b[31mNameError\u001b[39m                                 Traceback (most recent call last)",
      "\u001b[36mCell\u001b[39m\u001b[36m \u001b[39m\u001b[32mIn[8]\u001b[39m\u001b[32m, line 8\u001b[39m\n\u001b[32m      5\u001b[39m start_time = time.perf_counter()\n\u001b[32m      7\u001b[39m \u001b[38;5;28;01mwhile\u001b[39;00m \u001b[38;5;28;01mTrue\u001b[39;00m:\n\u001b[32m----> \u001b[39m\u001b[32m8\u001b[39m     voltage = \u001b[43mvoltage_ch\u001b[49m.voltage\n\u001b[32m      9\u001b[39m     current = current_ch.voltage\n\u001b[32m     11\u001b[39m     data_buffer.append((voltage, current))\n",
      "\u001b[31mNameError\u001b[39m: name 'voltage_ch' is not defined"
     ]
    }
   ],
   "source": [
    "# 실시간 센서 읽기 및 예측\n",
    "try:\n",
    "    print(\"🚀 실시간 아크 감지 시작합니다!\")\n",
    "\n",
    "    start_time = time.perf_counter()\n",
    "\n",
    "    while True:\n",
    "        voltage = voltage_ch.voltage\n",
    "        current = current_ch.voltage\n",
    "\n",
    "        data_buffer.append((voltage, current))\n",
    "\n",
    "        if len(data_buffer) >= 8:\n",
    "            voltage_seq, current_seq = zip(*data_buffer[-8:])\n",
    "\n",
    "            features = add_features(voltage_seq, current_seq)\n",
    "            features_scaled = scaler.transform(np.array(features).reshape(1, -1))\n",
    "            features_scaled = features_scaled.reshape((1, len(features_scaled[0]), 1)).astype(np.float32)\n",
    "\n",
    "            # TFLite 추론\n",
    "            interpreter.set_tensor(input_details[0]['index'], features_scaled)\n",
    "            interpreter.invoke()\n",
    "            y_pred = interpreter.get_tensor(output_details[0]['index'])\n",
    "\n",
    "            anomaly = int(y_pred.flatten() > 0.5)\n",
    "\n",
    "            anomaly_buffer.append(anomaly)\n",
    "            if len(anomaly_buffer) > ANOMALY_THRESHOLD:\n",
    "                anomaly_buffer.pop(0)\n",
    "\n",
    "            if sum(anomaly_buffer) >= ANOMALY_THRESHOLD:\n",
    "                print(\"⚡ 아크 이상 감지!\")\n",
    "                if not first_anomaly_detected:\n",
    "                    elapsed_time = time.perf_counter() - start_time\n",
    "                    print(f\"⏱️ 첫 번째 이상 탐지까지 걸린 시간: {elapsed_time:.6f}초\")\n",
    "                    first_anomaly_detected = True\n",
    "\n",
    "        # 리소스 사용량 실시간 출력\n",
    "        cpu_usage = psutil.cpu_percent(interval=0.0)\n",
    "        memory_usage = psutil.Process().memory_info().rss / 1024 ** 2\n",
    "        print(f\"🧠 메모리 사용량: {memory_usage:.2f} MB, 🧮 CPU 사용률: {cpu_usage:.2f}%\")\n",
    "\n",
    "        time.sleep(0.0001)  # 10kHz 샘플링\n",
    "\n",
    "except KeyboardInterrupt:\n",
    "    print(\"🛑 실시간 감지를 종료합니다.\")\n",
    "    pass"
   ]
  }
 ],
 "metadata": {
  "kernelspec": {
   "display_name": "powerenv",
   "language": "python",
   "name": "python3"
  },
  "language_info": {
   "codemirror_mode": {
    "name": "ipython",
    "version": 3
   },
   "file_extension": ".py",
   "mimetype": "text/x-python",
   "name": "python",
   "nbconvert_exporter": "python",
   "pygments_lexer": "ipython3",
   "version": "3.11.2"
  }
 },
 "nbformat": 4,
 "nbformat_minor": 5
}
