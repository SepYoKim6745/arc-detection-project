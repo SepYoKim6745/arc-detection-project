{
 "cells": [
  {
   "cell_type": "code",
   "execution_count": 7,
   "id": "fcc8118f",
   "metadata": {},
   "outputs": [],
   "source": [
    "# 모듈 임포트\n",
    "import time\n",
    "import board\n",
    "import busio\n",
    "import adafruit_ads1x15.ads1115 as ADS\n",
    "from adafruit_ads1x15.analog_in import AnalogIn\n",
    "import tflite_runtime.interpreter as tflite\n",
    "import joblib\n",
    "import numpy as np\n",
    "import psutil"
   ]
  },
  {
   "cell_type": "code",
   "execution_count": null,
   "id": "6f62d123",
   "metadata": {},
   "outputs": [
    {
     "ename": "ValueError",
     "evalue": "Could not open './model/cnn1d_model.tflite'.",
     "output_type": "error",
     "traceback": [
      "\u001b[31m---------------------------------------------------------------------------\u001b[39m",
      "\u001b[31mValueError\u001b[39m                                Traceback (most recent call last)",
      "\u001b[36mCell\u001b[39m\u001b[36m \u001b[39m\u001b[32mIn[8]\u001b[39m\u001b[32m, line 2\u001b[39m\n\u001b[32m      1\u001b[39m \u001b[38;5;66;03m# 모델, 스케일러 로드\u001b[39;00m\n\u001b[32m----> \u001b[39m\u001b[32m2\u001b[39m interpreter = \u001b[43mtflite\u001b[49m\u001b[43m.\u001b[49m\u001b[43mInterpreter\u001b[49m\u001b[43m(\u001b[49m\u001b[43mmodel_path\u001b[49m\u001b[43m=\u001b[49m\u001b[33;43m'\u001b[39;49m\u001b[33;43m./model/cnn1d_model.tflite\u001b[39;49m\u001b[33;43m'\u001b[39;49m\u001b[43m)\u001b[49m\n\u001b[32m      3\u001b[39m interpreter.allocate_tensors()\n\u001b[32m      5\u001b[39m input_details = interpreter.get_input_details()\n",
      "\u001b[36mFile \u001b[39m\u001b[32m~/powerenv/lib/python3.11/site-packages/tflite_runtime/interpreter.py:464\u001b[39m, in \u001b[36mInterpreter.__init__\u001b[39m\u001b[34m(self, model_path, model_content, experimental_delegates, num_threads, experimental_op_resolver_type, experimental_preserve_all_tensors, experimental_disable_delegate_clustering)\u001b[39m\n\u001b[32m    458\u001b[39m custom_op_registerers_by_name = [\n\u001b[32m    459\u001b[39m     x \u001b[38;5;28;01mfor\u001b[39;00m x \u001b[38;5;129;01min\u001b[39;00m \u001b[38;5;28mself\u001b[39m._custom_op_registerers \u001b[38;5;28;01mif\u001b[39;00m \u001b[38;5;28misinstance\u001b[39m(x, \u001b[38;5;28mstr\u001b[39m)\n\u001b[32m    460\u001b[39m ]\n\u001b[32m    461\u001b[39m custom_op_registerers_by_func = [\n\u001b[32m    462\u001b[39m     x \u001b[38;5;28;01mfor\u001b[39;00m x \u001b[38;5;129;01min\u001b[39;00m \u001b[38;5;28mself\u001b[39m._custom_op_registerers \u001b[38;5;28;01mif\u001b[39;00m \u001b[38;5;129;01mnot\u001b[39;00m \u001b[38;5;28misinstance\u001b[39m(x, \u001b[38;5;28mstr\u001b[39m)\n\u001b[32m    463\u001b[39m ]\n\u001b[32m--> \u001b[39m\u001b[32m464\u001b[39m \u001b[38;5;28mself\u001b[39m._interpreter = \u001b[43m_interpreter_wrapper\u001b[49m\u001b[43m.\u001b[49m\u001b[43mCreateWrapperFromFile\u001b[49m\u001b[43m(\u001b[49m\n\u001b[32m    465\u001b[39m \u001b[43m    \u001b[49m\u001b[43mmodel_path\u001b[49m\u001b[43m,\u001b[49m\n\u001b[32m    466\u001b[39m \u001b[43m    \u001b[49m\u001b[43mop_resolver_id\u001b[49m\u001b[43m,\u001b[49m\n\u001b[32m    467\u001b[39m \u001b[43m    \u001b[49m\u001b[43mcustom_op_registerers_by_name\u001b[49m\u001b[43m,\u001b[49m\n\u001b[32m    468\u001b[39m \u001b[43m    \u001b[49m\u001b[43mcustom_op_registerers_by_func\u001b[49m\u001b[43m,\u001b[49m\n\u001b[32m    469\u001b[39m \u001b[43m    \u001b[49m\u001b[43mexperimental_preserve_all_tensors\u001b[49m\u001b[43m,\u001b[49m\n\u001b[32m    470\u001b[39m \u001b[43m    \u001b[49m\u001b[43mexperimental_disable_delegate_clustering\u001b[49m\u001b[43m,\u001b[49m\n\u001b[32m    471\u001b[39m \u001b[43m\u001b[49m\u001b[43m)\u001b[49m\n\u001b[32m    472\u001b[39m \u001b[38;5;28;01mif\u001b[39;00m \u001b[38;5;129;01mnot\u001b[39;00m \u001b[38;5;28mself\u001b[39m._interpreter:\n\u001b[32m    473\u001b[39m   \u001b[38;5;28;01mraise\u001b[39;00m \u001b[38;5;167;01mValueError\u001b[39;00m(\u001b[33m'\u001b[39m\u001b[33mFailed to open \u001b[39m\u001b[38;5;132;01m{}\u001b[39;00m\u001b[33m'\u001b[39m.format(model_path))\n",
      "\u001b[31mValueError\u001b[39m: Could not open './model/cnn1d_model.tflite'."
     ]
    }
   ],
   "source": [
    "# 모델, 스케일러 로드\n",
    "interpreter = tflite.Interpreter(model_path='./model/cnn1d_model.tflite')\n",
    "interpreter.allocate_tensors()\n",
    "\n",
    "input_details = interpreter.get_input_details()\n",
    "output_details = interpreter.get_output_details()\n",
    "\n",
    "scaler = joblib.load('./model/scaler_cnn.joblib')\n"
   ]
  },
  {
   "cell_type": "code",
   "execution_count": null,
   "id": "8940fe09",
   "metadata": {},
   "outputs": [],
   "source": [
    "# I2C 및 ADC 설정\n",
    "i2c = busio.I2C(board.SCL, board.SDA)\n",
    "ads = ADS.ADS1115(i2c)\n",
    "ads.gain = 1\n",
    "\n",
    "voltage_ch = AnalogIn(ads, ADS.P0)\n",
    "current_ch = AnalogIn(ads, ADS.P1)"
   ]
  },
  {
   "cell_type": "code",
   "execution_count": null,
   "id": "f3623583",
   "metadata": {},
   "outputs": [],
   "source": [
    "# 샘플 버퍼 및 이상 탐지 버퍼\n",
    "data_buffer = []\n",
    "anomaly_buffer = []\n",
    "ANOMALY_THRESHOLD = 8\n",
    "first_anomaly_detected = False\n",
    "\n",
    "# 피처 생성 함수\n",
    "def add_features(voltage_seq, current_seq):\n",
    "    voltage = np.mean(voltage_seq) # 평균\n",
    "    current = np.mean(current_seq) # 평균\n",
    "    voltage_diff = np.abs(voltage_seq[-1] - voltage_seq[-2])\n",
    "    current_diff = np.abs(current_seq[-1] - current_seq[-2])\n",
    "    voltage_ma = np.mean(voltage_seq[-5:])\n",
    "    current_ma = np.mean(current_seq[-5:])\n",
    "    power = voltage * current\n",
    "    power_diff = np.abs(power - (voltage_seq[-2] * current_seq[-2]))\n",
    "    return [voltage, current, voltage_diff, current_diff, voltage_ma, current_ma, power, power_diff]\n"
   ]
  },
  {
   "cell_type": "code",
   "execution_count": null,
   "id": "141caeee",
   "metadata": {},
   "outputs": [],
   "source": [
    "# 실시간 센서 읽기 및 예측\n",
    "try:\n",
    "    print(\"🚀 실시간 아크 감지 시작합니다!\")\n",
    "\n",
    "    start_time = time.perf_counter()\n",
    "\n",
    "    while True:\n",
    "        voltage = voltage_ch.voltage\n",
    "        current = current_ch.voltage\n",
    "\n",
    "        data_buffer.append((voltage, current))\n",
    "\n",
    "        if len(data_buffer) >= 8:\n",
    "            voltage_seq, current_seq = zip(*data_buffer[-8:])\n",
    "\n",
    "            features = add_features(voltage_seq, current_seq)\n",
    "            features_scaled = scaler.transform(np.array(features).reshape(1, -1))\n",
    "            features_scaled = features_scaled.reshape((1, len(features), 1))\n",
    "\n",
    "            y_pred = model.predict(features_scaled, verbose=0)\n",
    "            anomaly = int(y_pred.flatten() > 0.5)\n",
    "\n",
    "            anomaly_buffer.append(anomaly)\n",
    "            if len(anomaly_buffer) > ANOMALY_THRESHOLD:\n",
    "                anomaly_buffer.pop(0)\n",
    "\n",
    "            if sum(anomaly_buffer) >= ANOMALY_THRESHOLD:\n",
    "                print(\"⚡ 아크 이상 감지!\")\n",
    "                if not first_anomaly_detected:\n",
    "                    elapsed_time = time.perf_counter() - start_time\n",
    "                    print(f\"⏱️ 첫 번째 이상 탐지까지 걸린 시간: {elapsed_time:.6f}초\")\n",
    "                    first_anomaly_detected = True\n",
    "\n",
    "        # 리소스 사용량 실시간 출력\n",
    "        cpu_usage = psutil.cpu_percent(interval=0.0)\n",
    "        memory_usage = psutil.Process().memory_info().rss / 1024 ** 2\n",
    "        print(f\"🧠 메모리 사용량: {memory_usage:.2f} MB, 🧮 CPU 사용률: {cpu_usage:.2f}%\")\n",
    "\n",
    "        time.sleep(0.0001)  # 10kHz 샘플링\n",
    "\n",
    "except KeyboardInterrupt:\n",
    "    print(\"🛑 실시간 감지를 종료합니다.\")\n",
    "    pass"
   ]
  }
 ],
 "metadata": {
  "kernelspec": {
   "display_name": "powerenv",
   "language": "python",
   "name": "python3"
  },
  "language_info": {
   "codemirror_mode": {
    "name": "ipython",
    "version": 3
   },
   "file_extension": ".py",
   "mimetype": "text/x-python",
   "name": "python",
   "nbconvert_exporter": "python",
   "pygments_lexer": "ipython3",
   "version": "3.11.2"
  }
 },
 "nbformat": 4,
 "nbformat_minor": 5
}
