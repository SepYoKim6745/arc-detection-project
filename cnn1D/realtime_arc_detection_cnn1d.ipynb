{
 "cells": [
  {
   "cell_type": "code",
   "execution_count": 4,
   "id": "fcc8118f",
   "metadata": {},
   "outputs": [
    {
     "ename": "NotImplementedError",
     "evalue": "\n        Adafruit-PlatformDetect version 3.77.0 was unable to identify the board and/or\n        microcontroller running the Windows platform. Please be sure you\n        have the latest packages by running:\n        'pip3 install --upgrade adafruit-blinka adafruit-platformdetect'\n\n        If you are running the latest package, your board may not yet be supported. Please\n        open a New Issue on GitHub at https://github.com/adafruit/Adafruit_Blinka/issues and\n        select New Board Request.\n        ",
     "output_type": "error",
     "traceback": [
      "\u001b[31m---------------------------------------------------------------------------\u001b[39m",
      "\u001b[31mNotImplementedError\u001b[39m                       Traceback (most recent call last)",
      "\u001b[36mCell\u001b[39m\u001b[36m \u001b[39m\u001b[32mIn[4]\u001b[39m\u001b[32m, line 3\u001b[39m\n\u001b[32m      1\u001b[39m \u001b[38;5;66;03m# 모듈 임포트\u001b[39;00m\n\u001b[32m      2\u001b[39m \u001b[38;5;28;01mimport\u001b[39;00m\u001b[38;5;250m \u001b[39m\u001b[34;01mtime\u001b[39;00m\n\u001b[32m----> \u001b[39m\u001b[32m3\u001b[39m \u001b[38;5;28;01mimport\u001b[39;00m\u001b[38;5;250m \u001b[39m\u001b[34;01mboard\u001b[39;00m\n\u001b[32m      4\u001b[39m \u001b[38;5;28;01mimport\u001b[39;00m\u001b[38;5;250m \u001b[39m\u001b[34;01mbusio\u001b[39;00m\n\u001b[32m      5\u001b[39m \u001b[38;5;28;01mimport\u001b[39;00m\u001b[38;5;250m \u001b[39m\u001b[34;01madafruit_ads1x15\u001b[39;00m\u001b[34;01m.\u001b[39;00m\u001b[34;01mads1115\u001b[39;00m\u001b[38;5;250m \u001b[39m\u001b[38;5;28;01mas\u001b[39;00m\u001b[38;5;250m \u001b[39m\u001b[34;01mADS\u001b[39;00m\n",
      "\u001b[36mFile \u001b[39m\u001b[32mc:\\Users\\NGN Lab\\Desktop\\kys\\논문\\전기안전공학\\source\\arc-detection-project\\powerenv\\Lib\\site-packages\\board.py:448\u001b[39m\n\u001b[32m    445\u001b[39m     \u001b[38;5;28;01mimport\u001b[39;00m\u001b[38;5;250m \u001b[39m\u001b[34;01mpkg_resources\u001b[39;00m\n\u001b[32m    447\u001b[39m     package = \u001b[38;5;28mstr\u001b[39m(pkg_resources.get_distribution(\u001b[33m\"\u001b[39m\u001b[33madafruit_platformdetect\u001b[39m\u001b[33m\"\u001b[39m)).split()\n\u001b[32m--> \u001b[39m\u001b[32m448\u001b[39m     \u001b[38;5;28;01mraise\u001b[39;00m \u001b[38;5;167;01mNotImplementedError\u001b[39;00m(\n\u001b[32m    449\u001b[39m         \u001b[33mf\u001b[39m\u001b[33m\"\"\"\u001b[39m\n\u001b[32m    450\u001b[39m \u001b[33m        \u001b[39m\u001b[38;5;132;01m{\u001b[39;00mpackage[\u001b[32m0\u001b[39m]\u001b[38;5;132;01m}\u001b[39;00m\u001b[33m version \u001b[39m\u001b[38;5;132;01m{\u001b[39;00mpackage[\u001b[32m1\u001b[39m]\u001b[38;5;132;01m}\u001b[39;00m\u001b[33m was unable to identify the board and/or\u001b[39m\n\u001b[32m    451\u001b[39m \u001b[33m        microcontroller running the \u001b[39m\u001b[38;5;132;01m{\u001b[39;00mplatform.system()\u001b[38;5;132;01m}\u001b[39;00m\u001b[33m platform. Please be sure you\u001b[39m\n\u001b[32m    452\u001b[39m \u001b[33m        have the latest packages by running:\u001b[39m\n\u001b[32m    453\u001b[39m \u001b[33m        \u001b[39m\u001b[33m'\u001b[39m\u001b[33mpip3 install --upgrade adafruit-blinka adafruit-platformdetect\u001b[39m\u001b[33m'\u001b[39m\n\u001b[32m    454\u001b[39m \n\u001b[32m    455\u001b[39m \u001b[33m        If you are running the latest package, your board may not yet be supported. Please\u001b[39m\n\u001b[32m    456\u001b[39m \u001b[33m        open a New Issue on GitHub at https://github.com/adafruit/Adafruit_Blinka/issues and\u001b[39m\n\u001b[32m    457\u001b[39m \u001b[33m        select New Board Request.\u001b[39m\n\u001b[32m    458\u001b[39m \u001b[33m        \u001b[39m\u001b[33m\"\"\"\u001b[39m\n\u001b[32m    459\u001b[39m     )\n\u001b[32m    461\u001b[39m \u001b[38;5;28;01melse\u001b[39;00m:\n\u001b[32m    462\u001b[39m     \u001b[38;5;28;01mraise\u001b[39;00m \u001b[38;5;167;01mNotImplementedError\u001b[39;00m(\u001b[33mf\u001b[39m\u001b[33m\"\u001b[39m\u001b[33mBoard not supported \u001b[39m\u001b[38;5;132;01m{\u001b[39;00mboard_id\u001b[38;5;132;01m}\u001b[39;00m\u001b[33m.\u001b[39m\u001b[33m\"\u001b[39m)\n",
      "\u001b[31mNotImplementedError\u001b[39m: \n        Adafruit-PlatformDetect version 3.77.0 was unable to identify the board and/or\n        microcontroller running the Windows platform. Please be sure you\n        have the latest packages by running:\n        'pip3 install --upgrade adafruit-blinka adafruit-platformdetect'\n\n        If you are running the latest package, your board may not yet be supported. Please\n        open a New Issue on GitHub at https://github.com/adafruit/Adafruit_Blinka/issues and\n        select New Board Request.\n        "
     ]
    }
   ],
   "source": [
    "# 모듈 임포트\n",
    "import time\n",
    "import board\n",
    "import busio\n",
    "import adafruit_ads1x15.ads1115 as ADS\n",
    "from adafruit_ads1x15.analog_in import AnalogIn\n",
    "import tensorflow as tf\n",
    "import joblib\n",
    "import numpy as np\n",
    "import psutil"
   ]
  },
  {
   "cell_type": "code",
   "execution_count": null,
   "id": "6f62d123",
   "metadata": {},
   "outputs": [],
   "source": [
    "# 모델, 스케일러 로드\n",
    "model = tf.keras.models.load_model('./model/cnn1d_model.h5')\n",
    "scaler = joblib.load('./model/scaler_cnn.joblib')\n"
   ]
  },
  {
   "cell_type": "code",
   "execution_count": null,
   "id": "8940fe09",
   "metadata": {},
   "outputs": [],
   "source": [
    "# I2C 및 ADC 설정\n",
    "i2c = busio.I2C(board.SCL, board.SDA)\n",
    "ads = ADS.ADS1115(i2c)\n",
    "ads.gain = 1\n",
    "\n",
    "voltage_ch = AnalogIn(ads, ADS.P0)\n",
    "current_ch = AnalogIn(ads, ADS.P1)"
   ]
  },
  {
   "cell_type": "code",
   "execution_count": null,
   "id": "f3623583",
   "metadata": {},
   "outputs": [],
   "source": [
    "# 샘플 버퍼 및 이상 탐지 버퍼\n",
    "data_buffer = []\n",
    "anomaly_buffer = []\n",
    "ANOMALY_THRESHOLD = 8\n",
    "first_anomaly_detected = False\n",
    "\n",
    "# 피처 생성 함수\n",
    "def add_features(voltage_seq, current_seq):\n",
    "    voltage = np.mean(voltage_seq) # 평균\n",
    "    current = np.mean(current_seq) # 평균\n",
    "    voltage_diff = np.abs(voltage_seq[-1] - voltage_seq[-2])\n",
    "    current_diff = np.abs(current_seq[-1] - current_seq[-2])\n",
    "    voltage_ma = np.mean(voltage_seq[-5:])\n",
    "    current_ma = np.mean(current_seq[-5:])\n",
    "    power = voltage * current\n",
    "    power_diff = np.abs(power - (voltage_seq[-2] * current_seq[-2]))\n",
    "    return [voltage, current, voltage_diff, current_diff, voltage_ma, current_ma, power, power_diff]\n"
   ]
  },
  {
   "cell_type": "code",
   "execution_count": null,
   "id": "141caeee",
   "metadata": {},
   "outputs": [],
   "source": [
    "# 실시간 센서 읽기 및 예측\n",
    "try:\n",
    "    print(\"🚀 실시간 아크 감지 시작합니다!\")\n",
    "\n",
    "    start_time = time.perf_counter()\n",
    "\n",
    "    while True:\n",
    "        voltage = voltage_ch.voltage\n",
    "        current = current_ch.voltage\n",
    "\n",
    "        data_buffer.append((voltage, current))\n",
    "\n",
    "        if len(data_buffer) >= 8:\n",
    "            voltage_seq, current_seq = zip(*data_buffer[-8:])\n",
    "\n",
    "            features = add_features(voltage_seq, current_seq)\n",
    "            features_scaled = scaler.transform(np.array(features).reshape(1, -1))\n",
    "            features_scaled = features_scaled.reshape((1, len(features), 1))\n",
    "\n",
    "            y_pred = model.predict(features_scaled, verbose=0)\n",
    "            anomaly = int(y_pred.flatten() > 0.5)\n",
    "\n",
    "            anomaly_buffer.append(anomaly)\n",
    "            if len(anomaly_buffer) > ANOMALY_THRESHOLD:\n",
    "                anomaly_buffer.pop(0)\n",
    "\n",
    "            if sum(anomaly_buffer) >= ANOMALY_THRESHOLD:\n",
    "                print(\"⚡ 아크 이상 감지!\")\n",
    "                if not first_anomaly_detected:\n",
    "                    elapsed_time = time.perf_counter() - start_time\n",
    "                    print(f\"⏱️ 첫 번째 이상 탐지까지 걸린 시간: {elapsed_time:.6f}초\")\n",
    "                    first_anomaly_detected = True\n",
    "\n",
    "        # 리소스 사용량 실시간 출력\n",
    "        cpu_usage = psutil.cpu_percent(interval=0.0)\n",
    "        memory_usage = psutil.Process().memory_info().rss / 1024 ** 2\n",
    "        print(f\"🧠 메모리 사용량: {memory_usage:.2f} MB, 🧮 CPU 사용률: {cpu_usage:.2f}%\")\n",
    "\n",
    "        time.sleep(0.0001)  # 10kHz 샘플링\n",
    "\n",
    "except KeyboardInterrupt:\n",
    "    print(\"🛑 실시간 감지를 종료합니다.\")\n",
    "    pass"
   ]
  }
 ],
 "metadata": {
  "kernelspec": {
   "display_name": "powerenv",
   "language": "python",
   "name": "python3"
  },
  "language_info": {
   "codemirror_mode": {
    "name": "ipython",
    "version": 3
   },
   "file_extension": ".py",
   "mimetype": "text/x-python",
   "name": "python",
   "nbconvert_exporter": "python",
   "pygments_lexer": "ipython3",
   "version": "3.12.7"
  }
 },
 "nbformat": 4,
 "nbformat_minor": 5
}
