{
 "cells": [
  {
   "cell_type": "code",
   "execution_count": 4,
   "id": "705243e3",
   "metadata": {},
   "outputs": [],
   "source": [
    "# 모듈 임포트\n",
    "import time\n",
    "# import board\n",
    "# import busio\n",
    "# import adafruit_ads1x15.ads1115 as ADS\n",
    "# from adafruit_ads1x15.analog_in import AnalogIn\n",
    "import joblib\n",
    "import numpy as np\n",
    "import psutil\n",
    "import pandas as pd\n",
    "import csv\n",
    "from datetime import datetime\n",
    "import tflite_runtime.interpreter as tflite\n",
    "from sklearn.preprocessing import StandardScaler"
   ]
  },
  {
   "cell_type": "code",
   "execution_count": 2,
   "id": "e4c7d416",
   "metadata": {},
   "outputs": [
    {
     "name": "stderr",
     "output_type": "stream",
     "text": [
      "INFO: Created TensorFlow Lite XNNPACK delegate for CPU.\n"
     ]
    }
   ],
   "source": [
    "# TFLite 모델 및 스케일러 로드\n",
    "interpreter = tflite.Interpreter(model_path=\"./model/cnn1d_model_compatible.tflite\")\n",
    "interpreter.allocate_tensors()\n",
    "\n",
    "input_details = interpreter.get_input_details()\n",
    "output_details = interpreter.get_output_details()\n",
    "\n",
    "scaler = joblib.load('./model/scaler_cnn.joblib')"
   ]
  },
  {
   "cell_type": "code",
   "execution_count": 3,
   "id": "8940fe09",
   "metadata": {},
   "outputs": [
    {
     "ename": "NameError",
     "evalue": "name 'busio' is not defined",
     "output_type": "error",
     "traceback": [
      "\u001b[31m---------------------------------------------------------------------------\u001b[39m",
      "\u001b[31mNameError\u001b[39m                                 Traceback (most recent call last)",
      "\u001b[36mCell\u001b[39m\u001b[36m \u001b[39m\u001b[32mIn[3]\u001b[39m\u001b[32m, line 2\u001b[39m\n\u001b[32m      1\u001b[39m \u001b[38;5;66;03m# I2C 및 ADC 설정\u001b[39;00m\n\u001b[32m----> \u001b[39m\u001b[32m2\u001b[39m i2c = \u001b[43mbusio\u001b[49m.I2C(board.SCL, board.SDA)\n\u001b[32m      3\u001b[39m ads = ADS.ADS1115(i2c)\n\u001b[32m      4\u001b[39m ads.gain = \u001b[32m2\u001b[39m/\u001b[32m3\u001b[39m\n",
      "\u001b[31mNameError\u001b[39m: name 'busio' is not defined"
     ]
    }
   ],
   "source": [
    "# I2C 및 ADC 설정\n",
    "i2c = busio.I2C(board.SCL, board.SDA)\n",
    "ads = ADS.ADS1115(i2c)\n",
    "ads.gain = 2/3\n",
    "\n",
    "voltage_ch = AnalogIn(ads, ADS.P0)\n",
    "current_ch = AnalogIn(ads, ADS.P1)"
   ]
  },
  {
   "cell_type": "code",
   "execution_count": null,
   "id": "c6308870",
   "metadata": {},
   "outputs": [],
   "source": [
    "# 센서 보정값\n",
    "ZMPT_offset = 2.5539\n",
    "ZMPT_scale = 997.6\n",
    "\n",
    "ACS712_offset = 2.5087\n",
    "ACS712_sensitivity = 0.0990"
   ]
  },
  {
   "cell_type": "code",
   "execution_count": null,
   "id": "5931cfe4",
   "metadata": {},
   "outputs": [],
   "source": [
    "# 파생 피처 추출 함수\n",
    "def extract_features_from_sequence(seq):\n",
    "    voltage_seq, current_seq = zip(*seq)\n",
    "    voltage = np.mean(voltage_seq)\n",
    "    current = np.mean(current_seq)\n",
    "    voltage_diff = np.abs(voltage_seq[-1] - voltage_seq[-2])\n",
    "    current_diff = np.abs(current_seq[-1] - current_seq[-2])\n",
    "    voltage_ma = np.mean(voltage_seq[-5:])\n",
    "    current_ma = np.mean(current_seq[-5:])\n",
    "    power = voltage * current\n",
    "    power_diff = np.abs(power - (voltage_seq[-2] * current_seq[-2]))\n",
    "    return [voltage, current, voltage_diff, current_diff, voltage_ma, current_ma, power, power_diff]"
   ]
  },
  {
   "cell_type": "code",
   "execution_count": null,
   "id": "bf820d98",
   "metadata": {},
   "outputs": [],
   "source": [
    "# CNN 입력 시퀀스 생성\n",
    "def build_cnn_input(data_buffer, seq_len=8):\n",
    "    if len(data_buffer) < seq_len + 7:\n",
    "        return None\n",
    "    sequence = []\n",
    "    for i in range(-seq_len, 0):  # 마지막 8개 시점 기준\n",
    "        window = data_buffer[i:i+8]\n",
    "        voltage_seq, current_seq = zip(*window)\n",
    "        features = extract_features_from_sequence(list(zip(voltage_seq, current_seq)))\n",
    "        sequence.append(features)\n",
    "    return np.array(sequence)"
   ]
  },
  {
   "cell_type": "code",
   "execution_count": null,
   "id": "c63a30ba",
   "metadata": {},
   "outputs": [],
   "source": [
    "# 후처리: 연속 이상 감지 확인\n",
    "def postprocess_anomalies_realtime(anomaly_buffer, min_consecutive=8):\n",
    "    if len(anomaly_buffer) < min_consecutive:\n",
    "        return False\n",
    "    count = 0\n",
    "    for val in reversed(anomaly_buffer):\n",
    "        if val == 1:\n",
    "            count += 1\n",
    "        else:\n",
    "            break\n",
    "    return count >= min_consecutive"
   ]
  },
  {
   "cell_type": "code",
   "execution_count": null,
   "id": "5d0617d6",
   "metadata": {},
   "outputs": [],
   "source": [
    "# 테스트용 CSV 데이터 (센서 미사용시)\n",
    "column_names = ['timestamp', 'v_raw', 'c_raw', 'voltage', 'current']\n",
    "df = pd.read_csv('./log/raw_dataset_arc.csv', names=column_names, header=None)\n",
    "df = df.dropna(subset=['voltage', 'current']).reset_index(drop=True)\n",
    "csv_filename = \"./log/cnn_log.csv\""
   ]
  },
  {
   "cell_type": "code",
   "execution_count": null,
   "id": "db2cc7da",
   "metadata": {},
   "outputs": [],
   "source": [
    "try:\n",
    "    print(\"🚀 실시간 아크 감지 시작합니다!\")\n",
    "\n",
    "    USE_SENSOR = True  # ← False 설정 시 CSV 모드로 작동\n",
    "    ANOMALY_THRESHOLD = 8\n",
    "\n",
    "    data_buffer = []\n",
    "    anomaly_buffer = []\n",
    "    first_anomaly_detected = False\n",
    "    anomaly_start_time = None\n",
    "    start_time = time.perf_counter()\n",
    "    idx = -1\n",
    "\n",
    "    while True:\n",
    "        idx += 1\n",
    "\n",
    "        # 센서 or CSV 입력\n",
    "        if USE_SENSOR:\n",
    "            try:\n",
    "                v_raw_sensor = voltage_ch.voltage\n",
    "                c_raw_sensor = current_ch.voltage\n",
    "                voltage = (v_raw_sensor - ZMPT_offset) * ZMPT_scale\n",
    "                current = (c_raw_sensor - ACS712_offset) / ACS712_sensitivity\n",
    "                prev_voltage = voltage\n",
    "                prev_current = current\n",
    "            except (OSError, ValueError, RuntimeError) as e:\n",
    "                print(f\"⚠️ 센서 오류 발생: {e}\")\n",
    "                voltage = prev_voltage if 'prev_voltage' in locals() else 0\n",
    "                current = prev_current if 'prev_current' in locals() else 0\n",
    "        else:\n",
    "            if idx >= len(df):\n",
    "                break\n",
    "            voltage = df['voltage'].iloc[idx]\n",
    "            current = df['current'].iloc[idx]\n",
    "\n",
    "        data_buffer.append((voltage, current))\n",
    "        if len(data_buffer) > 100:\n",
    "            data_buffer.pop(0)\n",
    "\n",
    "        # CNN 입력 생성 및 추론\n",
    "        if len(data_buffer) >= 15:\n",
    "            X_seq = build_cnn_input(data_buffer)\n",
    "            if X_seq is None:\n",
    "                continue\n",
    "            X_scaled = scaler.transform(X_seq)\n",
    "            X_scaled = X_scaled.reshape(1, 8, 8)\n",
    "\n",
    "            interpreter.set_tensor(input_details[0]['index'], X_scaled.astype(np.float32))\n",
    "            interpreter.invoke()\n",
    "            output_data = interpreter.get_tensor(output_details[0]['index'])\n",
    "            y_pred = output_data[0][0]\n",
    "            anomaly = int(y_pred > 0.5)\n",
    "\n",
    "            anomaly_buffer.append(anomaly)\n",
    "            if len(anomaly_buffer) > ANOMALY_THRESHOLD:\n",
    "                anomaly_buffer.pop(0)\n",
    "\n",
    "            if anomaly == 1 and anomaly_start_time is None:\n",
    "                anomaly_start_time = time.perf_counter()\n",
    "            elif anomaly == 0:\n",
    "                anomaly_start_time = None\n",
    "\n",
    "            if postprocess_anomalies_realtime(anomaly_buffer, min_consecutive=ANOMALY_THRESHOLD):\n",
    "                print(\"⚡ 아크 이상 감지!\", idx)\n",
    "                if not first_anomaly_detected and anomaly_start_time is not None:\n",
    "                    total_elapsed = time.perf_counter() - start_time\n",
    "                    actual_elapsed = time.perf_counter() - anomaly_start_time\n",
    "                    print(f\"⏱️ 전체 소요 시간: {total_elapsed:.6f}초\")\n",
    "                    print(f\"⏱️ 연속 {ANOMALY_THRESHOLD}개 이상 신호까지 소요 시간: {actual_elapsed:.6f}초\")\n",
    "                    first_anomaly_detected = True\n",
    "                    break\n",
    "\n",
    "        # CSV 기록\n",
    "        with open(csv_filename, mode='a', newline='') as file:\n",
    "            writer = csv.writer(file)\n",
    "            timestamp = datetime.now().isoformat()\n",
    "            writer.writerow([timestamp, voltage, current, anomaly])\n",
    "\n",
    "        # 상태 출력\n",
    "        cpu_usage = psutil.cpu_percent(interval=0.0)\n",
    "        memory_usage = psutil.Process().memory_info().rss / 1024 ** 2\n",
    "        print(f\"🧠 메모리: {memory_usage:.2f}MB | 🧮 CPU: {cpu_usage:.2f}% | idx: {idx}\")\n",
    "        print(f\"v_raw:{voltage:.4f}, current_raw:{current:.4f}, anomaly:{anomaly}\")\n",
    "\n",
    "        time.sleep(0.001163)  # 860Hz 기준\n",
    "\n",
    "except KeyboardInterrupt:\n",
    "    print(\"🛑 실시간 감지를 종료합니다.\")"
   ]
  }
 ],
 "metadata": {
  "kernelspec": {
   "display_name": "powerenv",
   "language": "python",
   "name": "python3"
  },
  "language_info": {
   "codemirror_mode": {
    "name": "ipython",
    "version": 3
   },
   "file_extension": ".py",
   "mimetype": "text/x-python",
   "name": "python",
   "nbconvert_exporter": "python",
   "pygments_lexer": "ipython3",
   "version": "3.11.2"
  }
 },
 "nbformat": 4,
 "nbformat_minor": 5
}
