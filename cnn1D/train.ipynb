{
 "cells": [
  {
   "cell_type": "code",
   "execution_count": 6,
   "id": "865e867f",
   "metadata": {},
   "outputs": [
    {
     "ename": "ModuleNotFoundError",
     "evalue": "No module named 'tensorflow'",
     "output_type": "error",
     "traceback": [
      "\u001b[31m---------------------------------------------------------------------------\u001b[39m",
      "\u001b[31mModuleNotFoundError\u001b[39m                       Traceback (most recent call last)",
      "\u001b[36mCell\u001b[39m\u001b[36m \u001b[39m\u001b[32mIn[6]\u001b[39m\u001b[32m, line 4\u001b[39m\n\u001b[32m      2\u001b[39m \u001b[38;5;28;01mimport\u001b[39;00m\u001b[38;5;250m \u001b[39m\u001b[34;01mnumpy\u001b[39;00m\u001b[38;5;250m \u001b[39m\u001b[38;5;28;01mas\u001b[39;00m\u001b[38;5;250m \u001b[39m\u001b[34;01mnp\u001b[39;00m\n\u001b[32m      3\u001b[39m \u001b[38;5;28;01mimport\u001b[39;00m\u001b[38;5;250m \u001b[39m\u001b[34;01mmatplotlib\u001b[39;00m\u001b[34;01m.\u001b[39;00m\u001b[34;01mpyplot\u001b[39;00m\u001b[38;5;250m \u001b[39m\u001b[38;5;28;01mas\u001b[39;00m\u001b[38;5;250m \u001b[39m\u001b[34;01mplt\u001b[39;00m\n\u001b[32m----> \u001b[39m\u001b[32m4\u001b[39m \u001b[38;5;28;01mimport\u001b[39;00m\u001b[38;5;250m \u001b[39m\u001b[34;01mtensorflow\u001b[39;00m\u001b[38;5;250m \u001b[39m\u001b[38;5;28;01mas\u001b[39;00m\u001b[38;5;250m \u001b[39m\u001b[34;01mtf\u001b[39;00m\n\u001b[32m      5\u001b[39m \u001b[38;5;28;01mfrom\u001b[39;00m\u001b[38;5;250m \u001b[39m\u001b[34;01mtensorflow\u001b[39;00m\u001b[34;01m.\u001b[39;00m\u001b[34;01mkeras\u001b[39;00m\u001b[34;01m.\u001b[39;00m\u001b[34;01mmodels\u001b[39;00m\u001b[38;5;250m \u001b[39m\u001b[38;5;28;01mimport\u001b[39;00m Sequential\n\u001b[32m      6\u001b[39m \u001b[38;5;28;01mfrom\u001b[39;00m\u001b[38;5;250m \u001b[39m\u001b[34;01mtensorflow\u001b[39;00m\u001b[34;01m.\u001b[39;00m\u001b[34;01mkeras\u001b[39;00m\u001b[34;01m.\u001b[39;00m\u001b[34;01mlayers\u001b[39;00m\u001b[38;5;250m \u001b[39m\u001b[38;5;28;01mimport\u001b[39;00m Conv1D, MaxPooling1D, Flatten, Dense, Dropout\n",
      "\u001b[31mModuleNotFoundError\u001b[39m: No module named 'tensorflow'"
     ]
    }
   ],
   "source": [
    "import pandas as pd\n",
    "import numpy as np\n",
    "import matplotlib.pyplot as plt\n",
    "import tensorflow as tf\n",
    "from tensorflow.keras.models import Sequential\n",
    "from tensorflow.keras.layers import Conv1D, MaxPooling1D, Flatten, Dense, Dropout\n",
    "from tensorflow.keras.callbacks import EarlyStopping\n",
    "from sklearn.preprocessing import StandardScaler\n",
    "from sklearn.metrics import classification_report\n",
    "import joblib\n",
    "import os\n",
    "import time"
   ]
  },
  {
   "cell_type": "code",
   "execution_count": null,
   "id": "a67510e8",
   "metadata": {},
   "outputs": [],
   "source": [
    "# 데이터 불러오기\n",
    "df_normal = pd.read_excel('../dataset/preprocessed/50ohm_정상_train.xlsx')\n",
    "df_arc = pd.read_excel('../dataset/preprocessed/50ohm_아크_train.xlsx')\n",
    "test_df = pd.read_excel('../dataset/preprocessed/50ohm_통합_test.xlsx')\n",
    "\n",
    "df_normal = df_normal.rename(columns={'power_voltage': 'voltage', 'power_current': 'current'})\n",
    "df_arc = df_arc.rename(columns={'arc_voltage': 'voltage', 'arc_current': 'current'})\n",
    "test_df = test_df.rename(columns={'power_voltage': 'voltage', 'power_current': 'current'})\n",
    "\n",
    "df_normal['label'] = 0\n",
    "df_arc['label'] = 1\n",
    "\n",
    "train_df = pd.concat([df_normal, df_arc], ignore_index=True)"
   ]
  },
  {
   "cell_type": "code",
   "execution_count": null,
   "id": "fc1cbfcf",
   "metadata": {},
   "outputs": [],
   "source": [
    "def add_features(df):\n",
    "    df['voltage_diff'] = df['voltage'].diff().fillna(0).abs()\n",
    "    df['current_diff'] = df['current'].diff().fillna(0).abs()\n",
    "    df['voltage_ma'] = df['voltage'].rolling(5).mean().bfill()\n",
    "    df['current_ma'] = df['current'].rolling(5).mean().bfill()\n",
    "    df['power'] = df['voltage'] * df['current']\n",
    "    df['power_diff'] = df['power'].diff().fillna(0).abs()\n",
    "    return df\n",
    "\n",
    "train_df = add_features(train_df)\n",
    "test_df = add_features(test_df)"
   ]
  },
  {
   "cell_type": "code",
   "execution_count": null,
   "id": "ebf7ac3a",
   "metadata": {},
   "outputs": [],
   "source": [
    "# 피처 설정\n",
    "features = ['voltage', 'current', 'voltage_diff', 'current_diff',\n",
    "            'voltage_ma', 'current_ma', 'power', 'power_diff']\n",
    "\n",
    "X_train = train_df[features].values\n",
    "y_train = train_df['label'].values\n",
    "X_test = test_df[features].values\n",
    "y_test = test_df['label'].values"
   ]
  },
  {
   "cell_type": "code",
   "execution_count": null,
   "id": "eae65142",
   "metadata": {},
   "outputs": [],
   "source": [
    "# 정규화\n",
    "scaler = StandardScaler()\n",
    "X_train_scaled = scaler.fit_transform(X_train)\n",
    "X_test_scaled = scaler.transform(X_test)\n",
    "\n",
    "# CNN 입력에 맞게 reshape\n",
    "X_train_scaled = X_train_scaled.reshape((X_train_scaled.shape[0], X_train_scaled.shape[1], 1))\n",
    "X_test_scaled = X_test_scaled.reshape((X_test_scaled.shape[0], X_test_scaled.shape[1], 1))"
   ]
  },
  {
   "cell_type": "code",
   "execution_count": null,
   "id": "222c52c4",
   "metadata": {},
   "outputs": [],
   "source": [
    "# CNN 모델 정의\n",
    "model = Sequential()\n",
    "model.add(Conv1D(32, kernel_size=3, activation='relu', input_shape=(X_train_scaled.shape[1], 1)))\n",
    "model.add(MaxPooling1D(pool_size=2))\n",
    "model.add(Dropout(0.3))\n",
    "model.add(Flatten())\n",
    "model.add(Dense(64, activation='relu'))\n",
    "model.add(Dense(1, activation='sigmoid'))  # 이진 분류\n",
    "\n",
    "model.compile(optimizer='adam', loss='binary_crossentropy', metrics=['accuracy'])\n"
   ]
  },
  {
   "cell_type": "code",
   "execution_count": null,
   "id": "4d59c345",
   "metadata": {},
   "outputs": [],
   "source": [
    "# 학습\n",
    "early_stop = EarlyStopping(monitor='val_loss', patience=3, restore_best_weights=True)\n",
    "\n",
    "model.fit(X_train_scaled, y_train, validation_split=0.2,\n",
    "          epochs=20, batch_size=64, callbacks=[early_stop])\n",
    "\n",
    "model.save('./model/cnn1d_model.h5')\n",
    "joblib.dump(scaler, './model/scaler_cnn.joblib')\n"
   ]
  },
  {
   "cell_type": "code",
   "execution_count": null,
   "id": "32103668",
   "metadata": {},
   "outputs": [],
   "source": [
    "# 예측\n",
    "y_pred_prob = model.predict(X_test_scaled)\n",
    "y_pred = (y_pred_prob.flatten() > 0.5).astype(int)"
   ]
  },
  {
   "cell_type": "code",
   "execution_count": null,
   "id": "8bd6ee57",
   "metadata": {},
   "outputs": [],
   "source": [
    "def postprocess_anomalies(y_pred_bin, min_consecutive=8):\n",
    "    y_post = np.zeros_like(y_pred_bin)\n",
    "    count = 0\n",
    "    for i, val in enumerate(y_pred_bin):\n",
    "        if val == 1:\n",
    "            count += 1\n",
    "        else:\n",
    "            if count >= min_consecutive:\n",
    "                y_post[i - count:i] = 1\n",
    "            count = 0\n",
    "    if count >= min_consecutive:\n",
    "        y_post[len(y_pred_bin)-count:] = 1\n",
    "    return y_post\n",
    "\n",
    "y_pred_post = postprocess_anomalies(y_pred, min_consecutive=8)\n",
    "y_true_post = postprocess_anomalies(y_test, min_consecutive=8)"
   ]
  },
  {
   "cell_type": "code",
   "execution_count": null,
   "id": "7c032046",
   "metadata": {},
   "outputs": [],
   "source": [
    "print(\"📋 (후처리 적용) 분류 리포트:\\n\")\n",
    "print(classification_report(y_true_post, y_pred_post, target_names=['정상', '아크']))\n"
   ]
  },
  {
   "cell_type": "code",
   "execution_count": null,
   "id": "481f371b",
   "metadata": {},
   "outputs": [],
   "source": [
    "def calculate_detection_delay(y_pred_bin, label, sampling_interval=0.0001):\n",
    "    arc_start = np.where(label == 1)[0][0]\n",
    "    detected = np.where(y_pred_bin[arc_start:] == 1)[0]\n",
    "    if len(detected) == 0:\n",
    "        print(\"⚠️ 아크를 탐지하지 못했습니다.\")\n",
    "        return None\n",
    "    detect_index = detected[0] + arc_start\n",
    "    delay = detect_index - arc_start\n",
    "    time_detected = detect_index * sampling_interval\n",
    "    print(f\"✅ 아크 시작 인덱스: {arc_start}\")\n",
    "    print(f\"✅ 모델 이상 감지 인덱스: {detect_index}\")\n",
    "    print(f\"⏱️ 감지 지연 시간: {delay} 샘플\")\n",
    "    print(f\"⏱️ 감지된 시점 (초): {time_detected:.6f} 초\")\n",
    "    return arc_start, detect_index, delay\n",
    "\n",
    "arc_start, detect_index, delay = calculate_detection_delay(y_pred_post, y_true_post)\n"
   ]
  }
 ],
 "metadata": {
  "kernelspec": {
   "display_name": "powerenv",
   "language": "python",
   "name": "python3"
  },
  "language_info": {
   "codemirror_mode": {
    "name": "ipython",
    "version": 3
   },
   "file_extension": ".py",
   "mimetype": "text/x-python",
   "name": "python",
   "nbconvert_exporter": "python",
   "pygments_lexer": "ipython3",
   "version": "3.11.2"
  }
 },
 "nbformat": 4,
 "nbformat_minor": 5
}
