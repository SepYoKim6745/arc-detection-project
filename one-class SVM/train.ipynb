{
 "cells": [
  {
   "cell_type": "code",
   "execution_count": 11,
   "id": "76f1022f",
   "metadata": {},
   "outputs": [],
   "source": [
    "# 모듈 임포트\n",
    "import pandas as pd\n",
    "import numpy as np\n",
    "from sklearn.preprocessing import StandardScaler\n",
    "from sklearn.svm import OneClassSVM\n",
    "from sklearn.metrics import classification_report\n",
    "import joblib\n",
    "import time\n",
    "import matplotlib.pyplot as plt\n",
    "import glob\n",
    "import os"
   ]
  },
  {
   "cell_type": "code",
   "execution_count": 12,
   "id": "1ffac451",
   "metadata": {},
   "outputs": [
    {
     "name": "stdout",
     "output_type": "stream",
     "text": [
      "['../cnn1D/log/0529/학습데이터/노트북 전용/무부하 정상 데이터.csv']\n"
     ]
    }
   ],
   "source": [
    "# 컬럼명 정의\n",
    "column_names = ['timestamp', 'v_raw', 'c_raw', 'voltage', 'current', 'label']\n",
    "\n",
    "# 폴더 경로\n",
    "# normal_dir = '../realtime/normal/'\n",
    "# normal_files = glob.glob(os.path.join(normal_dir, '*.csv'))\n",
    "# normal_dfs = [pd.read_csv(file, names=column_names, header=None) for file in normal_files]\n",
    "# normal_data = pd.concat(normal_dfs, ignore_index=True)\n",
    "\n",
    "\n",
    "# # arc 폴더 CSV 병합\n",
    "# arc_dir = '../realtime/arc/'\n",
    "# arc_files = glob.glob(os.path.join(arc_dir, '*.csv'))\n",
    "# arc_dfs = [pd.read_csv(file, names=column_names, header=None) for file in arc_files]\n",
    "# arc_data = pd.concat(arc_dfs, ignore_index=True)\n",
    "\n",
    "# 전체 병합\n",
    "# train_df = pd.concat([normal_data, arc_data], ignore_index=True)\n",
    "\n",
    "# train_df = normal_data\n",
    "\n",
    "# 셔플\n",
    "normal_dir = '../cnn1D/log/0529/학습데이터/노트북 전용/'\n",
    "normal_files = glob.glob(os.path.join(normal_dir, '*.csv'))\n",
    "print(normal_files)\n",
    "normal_dfs = [pd.read_csv(file, names=column_names, header=None) for file in normal_files]\n",
    "train_df = pd.concat(normal_dfs, ignore_index=True)\n",
    "# train_df = pd.read_csv('../cnn1d/log/0529/학습데이터/노트북 전용/정상 데이터(40초).csv', names=column_names, header=None)\n",
    "train_df = train_df.sample(frac=1).reset_index(drop=True)"
   ]
  },
  {
   "cell_type": "code",
   "execution_count": 13,
   "id": "b1d4772e",
   "metadata": {},
   "outputs": [],
   "source": [
    "# 파생 피처 추가 함수\n",
    "def add_features(df):\n",
    "    df['voltage_diff'] = df['voltage'].diff().fillna(0).abs()\n",
    "    df['current_diff'] = df['current'].diff().fillna(0).abs()\n",
    "    df['voltage_ma'] = df['voltage'].rolling(5).mean().bfill()\n",
    "    df['current_ma'] = df['current'].rolling(5).mean().bfill()\n",
    "    df['power'] = df['voltage'] * df['current']\n",
    "    df['power_diff'] = df['power'].diff().fillna(0).abs()\n",
    "    return df\n",
    "\n",
    "train_df = add_features(train_df).dropna()\n",
    "# test_df = add_features(test_df).dropna()"
   ]
  },
  {
   "cell_type": "code",
   "execution_count": 14,
   "id": "8eb8b9de",
   "metadata": {},
   "outputs": [],
   "source": [
    "features = ['voltage', 'current', 'voltage_diff', 'current_diff',\n",
    "            'voltage_ma', 'current_ma', 'power', 'power_diff']\n",
    "X_train = train_df[features].values\n",
    "# X_test = test_df[features].values\n",
    "# y_true = test_df['label'].values\n",
    "\n",
    "scaler = StandardScaler()\n",
    "X_train_scaled = scaler.fit_transform(X_train)\n",
    "# X_test_scaled = scaler.transform(X_test)"
   ]
  },
  {
   "cell_type": "code",
   "execution_count": null,
   "id": "25aa73c5",
   "metadata": {},
   "outputs": [
    {
     "data": {
      "text/plain": [
       "['./model/scaler_무부하.joblib']"
      ]
     },
     "execution_count": 15,
     "metadata": {},
     "output_type": "execute_result"
    }
   ],
   "source": [
    "model = OneClassSVM(nu=0.005, kernel='rbf', gamma='scale')\n",
    "model.fit(X_train_scaled)\n",
    "\n",
    "joblib.dump(model, './model/one_class_svm_model_new.joblib')\n",
    "joblib.dump(scaler, './model/scaler_new.joblib')"
   ]
  }
 ],
 "metadata": {
  "kernelspec": {
   "display_name": "powerenv",
   "language": "python",
   "name": "python3"
  },
  "language_info": {
   "codemirror_mode": {
    "name": "ipython",
    "version": 3
   },
   "file_extension": ".py",
   "mimetype": "text/x-python",
   "name": "python",
   "nbconvert_exporter": "python",
   "pygments_lexer": "ipython3",
   "version": "3.11.2"
  }
 },
 "nbformat": 4,
 "nbformat_minor": 5
}
