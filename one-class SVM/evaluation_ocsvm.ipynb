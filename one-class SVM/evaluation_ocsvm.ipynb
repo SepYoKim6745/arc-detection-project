{
 "cells": [
  {
   "cell_type": "code",
   "execution_count": 1,
   "id": "a6015982",
   "metadata": {},
   "outputs": [],
   "source": [
    "# 모듈 임포트\n",
    "import pandas as pd\n",
    "import numpy as np\n",
    "from sklearn.preprocessing import StandardScaler\n",
    "from sklearn.metrics import classification_report\n",
    "import joblib\n",
    "import os"
   ]
  },
  {
   "cell_type": "code",
   "execution_count": 2,
   "id": "c10ef9e7",
   "metadata": {},
   "outputs": [],
   "source": [
    "# 피처 엔지니어링 함수 정의\n",
    "def add_features(df):\n",
    "    df['voltage_diff'] = df['voltage'].diff().fillna(0).abs()\n",
    "    df['current_diff'] = df['current'].diff().fillna(0).abs()\n",
    "    df['voltage_ma'] = df['voltage'].rolling(5).mean().bfill()\n",
    "    df['current_ma'] = df['current'].rolling(5).mean().bfill()\n",
    "    df['power'] = df['voltage'] * df['current']\n",
    "    df['power_diff'] = df['power'].diff().fillna(0).abs()\n",
    "    return df"
   ]
  },
  {
   "cell_type": "code",
   "execution_count": 3,
   "id": "a32f596f",
   "metadata": {},
   "outputs": [],
   "source": [
    "# 피처 목록 정의\n",
    "features = ['voltage', 'current', 'voltage_diff', 'current_diff',\n",
    "            'voltage_ma', 'current_ma', 'power', 'power_diff']"
   ]
  },
  {
   "cell_type": "code",
   "execution_count": 4,
   "id": "46bcc15d",
   "metadata": {},
   "outputs": [],
   "source": [
    "# 테스트셋 로드 및 피처 생성\n",
    "test_df = pd.read_csv('../realtime/test/1.csv')  # ← 경로 확인 필요\n",
    "test_df = add_features(test_df).dropna()\n",
    "\n",
    "X_test = test_df[features].values\n",
    "y_true = test_df['label'].values"
   ]
  },
  {
   "cell_type": "code",
   "execution_count": 5,
   "id": "4f128b9e",
   "metadata": {},
   "outputs": [],
   "source": [
    "# 스케일러 및 모델 로드\n",
    "model = joblib.load('./model/one_class_svm_model.joblib')\n",
    "scaler = joblib.load('./model/scaler.joblib')\n",
    "\n",
    "X_test_scaled = scaler.transform(X_test)"
   ]
  },
  {
   "cell_type": "code",
   "execution_count": 6,
   "id": "cfd10366",
   "metadata": {},
   "outputs": [
    {
     "name": "stdout",
     "output_type": "stream",
     "text": [
      "📊 Classification Report (One-Class SVM)\n",
      "              precision    recall  f1-score   support\n",
      "\n",
      "           0     0.9990    0.9584    0.9783     27000\n",
      "           1     0.0044    0.1667    0.0086        30\n",
      "\n",
      "    accuracy                         0.9575     27030\n",
      "   macro avg     0.5017    0.5625    0.4935     27030\n",
      "weighted avg     0.9979    0.9575    0.9772     27030\n",
      "\n"
     ]
    }
   ],
   "source": [
    "# 예측 (One-Class SVM은 이상이면 -1, 정상은 1 반환)\n",
    "y_pred_raw = model.predict(X_test_scaled)\n",
    "y_pred = np.where(y_pred_raw == 1, 0, 1)  # 이상: 1 (arc), 정상: 0\n",
    "\n",
    "# 성능 평가\n",
    "print(\"📊 Classification Report (One-Class SVM)\")\n",
    "print(classification_report(y_true, y_pred, digits=4))"
   ]
  }
 ],
 "metadata": {
  "kernelspec": {
   "display_name": "arcenv_new",
   "language": "python",
   "name": "python3"
  },
  "language_info": {
   "codemirror_mode": {
    "name": "ipython",
    "version": 3
   },
   "file_extension": ".py",
   "mimetype": "text/x-python",
   "name": "python",
   "nbconvert_exporter": "python",
   "pygments_lexer": "ipython3",
   "version": "3.9.21"
  }
 },
 "nbformat": 4,
 "nbformat_minor": 5
}
