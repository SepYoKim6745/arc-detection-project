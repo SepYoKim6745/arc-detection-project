{
 "cells": [
  {
   "cell_type": "code",
   "execution_count": 4,
   "id": "f3d573a2",
   "metadata": {},
   "outputs": [],
   "source": [
    "# 모듈 임포트\n",
    "import pandas as pd\n",
    "import numpy as np\n",
    "from sklearn.preprocessing import StandardScaler\n",
    "from sklearn.svm import OneClassSVM\n",
    "from sklearn.metrics import classification_report\n",
    "import joblib\n",
    "import time\n",
    "import matplotlib.pyplot as plt"
   ]
  },
  {
   "cell_type": "code",
   "execution_count": null,
   "id": "8bdbd9f4",
   "metadata": {},
   "outputs": [
    {
     "ename": "FileNotFoundError",
     "evalue": "[Errno 2] No such file or directory: '../dataset/preprocessed/50ohm_통합_test.xlsx'",
     "output_type": "error",
     "traceback": [
      "\u001b[0;31m---------------------------------------------------------------------------\u001b[0m",
      "\u001b[0;31mFileNotFoundError\u001b[0m                         Traceback (most recent call last)",
      "Cell \u001b[0;32mIn[5], line 5\u001b[0m\n\u001b[1;32m      3\u001b[0m column_names \u001b[38;5;241m=\u001b[39m [\u001b[38;5;124m'\u001b[39m\u001b[38;5;124mtimestamp\u001b[39m\u001b[38;5;124m'\u001b[39m, \u001b[38;5;124m'\u001b[39m\u001b[38;5;124mv_raw\u001b[39m\u001b[38;5;124m'\u001b[39m, \u001b[38;5;124m'\u001b[39m\u001b[38;5;124mc_raw\u001b[39m\u001b[38;5;124m'\u001b[39m, \u001b[38;5;124m'\u001b[39m\u001b[38;5;124mvoltage\u001b[39m\u001b[38;5;124m'\u001b[39m, \u001b[38;5;124m'\u001b[39m\u001b[38;5;124mcurrent\u001b[39m\u001b[38;5;124m'\u001b[39m, \u001b[38;5;124m'\u001b[39m\u001b[38;5;124mlabel\u001b[39m\u001b[38;5;124m'\u001b[39m]\n\u001b[1;32m      4\u001b[0m train_df \u001b[38;5;241m=\u001b[39m pd\u001b[38;5;241m.\u001b[39mread_csv(\u001b[38;5;124m'\u001b[39m\u001b[38;5;124m../realtime/raw_dataset_normal.csv\u001b[39m\u001b[38;5;124m'\u001b[39m, names\u001b[38;5;241m=\u001b[39mcolumn_names, header\u001b[38;5;241m=\u001b[39m\u001b[38;5;28;01mNone\u001b[39;00m)\n\u001b[0;32m----> 5\u001b[0m test_df \u001b[38;5;241m=\u001b[39m \u001b[43mpd\u001b[49m\u001b[38;5;241;43m.\u001b[39;49m\u001b[43mread_excel\u001b[49m\u001b[43m(\u001b[49m\u001b[38;5;124;43m'\u001b[39;49m\u001b[38;5;124;43m../dataset/preprocessed/50ohm_통합_test.xlsx\u001b[39;49m\u001b[38;5;124;43m'\u001b[39;49m\u001b[43m)\u001b[49m\n\u001b[1;32m      7\u001b[0m \u001b[38;5;66;03m# test_df = pd.concat([test_df] * 20, ignore_index=True)\u001b[39;00m\n\u001b[1;32m      8\u001b[0m \n\u001b[1;32m      9\u001b[0m \u001b[38;5;66;03m# 컬럼명 정리\u001b[39;00m\n\u001b[1;32m     10\u001b[0m rename_columns \u001b[38;5;241m=\u001b[39m {\n\u001b[1;32m     11\u001b[0m     \u001b[38;5;124m'\u001b[39m\u001b[38;5;124mpower_voltage\u001b[39m\u001b[38;5;124m'\u001b[39m: \u001b[38;5;124m'\u001b[39m\u001b[38;5;124mvoltage\u001b[39m\u001b[38;5;124m'\u001b[39m,\n\u001b[1;32m     12\u001b[0m     \u001b[38;5;124m'\u001b[39m\u001b[38;5;124mpower_current\u001b[39m\u001b[38;5;124m'\u001b[39m: \u001b[38;5;124m'\u001b[39m\u001b[38;5;124mcurrent\u001b[39m\u001b[38;5;124m'\u001b[39m,\n\u001b[1;32m     13\u001b[0m }\n",
      "File \u001b[0;32m/opt/homebrew/anaconda3/envs/powerenv/lib/python3.9/site-packages/pandas/io/excel/_base.py:495\u001b[0m, in \u001b[0;36mread_excel\u001b[0;34m(io, sheet_name, header, names, index_col, usecols, dtype, engine, converters, true_values, false_values, skiprows, nrows, na_values, keep_default_na, na_filter, verbose, parse_dates, date_parser, date_format, thousands, decimal, comment, skipfooter, storage_options, dtype_backend, engine_kwargs)\u001b[0m\n\u001b[1;32m    493\u001b[0m \u001b[38;5;28;01mif\u001b[39;00m \u001b[38;5;129;01mnot\u001b[39;00m \u001b[38;5;28misinstance\u001b[39m(io, ExcelFile):\n\u001b[1;32m    494\u001b[0m     should_close \u001b[38;5;241m=\u001b[39m \u001b[38;5;28;01mTrue\u001b[39;00m\n\u001b[0;32m--> 495\u001b[0m     io \u001b[38;5;241m=\u001b[39m \u001b[43mExcelFile\u001b[49m\u001b[43m(\u001b[49m\n\u001b[1;32m    496\u001b[0m \u001b[43m        \u001b[49m\u001b[43mio\u001b[49m\u001b[43m,\u001b[49m\n\u001b[1;32m    497\u001b[0m \u001b[43m        \u001b[49m\u001b[43mstorage_options\u001b[49m\u001b[38;5;241;43m=\u001b[39;49m\u001b[43mstorage_options\u001b[49m\u001b[43m,\u001b[49m\n\u001b[1;32m    498\u001b[0m \u001b[43m        \u001b[49m\u001b[43mengine\u001b[49m\u001b[38;5;241;43m=\u001b[39;49m\u001b[43mengine\u001b[49m\u001b[43m,\u001b[49m\n\u001b[1;32m    499\u001b[0m \u001b[43m        \u001b[49m\u001b[43mengine_kwargs\u001b[49m\u001b[38;5;241;43m=\u001b[39;49m\u001b[43mengine_kwargs\u001b[49m\u001b[43m,\u001b[49m\n\u001b[1;32m    500\u001b[0m \u001b[43m    \u001b[49m\u001b[43m)\u001b[49m\n\u001b[1;32m    501\u001b[0m \u001b[38;5;28;01melif\u001b[39;00m engine \u001b[38;5;129;01mand\u001b[39;00m engine \u001b[38;5;241m!=\u001b[39m io\u001b[38;5;241m.\u001b[39mengine:\n\u001b[1;32m    502\u001b[0m     \u001b[38;5;28;01mraise\u001b[39;00m \u001b[38;5;167;01mValueError\u001b[39;00m(\n\u001b[1;32m    503\u001b[0m         \u001b[38;5;124m\"\u001b[39m\u001b[38;5;124mEngine should not be specified when passing \u001b[39m\u001b[38;5;124m\"\u001b[39m\n\u001b[1;32m    504\u001b[0m         \u001b[38;5;124m\"\u001b[39m\u001b[38;5;124man ExcelFile - ExcelFile already has the engine set\u001b[39m\u001b[38;5;124m\"\u001b[39m\n\u001b[1;32m    505\u001b[0m     )\n",
      "File \u001b[0;32m/opt/homebrew/anaconda3/envs/powerenv/lib/python3.9/site-packages/pandas/io/excel/_base.py:1550\u001b[0m, in \u001b[0;36mExcelFile.__init__\u001b[0;34m(self, path_or_buffer, engine, storage_options, engine_kwargs)\u001b[0m\n\u001b[1;32m   1548\u001b[0m     ext \u001b[38;5;241m=\u001b[39m \u001b[38;5;124m\"\u001b[39m\u001b[38;5;124mxls\u001b[39m\u001b[38;5;124m\"\u001b[39m\n\u001b[1;32m   1549\u001b[0m \u001b[38;5;28;01melse\u001b[39;00m:\n\u001b[0;32m-> 1550\u001b[0m     ext \u001b[38;5;241m=\u001b[39m \u001b[43minspect_excel_format\u001b[49m\u001b[43m(\u001b[49m\n\u001b[1;32m   1551\u001b[0m \u001b[43m        \u001b[49m\u001b[43mcontent_or_path\u001b[49m\u001b[38;5;241;43m=\u001b[39;49m\u001b[43mpath_or_buffer\u001b[49m\u001b[43m,\u001b[49m\u001b[43m \u001b[49m\u001b[43mstorage_options\u001b[49m\u001b[38;5;241;43m=\u001b[39;49m\u001b[43mstorage_options\u001b[49m\n\u001b[1;32m   1552\u001b[0m \u001b[43m    \u001b[49m\u001b[43m)\u001b[49m\n\u001b[1;32m   1553\u001b[0m     \u001b[38;5;28;01mif\u001b[39;00m ext \u001b[38;5;129;01mis\u001b[39;00m \u001b[38;5;28;01mNone\u001b[39;00m:\n\u001b[1;32m   1554\u001b[0m         \u001b[38;5;28;01mraise\u001b[39;00m \u001b[38;5;167;01mValueError\u001b[39;00m(\n\u001b[1;32m   1555\u001b[0m             \u001b[38;5;124m\"\u001b[39m\u001b[38;5;124mExcel file format cannot be determined, you must specify \u001b[39m\u001b[38;5;124m\"\u001b[39m\n\u001b[1;32m   1556\u001b[0m             \u001b[38;5;124m\"\u001b[39m\u001b[38;5;124man engine manually.\u001b[39m\u001b[38;5;124m\"\u001b[39m\n\u001b[1;32m   1557\u001b[0m         )\n",
      "File \u001b[0;32m/opt/homebrew/anaconda3/envs/powerenv/lib/python3.9/site-packages/pandas/io/excel/_base.py:1402\u001b[0m, in \u001b[0;36minspect_excel_format\u001b[0;34m(content_or_path, storage_options)\u001b[0m\n\u001b[1;32m   1399\u001b[0m \u001b[38;5;28;01mif\u001b[39;00m \u001b[38;5;28misinstance\u001b[39m(content_or_path, \u001b[38;5;28mbytes\u001b[39m):\n\u001b[1;32m   1400\u001b[0m     content_or_path \u001b[38;5;241m=\u001b[39m BytesIO(content_or_path)\n\u001b[0;32m-> 1402\u001b[0m \u001b[38;5;28;01mwith\u001b[39;00m \u001b[43mget_handle\u001b[49m\u001b[43m(\u001b[49m\n\u001b[1;32m   1403\u001b[0m \u001b[43m    \u001b[49m\u001b[43mcontent_or_path\u001b[49m\u001b[43m,\u001b[49m\u001b[43m \u001b[49m\u001b[38;5;124;43m\"\u001b[39;49m\u001b[38;5;124;43mrb\u001b[39;49m\u001b[38;5;124;43m\"\u001b[39;49m\u001b[43m,\u001b[49m\u001b[43m \u001b[49m\u001b[43mstorage_options\u001b[49m\u001b[38;5;241;43m=\u001b[39;49m\u001b[43mstorage_options\u001b[49m\u001b[43m,\u001b[49m\u001b[43m \u001b[49m\u001b[43mis_text\u001b[49m\u001b[38;5;241;43m=\u001b[39;49m\u001b[38;5;28;43;01mFalse\u001b[39;49;00m\n\u001b[1;32m   1404\u001b[0m \u001b[43m\u001b[49m\u001b[43m)\u001b[49m \u001b[38;5;28;01mas\u001b[39;00m handle:\n\u001b[1;32m   1405\u001b[0m     stream \u001b[38;5;241m=\u001b[39m handle\u001b[38;5;241m.\u001b[39mhandle\n\u001b[1;32m   1406\u001b[0m     stream\u001b[38;5;241m.\u001b[39mseek(\u001b[38;5;241m0\u001b[39m)\n",
      "File \u001b[0;32m/opt/homebrew/anaconda3/envs/powerenv/lib/python3.9/site-packages/pandas/io/common.py:882\u001b[0m, in \u001b[0;36mget_handle\u001b[0;34m(path_or_buf, mode, encoding, compression, memory_map, is_text, errors, storage_options)\u001b[0m\n\u001b[1;32m    873\u001b[0m         handle \u001b[38;5;241m=\u001b[39m \u001b[38;5;28mopen\u001b[39m(\n\u001b[1;32m    874\u001b[0m             handle,\n\u001b[1;32m    875\u001b[0m             ioargs\u001b[38;5;241m.\u001b[39mmode,\n\u001b[0;32m   (...)\u001b[0m\n\u001b[1;32m    878\u001b[0m             newline\u001b[38;5;241m=\u001b[39m\u001b[38;5;124m\"\u001b[39m\u001b[38;5;124m\"\u001b[39m,\n\u001b[1;32m    879\u001b[0m         )\n\u001b[1;32m    880\u001b[0m     \u001b[38;5;28;01melse\u001b[39;00m:\n\u001b[1;32m    881\u001b[0m         \u001b[38;5;66;03m# Binary mode\u001b[39;00m\n\u001b[0;32m--> 882\u001b[0m         handle \u001b[38;5;241m=\u001b[39m \u001b[38;5;28;43mopen\u001b[39;49m\u001b[43m(\u001b[49m\u001b[43mhandle\u001b[49m\u001b[43m,\u001b[49m\u001b[43m \u001b[49m\u001b[43mioargs\u001b[49m\u001b[38;5;241;43m.\u001b[39;49m\u001b[43mmode\u001b[49m\u001b[43m)\u001b[49m\n\u001b[1;32m    883\u001b[0m     handles\u001b[38;5;241m.\u001b[39mappend(handle)\n\u001b[1;32m    885\u001b[0m \u001b[38;5;66;03m# Convert BytesIO or file objects passed with an encoding\u001b[39;00m\n",
      "\u001b[0;31mFileNotFoundError\u001b[0m: [Errno 2] No such file or directory: '../dataset/preprocessed/50ohm_통합_test.xlsx'"
     ]
    }
   ],
   "source": [
    "# 데이터 불러오기\n",
    "# train_df = pd.read_excel('../dataset/preprocessed/50ohm_정상_train.xlsx')\n",
    "column_names = ['timestamp', 'v_raw', 'c_raw', 'voltage', 'current', 'label']\n",
    "train_df = pd.read_csv('../realtime/raw_dataset_normal.csv', names=column_names, header=None)\n",
    "test_df = pd.read_excel('../dataset/preprocessed/50ohm_통합_test.xlsx')\n",
    "\n",
    "# test_df = pd.concat([test_df] * 20, ignore_index=True)\n",
    "\n",
    "# 컬럼명 정리\n",
    "rename_columns = {\n",
    "    'power_voltage': 'voltage',\n",
    "    'power_current': 'current',\n",
    "}\n",
    "train_df = train_df.rename(columns=rename_columns)\n",
    "test_df = test_df.rename(columns=rename_columns)"
   ]
  },
  {
   "cell_type": "code",
   "execution_count": null,
   "id": "ac262dd1",
   "metadata": {},
   "outputs": [],
   "source": [
    "# 파생 피처 추가 함수\n",
    "def add_features(df):\n",
    "    df['voltage_diff'] = df['voltage'].diff().fillna(0).abs()\n",
    "    df['current_diff'] = df['current'].diff().fillna(0).abs()\n",
    "    df['voltage_ma'] = df['voltage'].rolling(5).mean().bfill()\n",
    "    df['current_ma'] = df['current'].rolling(5).mean().bfill()\n",
    "    df['power'] = df['voltage'] * df['current']\n",
    "    df['power_diff'] = df['power'].diff().fillna(0).abs()\n",
    "    return df\n",
    "\n",
    "train_df = add_features(train_df).dropna()\n",
    "test_df = add_features(test_df).dropna()\n"
   ]
  },
  {
   "cell_type": "code",
   "execution_count": null,
   "id": "7f5a6789",
   "metadata": {},
   "outputs": [],
   "source": [
    "features = ['voltage', 'current', 'voltage_diff', 'current_diff',\n",
    "            'voltage_ma', 'current_ma', 'power', 'power_diff']\n",
    "X_train = train_df[features].values\n",
    "X_test = test_df[features].values\n",
    "y_true = test_df['label'].values\n",
    "\n",
    "scaler = StandardScaler()\n",
    "X_train_scaled = scaler.fit_transform(X_train)\n",
    "X_test_scaled = scaler.transform(X_test)"
   ]
  },
  {
   "cell_type": "code",
   "execution_count": null,
   "id": "f9fcd184",
   "metadata": {},
   "outputs": [],
   "source": [
    "model = OneClassSVM(nu=0.005, kernel='rbf', gamma='scale')\n",
    "model.fit(X_train_scaled)\n",
    "\n",
    "joblib.dump(model, './model/one_class_svm_model.joblib')\n",
    "joblib.dump(scaler, './model/scaler.joblib')"
   ]
  },
  {
   "cell_type": "code",
   "execution_count": null,
   "id": "9b0487fb",
   "metadata": {},
   "outputs": [],
   "source": [
    "# 예측 및 평가\n",
    "y_pred = model.predict(X_test_scaled)\n",
    "y_pred_bin = (y_pred == -1).astype(int)\n",
    "\n",
    "print(y_pred_bin[:10])"
   ]
  },
  {
   "cell_type": "code",
   "execution_count": null,
   "id": "da4d6ceb",
   "metadata": {},
   "outputs": [],
   "source": [
    "def postprocess_anomalies(y_pred_bin, min_consecutive=8):\n",
    "    y_post = np.zeros_like(y_pred_bin)\n",
    "    count = 0\n",
    "    for i, val in enumerate(y_pred_bin):\n",
    "        if val == 1:\n",
    "            count += 1\n",
    "        else:\n",
    "            if count >= min_consecutive:\n",
    "                y_post[i - count:i] = 1\n",
    "            count = 0\n",
    "    if count >= min_consecutive:\n",
    "        y_post[len(y_pred_bin)-count:] = 1\n",
    "    return y_post\n",
    "\n",
    "y_pred_post = postprocess_anomalies(y_pred_bin, min_consecutive=8)\n",
    "y_true_post = postprocess_anomalies(y_true, min_consecutive=8)"
   ]
  },
  {
   "cell_type": "code",
   "execution_count": null,
   "id": "820713de",
   "metadata": {},
   "outputs": [],
   "source": [
    "print(\"📋 (후처리 적용) 분류 리포트:\\n\")\n",
    "print(classification_report(y_true_post, y_pred_post, target_names=['정상', '아크']))"
   ]
  },
  {
   "cell_type": "code",
   "execution_count": null,
   "id": "c9f50c77",
   "metadata": {},
   "outputs": [],
   "source": [
    "def calculate_detection_delay(y_pred_bin, label, sampling_interval=0.0001):\n",
    "    arc_start = np.where(label == 1)[0][0] # 아크의 시작 인덱스 찾기\n",
    "    detected = np.where(y_pred_bin[arc_start:] == 1)[0] # 예측 값에서 아크를 처음 발견한 인덱스 찾기\n",
    "    if len(detected) == 0:\n",
    "        print(\"⚠️ 아크를 탐지하지 못했습니다.\")\n",
    "        return None\n",
    "    detect_index = detected[0] + arc_start\n",
    "    delay = detect_index - arc_start\n",
    "    time_detected = detect_index * sampling_interval\n",
    "    print(f\"✅ 아크 시작 인덱스: {arc_start}\")\n",
    "    print(f\"✅ 모델 이상 감지 인덱스: {detect_index}\")\n",
    "    print(f\"⏱️ 감지 지연 시간: {delay} 샘플\")\n",
    "    print(f\"⏱️ 감지된 시점 (초): {time_detected:.6f} 초\")\n",
    "    return arc_start, detect_index, delay\n",
    "\n",
    "arc_start, detect_index, delay = calculate_detection_delay(y_pred_post, y_true_post)"
   ]
  },
  {
   "cell_type": "code",
   "execution_count": null,
   "id": "25d7fb16",
   "metadata": {},
   "outputs": [],
   "source": [
    "import time\n",
    "\n",
    "# 전체 예측 시간\n",
    "start_total = time.perf_counter()\n",
    "y_pred = model.predict(X_test_scaled)\n",
    "elapsed_total = time.perf_counter() - start_total\n",
    "print(f\"⏱️ 전체 예측 소요 시간: {elapsed_total:.10f}초\")\n",
    "\n",
    "# 후처리 + 첫 이상 감지까지 시간\n",
    "start_first = time.perf_counter()\n",
    "y_pred_bin = (y_pred == -1).astype(int)\n",
    "y_pred_post = postprocess_anomalies(y_pred_bin, min_consecutive=8)\n",
    "first_index = np.where(y_pred_post == 1)[0]\n",
    "elapsed_first = time.perf_counter() - start_first\n",
    "\n",
    "if len(first_index) > 0:\n",
    "    print(f\"🟡 첫 번째 이상 탐지 인덱스: {first_index[0]}\")\n",
    "    print(f\"⏱️ 첫 이상 탐지까지 걸린 시간: {elapsed_first:.10f}초\")\n",
    "else:\n",
    "    print(\"⚠️ 후처리된 이상 탐지 결과가 없습니다.\")\n"
   ]
  },
  {
   "cell_type": "code",
   "execution_count": null,
   "id": "6f96425a",
   "metadata": {},
   "outputs": [],
   "source": [
    "# 모듈 임포트\n",
    "import psutil\n",
    "import os\n",
    "\n",
    "# 리소스 사용량 출력 함수\n",
    "def print_resource_usage():\n",
    "    process = psutil.Process(os.getpid())\n",
    "    mem_info = process.memory_info()\n",
    "    cpu_percent = process.cpu_percent(interval=1.0)\n",
    "    print(f\"🧠 메모리 사용량: {mem_info.rss / 1024 ** 2:.2f} MB\")\n",
    "    print(f\"🧮 CPU 사용률: {cpu_percent:.2f}%\")\n",
    "\n",
    "\n",
    "# 전체 예측 시간 측정 + 시스템 리소스 출력\n",
    "print(\"🔍 예측 전 시스템 상태:\")\n",
    "print_resource_usage()\n",
    "\n",
    "start_total = time.perf_counter()\n",
    "y_pred = model.predict(X_test_scaled)\n",
    "elapsed_total = time.perf_counter() - start_total\n",
    "\n",
    "print(\"🔍 예측 후 시스템 상태:\")\n",
    "print_resource_usage()\n",
    "\n",
    "print(f\"⏱️ 전체 예측 소요 시간: {elapsed_total:.10f}초\")\n",
    "\n"
   ]
  },
  {
   "cell_type": "markdown",
   "id": "2fc47d53",
   "metadata": {},
   "source": [
    "---\n",
    "# 시각화 자료"
   ]
  },
  {
   "cell_type": "code",
   "execution_count": null,
   "id": "f144c86a",
   "metadata": {},
   "outputs": [],
   "source": [
    "import matplotlib.pyplot as plt\n",
    "import matplotlib as mpl\n",
    "\n",
    "# 한글 폰트 설정 (예: 맑은 고딕)\n",
    "# plt.rcParams['font.family'] = 'Malgun Gothic'  # Windows 사용자\n",
    "# plt.rcParams['font.family'] = 'AppleGothic'   # macOS 사용자\n",
    "plt.rcParams['font.family'] = 'NanumGothic'   # Linux 사용자 (Nanum 폰트 설치 필요)\n",
    "\n",
    "# 마이너스 부호 깨짐 방지\n",
    "mpl.rcParams['axes.unicode_minus'] = False"
   ]
  },
  {
   "cell_type": "code",
   "execution_count": null,
   "id": "50bf34ec",
   "metadata": {},
   "outputs": [],
   "source": [
    "def plot_predictions(y_pred_bin, arc_start=None, detect_index=None):\n",
    "    plt.figure(figsize=(15, 4))\n",
    "    plt.plot(y_pred_bin, label='예측 이상 (1=이상)', color='red', linewidth=1)\n",
    "\n",
    "    if arc_start is not None:\n",
    "        plt.axvline(x=arc_start, color='blue', linestyle='--', label='실제 아크 시작')\n",
    "    if detect_index is not None:\n",
    "        plt.axvline(x=detect_index, color='green', linestyle='--', label='감지된 시점')\n",
    "\n",
    "    plt.title(\"One-Class SVM 이상 탐지 결과\")\n",
    "    plt.xlabel(\"샘플 인덱스\")\n",
    "    plt.ylabel(\"예측값\")\n",
    "    plt.legend()\n",
    "    plt.grid(True)\n",
    "    plt.tight_layout()\n",
    "    plt.show()\n",
    "\n",
    "plot_predictions(y_pred_post, arc_start, detect_index)"
   ]
  },
  {
   "cell_type": "code",
   "execution_count": null,
   "id": "41e0288e",
   "metadata": {},
   "outputs": [],
   "source": [
    "def plot_current_waveform(test_df):\n",
    "    plt.figure(figsize=(15, 4))\n",
    "    plt.plot(test_df['current'], label='전류 파형', alpha=0.7)\n",
    "    plt.title(\"전체 전류 파형\")\n",
    "    plt.xlabel(\"샘플 인덱스\")\n",
    "    plt.ylabel(\"전류 (A)\")\n",
    "    plt.grid(True)\n",
    "    plt.tight_layout()\n",
    "    plt.legend()\n",
    "    plt.show()\n",
    "\n",
    "plot_current_waveform(test_df)"
   ]
  },
  {
   "cell_type": "code",
   "execution_count": null,
   "id": "f6d89778",
   "metadata": {},
   "outputs": [],
   "source": [
    "def compare_postprocessing(y_pred_bin, y_pred_post, title=\"후처리 전후 비교\"):\n",
    "    plt.figure(figsize=(15, 4))\n",
    "    plt.plot(y_pred_bin, label='후처리 전', color='orange', alpha=0.6)\n",
    "    plt.plot(y_pred_post, label='후처리 후', color='green', alpha=0.6)\n",
    "    plt.title(title)\n",
    "    plt.xlabel(\"샘플 인덱스\")\n",
    "    plt.ylabel(\"이상 탐지 결과\")\n",
    "    plt.legend()\n",
    "    plt.grid(True)\n",
    "    plt.tight_layout()\n",
    "    plt.show()\n",
    "\n",
    "compare_postprocessing(y_pred_bin, y_pred_post)\n"
   ]
  },
  {
   "cell_type": "code",
   "execution_count": null,
   "id": "4e98cd21",
   "metadata": {},
   "outputs": [],
   "source": [
    "def compare_prediction_vs_label(y_true, y_pred_post):\n",
    "    plt.figure(figsize=(15, 4))\n",
    "    plt.plot(y_true, label='실제 라벨', alpha=0.5)\n",
    "    plt.plot(y_pred_post, label='모델 예측', alpha=0.7)\n",
    "    plt.title(\"실제 라벨 vs 모델 예측 비교\")\n",
    "    plt.xlabel(\"샘플 인덱스\")\n",
    "    plt.ylabel(\"값 (0=정상, 1=아크)\")\n",
    "    plt.legend()\n",
    "    plt.grid(True)\n",
    "    plt.tight_layout()\n",
    "    plt.show()\n",
    "\n",
    "compare_prediction_vs_label(y_true_post, y_pred_post)\n"
   ]
  }
 ],
 "metadata": {
  "kernelspec": {
   "display_name": "powerenv",
   "language": "python",
   "name": "python3"
  },
  "language_info": {
   "codemirror_mode": {
    "name": "ipython",
    "version": 3
   },
   "file_extension": ".py",
   "mimetype": "text/x-python",
   "name": "python",
   "nbconvert_exporter": "python",
   "pygments_lexer": "ipython3",
   "version": "3.9.21"
  }
 },
 "nbformat": 4,
 "nbformat_minor": 5
}
