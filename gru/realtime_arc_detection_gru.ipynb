{
 "cells": [
  {
   "cell_type": "code",
   "execution_count": 1,
   "id": "b38093b8",
   "metadata": {},
   "outputs": [],
   "source": [
    "import time\n",
    "import board\n",
    "import busio\n",
    "import adafruit_ads1x15.ads1115 as ADS\n",
    "from adafruit_ads1x15.analog_in import AnalogIn\n",
    "import joblib\n",
    "import numpy as np\n",
    "import psutil\n",
    "import pandas as pd\n",
    "import csv\n",
    "from datetime import datetime\n",
    "import tflite_runtime.interpreter as tflite  # 라즈베리파이 전용"
   ]
  },
  {
   "cell_type": "code",
   "execution_count": 10,
   "id": "e6ca2273",
   "metadata": {},
   "outputs": [
    {
     "name": "stderr",
     "output_type": "stream",
     "text": [
      "INFO: Created TensorFlow Lite XNNPACK delegate for CPU.\n"
     ]
    },
    {
     "ename": "RuntimeError",
     "evalue": "Select TensorFlow op(s), included in the given model, is(are) not supported by this interpreter. Make sure you apply/link the Flex delegate before inference. For the Android, it can be resolved by adding \"org.tensorflow:tensorflow-lite-select-tf-ops\" dependency. See instructions: https://www.tensorflow.org/lite/guide/ops_selectNode number 1 (FlexTensorListReserve) failed to prepare.Select TensorFlow op(s), included in the given model, is(are) not supported by this interpreter. Make sure you apply/link the Flex delegate before inference. For the Android, it can be resolved by adding \"org.tensorflow:tensorflow-lite-select-tf-ops\" dependency. See instructions: https://www.tensorflow.org/lite/guide/ops_selectNode number 1 (FlexTensorListReserve) failed to prepare.",
     "output_type": "error",
     "traceback": [
      "\u001b[31m---------------------------------------------------------------------------\u001b[39m",
      "\u001b[31mRuntimeError\u001b[39m                              Traceback (most recent call last)",
      "\u001b[36mCell\u001b[39m\u001b[36m \u001b[39m\u001b[32mIn[10]\u001b[39m\u001b[32m, line 3\u001b[39m\n\u001b[32m      1\u001b[39m \u001b[38;5;66;03m# TFLite 모델 및 스케일러 로드\u001b[39;00m\n\u001b[32m      2\u001b[39m interpreter = tflite.Interpreter(model_path=\u001b[33m\"\u001b[39m\u001b[33m./model/gru_model_select_ops.tflite\u001b[39m\u001b[33m\"\u001b[39m)\n\u001b[32m----> \u001b[39m\u001b[32m3\u001b[39m \u001b[43minterpreter\u001b[49m\u001b[43m.\u001b[49m\u001b[43mallocate_tensors\u001b[49m\u001b[43m(\u001b[49m\u001b[43m)\u001b[49m\n\u001b[32m      5\u001b[39m input_details = interpreter.get_input_details()\n\u001b[32m      6\u001b[39m output_details = interpreter.get_output_details()\n",
      "\u001b[36mFile \u001b[39m\u001b[32m~/powerenv/lib/python3.11/site-packages/tflite_runtime/interpreter.py:531\u001b[39m, in \u001b[36mInterpreter.allocate_tensors\u001b[39m\u001b[34m(self)\u001b[39m\n\u001b[32m    529\u001b[39m \u001b[38;5;28;01mdef\u001b[39;00m\u001b[38;5;250m \u001b[39m\u001b[34mallocate_tensors\u001b[39m(\u001b[38;5;28mself\u001b[39m):\n\u001b[32m    530\u001b[39m   \u001b[38;5;28mself\u001b[39m._ensure_safe()\n\u001b[32m--> \u001b[39m\u001b[32m531\u001b[39m   \u001b[38;5;28;01mreturn\u001b[39;00m \u001b[38;5;28;43mself\u001b[39;49m\u001b[43m.\u001b[49m\u001b[43m_interpreter\u001b[49m\u001b[43m.\u001b[49m\u001b[43mAllocateTensors\u001b[49m\u001b[43m(\u001b[49m\u001b[43m)\u001b[49m\n",
      "\u001b[31mRuntimeError\u001b[39m: Select TensorFlow op(s), included in the given model, is(are) not supported by this interpreter. Make sure you apply/link the Flex delegate before inference. For the Android, it can be resolved by adding \"org.tensorflow:tensorflow-lite-select-tf-ops\" dependency. See instructions: https://www.tensorflow.org/lite/guide/ops_selectNode number 1 (FlexTensorListReserve) failed to prepare.Select TensorFlow op(s), included in the given model, is(are) not supported by this interpreter. Make sure you apply/link the Flex delegate before inference. For the Android, it can be resolved by adding \"org.tensorflow:tensorflow-lite-select-tf-ops\" dependency. See instructions: https://www.tensorflow.org/lite/guide/ops_selectNode number 1 (FlexTensorListReserve) failed to prepare."
     ]
    }
   ],
   "source": [
    "# TFLite 모델 및 스케일러 로드\n",
    "interpreter = tflite.Interpreter(model_path=\"./model/gru_model_select_ops.tflite\")\n",
    "interpreter.allocate_tensors()\n",
    "\n",
    "input_details = interpreter.get_input_details()\n",
    "output_details = interpreter.get_output_details()\n",
    "\n",
    "scaler = joblib.load('./model/scaler_gru.joblib')"
   ]
  },
  {
   "cell_type": "code",
   "execution_count": 3,
   "id": "ce89ce20",
   "metadata": {},
   "outputs": [],
   "source": [
    "# I2C 및 ADC 설정\n",
    "i2c = busio.I2C(board.SCL, board.SDA)\n",
    "ads = ADS.ADS1115(i2c)\n",
    "ads.gain = 2/3\n",
    "\n",
    "voltage_ch = AnalogIn(ads, ADS.P0)\n",
    "current_ch = AnalogIn(ads, ADS.P1)"
   ]
  },
  {
   "cell_type": "code",
   "execution_count": 4,
   "id": "b8766973",
   "metadata": {},
   "outputs": [],
   "source": [
    "# 센서 보정값\n",
    "ZMPT_offset = 2.5539\n",
    "ZMPT_scale = 997.6\n",
    "ACS712_offset = 2.5087\n",
    "ACS712_sensitivity = 0.0990"
   ]
  },
  {
   "cell_type": "code",
   "execution_count": 5,
   "id": "1d357f16",
   "metadata": {},
   "outputs": [],
   "source": [
    "# 파생 피처 생성 함수\n",
    "def extract_features(voltage_seq, current_seq):\n",
    "    voltage = np.mean(voltage_seq)\n",
    "    current = np.mean(current_seq)\n",
    "    voltage_diff = np.abs(voltage_seq[-1] - voltage_seq[-2])\n",
    "    current_diff = np.abs(current_seq[-1] - current_seq[-2])\n",
    "    voltage_ma = np.mean(voltage_seq[-5:])\n",
    "    current_ma = np.mean(current_seq[-5:])\n",
    "    power = voltage * current\n",
    "    power_diff = np.abs(power - (voltage_seq[-2] * current_seq[-2]))\n",
    "    return [voltage, current, voltage_diff, current_diff, voltage_ma, current_ma, power, power_diff]\n"
   ]
  },
  {
   "cell_type": "code",
   "execution_count": 6,
   "id": "7a39283e",
   "metadata": {},
   "outputs": [],
   "source": [
    "def postprocess_anomalies_realtime(anomaly_buffer, min_consecutive=8):\n",
    "    if len(anomaly_buffer) < min_consecutive:\n",
    "        return False\n",
    "    count = 0\n",
    "    for val in reversed(anomaly_buffer):\n",
    "        if val == 1:\n",
    "            count += 1\n",
    "        else:\n",
    "            break\n",
    "    return count >= min_consecutive"
   ]
  },
  {
   "cell_type": "code",
   "execution_count": 7,
   "id": "bfe536ef",
   "metadata": {},
   "outputs": [],
   "source": [
    "# 테스트용 데이터 (CSV)\n",
    "column_names = ['timestamp', 'v_raw', 'c_raw', 'voltage', 'current']\n",
    "df = pd.read_csv('./log/raw_dataset_arc.csv', names=column_names, header=None)\n",
    "df = df.dropna(subset=['voltage', 'current']).reset_index(drop=True)\n",
    "\n",
    "csv_filename = \"./log/gru_log.csv\""
   ]
  },
  {
   "cell_type": "code",
   "execution_count": 9,
   "id": "5a6ea025",
   "metadata": {},
   "outputs": [
    {
     "name": "stdout",
     "output_type": "stream",
     "text": [
      "🚀 GRU 기반 실시간 아크 감지 시작합니다!\n",
      "🧠 메모리: 177.12MB | 🧮 CPU: 11.30% | idx: 0\n",
      "Voltage: -32.14V, Current: 0.24A, Anomaly: 0\n",
      "🧠 메모리: 177.25MB | 🧮 CPU: 12.50% | idx: 1\n",
      "Voltage: -3.14V, Current: 0.24A, Anomaly: 0\n",
      "🧠 메모리: 177.25MB | 🧮 CPU: 20.00% | idx: 2\n",
      "Voltage: -8.01V, Current: 0.24A, Anomaly: 0\n",
      "🧠 메모리: 177.25MB | 🧮 CPU: 0.00% | idx: 3\n",
      "Voltage: -6.88V, Current: 0.24A, Anomaly: 0\n",
      "🧠 메모리: 177.25MB | 🧮 CPU: 11.10% | idx: 4\n",
      "Voltage: -14.93V, Current: 0.24A, Anomaly: 0\n",
      "🧠 메모리: 177.25MB | 🧮 CPU: 44.40% | idx: 5\n",
      "Voltage: -40.55V, Current: 0.24A, Anomaly: 0\n",
      "🧠 메모리: 177.25MB | 🧮 CPU: 25.00% | idx: 6\n",
      "Voltage: -46.73V, Current: 0.23A, Anomaly: 0\n",
      "🧠 메모리: 177.25MB | 🧮 CPU: 22.20% | idx: 7\n",
      "Voltage: 3.22V, Current: 0.24A, Anomaly: 0\n",
      "🧠 메모리: 177.25MB | 🧮 CPU: 0.00% | idx: 8\n",
      "Voltage: -2.58V, Current: 0.24A, Anomaly: 0\n",
      "🧠 메모리: 177.25MB | 🧮 CPU: 11.10% | idx: 9\n",
      "Voltage: -13.62V, Current: 0.24A, Anomaly: 0\n",
      "🧠 메모리: 177.25MB | 🧮 CPU: 12.50% | idx: 10\n",
      "Voltage: -8.75V, Current: 0.25A, Anomaly: 0\n",
      "🧠 메모리: 177.25MB | 🧮 CPU: 22.20% | idx: 11\n",
      "Voltage: -15.67V, Current: 0.24A, Anomaly: 0\n",
      "🧠 메모리: 177.25MB | 🧮 CPU: 0.00% | idx: 12\n",
      "Voltage: -7.44V, Current: 0.24A, Anomaly: 0\n",
      "🧠 메모리: 177.25MB | 🧮 CPU: 11.10% | idx: 13\n",
      "Voltage: -11.93V, Current: 0.25A, Anomaly: 0\n"
     ]
    },
    {
     "ename": "ValueError",
     "evalue": "Cannot set tensor: Tensor is unallocated. Try calling allocate_tensors() first",
     "output_type": "error",
     "traceback": [
      "\u001b[31m---------------------------------------------------------------------------\u001b[39m",
      "\u001b[31mValueError\u001b[39m                                Traceback (most recent call last)",
      "\u001b[36mCell\u001b[39m\u001b[36m \u001b[39m\u001b[32mIn[9]\u001b[39m\u001b[32m, line 56\u001b[39m\n\u001b[32m     53\u001b[39m X_scaled = scaler.transform(X)\n\u001b[32m     54\u001b[39m X_scaled = X_scaled.reshape(\u001b[32m1\u001b[39m, \u001b[32m8\u001b[39m, \u001b[32m8\u001b[39m)\n\u001b[32m---> \u001b[39m\u001b[32m56\u001b[39m \u001b[43minterpreter\u001b[49m\u001b[43m.\u001b[49m\u001b[43mset_tensor\u001b[49m\u001b[43m(\u001b[49m\u001b[43minput_details\u001b[49m\u001b[43m[\u001b[49m\u001b[32;43m0\u001b[39;49m\u001b[43m]\u001b[49m\u001b[43m[\u001b[49m\u001b[33;43m'\u001b[39;49m\u001b[33;43mindex\u001b[39;49m\u001b[33;43m'\u001b[39;49m\u001b[43m]\u001b[49m\u001b[43m,\u001b[49m\u001b[43m \u001b[49m\u001b[43mX_scaled\u001b[49m\u001b[43m.\u001b[49m\u001b[43mastype\u001b[49m\u001b[43m(\u001b[49m\u001b[43mnp\u001b[49m\u001b[43m.\u001b[49m\u001b[43mfloat32\u001b[49m\u001b[43m)\u001b[49m\u001b[43m)\u001b[49m\n\u001b[32m     57\u001b[39m interpreter.invoke()\n\u001b[32m     58\u001b[39m output = interpreter.get_tensor(output_details[\u001b[32m0\u001b[39m][\u001b[33m'\u001b[39m\u001b[33mindex\u001b[39m\u001b[33m'\u001b[39m])\n",
      "\u001b[36mFile \u001b[39m\u001b[32m~/powerenv/lib/python3.11/site-packages/tflite_runtime/interpreter.py:720\u001b[39m, in \u001b[36mInterpreter.set_tensor\u001b[39m\u001b[34m(self, tensor_index, value)\u001b[39m\n\u001b[32m    704\u001b[39m \u001b[38;5;28;01mdef\u001b[39;00m\u001b[38;5;250m \u001b[39m\u001b[34mset_tensor\u001b[39m(\u001b[38;5;28mself\u001b[39m, tensor_index, value):\n\u001b[32m    705\u001b[39m \u001b[38;5;250m  \u001b[39m\u001b[33;03m\"\"\"Sets the value of the input tensor.\u001b[39;00m\n\u001b[32m    706\u001b[39m \n\u001b[32m    707\u001b[39m \u001b[33;03m  Note this copies data in `value`.\u001b[39;00m\n\u001b[32m   (...)\u001b[39m\u001b[32m    718\u001b[39m \u001b[33;03m    ValueError: If the interpreter could not set the tensor.\u001b[39;00m\n\u001b[32m    719\u001b[39m \u001b[33;03m  \"\"\"\u001b[39;00m\n\u001b[32m--> \u001b[39m\u001b[32m720\u001b[39m   \u001b[38;5;28;43mself\u001b[39;49m\u001b[43m.\u001b[49m\u001b[43m_interpreter\u001b[49m\u001b[43m.\u001b[49m\u001b[43mSetTensor\u001b[49m\u001b[43m(\u001b[49m\u001b[43mtensor_index\u001b[49m\u001b[43m,\u001b[49m\u001b[43m \u001b[49m\u001b[43mvalue\u001b[49m\u001b[43m)\u001b[49m\n",
      "\u001b[31mValueError\u001b[39m: Cannot set tensor: Tensor is unallocated. Try calling allocate_tensors() first"
     ]
    }
   ],
   "source": [
    "try:\n",
    "    print(\"🚀 GRU 기반 실시간 아크 감지 시작합니다!\")\n",
    "\n",
    "    USE_SENSOR = True\n",
    "    ANOMALY_THRESHOLD = 8\n",
    "\n",
    "    data_buffer = []\n",
    "    anomaly_buffer = []\n",
    "    first_anomaly_detected = False\n",
    "    anomaly_start_time = None\n",
    "    start_time = time.perf_counter()\n",
    "    idx = -1\n",
    "\n",
    "    while True:\n",
    "        idx += 1\n",
    "\n",
    "        # 입력: 센서 또는 CSV\n",
    "        if USE_SENSOR:\n",
    "            try:\n",
    "                v_raw = voltage_ch.voltage\n",
    "                c_raw = current_ch.voltage\n",
    "                voltage = (v_raw - ZMPT_offset) * ZMPT_scale\n",
    "                current = (c_raw - ACS712_offset) / ACS712_sensitivity\n",
    "                prev_voltage = voltage\n",
    "                prev_current = current\n",
    "            except (OSError, ValueError, RuntimeError) as e:\n",
    "                print(f\"⚠️ 센서 오류: {e}\")\n",
    "                voltage = prev_voltage if 'prev_voltage' in locals() else 0\n",
    "                current = prev_current if 'prev_current' in locals() else 0\n",
    "        else:\n",
    "            if idx >= len(df):\n",
    "                break\n",
    "            voltage = df['voltage'].iloc[idx]\n",
    "            current = df['current'].iloc[idx]\n",
    "\n",
    "        data_buffer.append((voltage, current))\n",
    "        if len(data_buffer) > 100:\n",
    "            data_buffer.pop(0)\n",
    "\n",
    "        anomaly = 0\n",
    "        \n",
    "        if len(data_buffer) >= 15:\n",
    "            sequence = []\n",
    "            for i in range(len(data_buffer) - 15, len(data_buffer) - 7):\n",
    "                window = data_buffer[i:i+8]\n",
    "                if len(window) < 8:\n",
    "                    continue\n",
    "                v_seq, c_seq = zip(*window)\n",
    "                features = extract_features(v_seq, c_seq)\n",
    "                sequence.append(features)\n",
    "\n",
    "            X = np.array(sequence)\n",
    "            X_scaled = scaler.transform(X)\n",
    "            X_scaled = X_scaled.reshape(1, 8, 8)\n",
    "\n",
    "            interpreter.set_tensor(input_details[0]['index'], X_scaled.astype(np.float32))\n",
    "            interpreter.invoke()\n",
    "            output = interpreter.get_tensor(output_details[0]['index'])\n",
    "            y_pred = output[0][0]\n",
    "            anomaly = int(y_pred > 0.5)\n",
    "\n",
    "            anomaly_buffer.append(anomaly)\n",
    "            if len(anomaly_buffer) > ANOMALY_THRESHOLD:\n",
    "                anomaly_buffer.pop(0)\n",
    "\n",
    "            if anomaly == 1 and anomaly_start_time is None:\n",
    "                anomaly_start_time = time.perf_counter()\n",
    "            elif anomaly == 0:\n",
    "                anomaly_start_time = None\n",
    "\n",
    "            if postprocess_anomalies_realtime(anomaly_buffer, min_consecutive=ANOMALY_THRESHOLD):\n",
    "                print(\"⚡ 아크 이상 감지!\", idx)\n",
    "                if not first_anomaly_detected and anomaly_start_time is not None:\n",
    "                    total_elapsed = time.perf_counter() - start_time\n",
    "                    actual_elapsed = time.perf_counter() - anomaly_start_time\n",
    "                    print(f\"⏱️ 전체 소요 시간: {total_elapsed:.6f}초\")\n",
    "                    print(f\"⏱️ 연속 이상 감지까지 소요 시간: {actual_elapsed:.6f}초\")\n",
    "                    first_anomaly_detected = True\n",
    "                    break\n",
    "\n",
    "        # CSV 기록\n",
    "        with open(csv_filename, mode='a', newline='') as file:\n",
    "            writer = csv.writer(file)\n",
    "            timestamp = datetime.now().isoformat()\n",
    "            writer.writerow([timestamp, voltage, current, anomaly])\n",
    "\n",
    "        cpu = psutil.cpu_percent(interval=0.0)\n",
    "        mem = psutil.Process().memory_info().rss / 1024**2\n",
    "        print(f\"🧠 메모리: {mem:.2f}MB | 🧮 CPU: {cpu:.2f}% | idx: {idx}\")\n",
    "        print(f\"Voltage: {voltage:.2f}V, Current: {current:.2f}A, Anomaly: {anomaly}\")\n",
    "\n",
    "        time.sleep(0.001163)\n",
    "\n",
    "except KeyboardInterrupt:\n",
    "    print(\"🛑 실시간 감지를 종료합니다.\")"
   ]
  }
 ],
 "metadata": {
  "kernelspec": {
   "display_name": "powerenv",
   "language": "python",
   "name": "python3"
  },
  "language_info": {
   "codemirror_mode": {
    "name": "ipython",
    "version": 3
   },
   "file_extension": ".py",
   "mimetype": "text/x-python",
   "name": "python",
   "nbconvert_exporter": "python",
   "pygments_lexer": "ipython3",
   "version": "3.11.2"
  }
 },
 "nbformat": 4,
 "nbformat_minor": 5
}
