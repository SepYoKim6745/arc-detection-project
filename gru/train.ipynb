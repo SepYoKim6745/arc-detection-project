{
 "cells": [
  {
   "cell_type": "code",
   "execution_count": 11,
   "id": "ad315d23",
   "metadata": {},
   "outputs": [],
   "source": [
    "from tensorflow.keras.models import Sequential\n",
    "from tensorflow.keras.layers import GRU, Dense, Dropout\n",
    "from sklearn.model_selection import train_test_split\n",
    "from sklearn.preprocessing import StandardScaler\n",
    "import numpy as np\n",
    "import pandas as pd\n",
    "import joblib\n",
    "import glob, os\n"
   ]
  },
  {
   "cell_type": "code",
   "execution_count": 12,
   "id": "f4b32e23",
   "metadata": {},
   "outputs": [],
   "source": [
    "# 데이터 불러오기\n",
    "column_names = ['timestamp', 'v_raw', 'c_raw', 'voltage', 'current', 'label']\n",
    "normal_dir = '../realtime/normal/'\n",
    "arc_dir = '../realtime/arc/'\n",
    "normal_data = pd.concat([pd.read_csv(f, names=column_names, header=None)\n",
    "                         for f in glob.glob(os.path.join(normal_dir, '*.csv'))])\n",
    "arc_data = pd.concat([pd.read_csv(f, names=column_names, header=None)\n",
    "                      for f in glob.glob(os.path.join(arc_dir, '*.csv'))])\n",
    "df = pd.concat([normal_data, arc_data]).sample(frac=1).reset_index(drop=True)\n"
   ]
  },
  {
   "cell_type": "code",
   "execution_count": 13,
   "id": "2188a953",
   "metadata": {},
   "outputs": [],
   "source": [
    "# 파생 피처\n",
    "def add_features(df):\n",
    "    df['voltage_diff'] = df['voltage'].diff().fillna(0).abs()\n",
    "    df['current_diff'] = df['current'].diff().fillna(0).abs()\n",
    "    df['voltage_ma'] = df['voltage'].rolling(5).mean().bfill()\n",
    "    df['current_ma'] = df['current'].rolling(5).mean().bfill()\n",
    "    df['power'] = df['voltage'] * df['current']\n",
    "    df['power_diff'] = df['power'].diff().fillna(0).abs()\n",
    "    return df"
   ]
  },
  {
   "cell_type": "code",
   "execution_count": 14,
   "id": "4236c815",
   "metadata": {},
   "outputs": [],
   "source": [
    "df = add_features(df).dropna()\n",
    "features = ['voltage', 'current', 'voltage_diff', 'current_diff',\n",
    "            'voltage_ma', 'current_ma', 'power', 'power_diff']\n",
    "\n",
    "X_raw = df[features].values\n",
    "y_raw = df['label'].astype(int).values"
   ]
  },
  {
   "cell_type": "code",
   "execution_count": 15,
   "id": "64c857ce",
   "metadata": {},
   "outputs": [],
   "source": [
    "# 정규화 및 시퀀스 생성\n",
    "scaler = StandardScaler()\n",
    "X_scaled = scaler.fit_transform(X_raw)\n",
    "\n",
    "def create_sequences(data, labels, seq_len=8):\n",
    "    X, y = [], []\n",
    "    for i in range(len(data) - seq_len):\n",
    "        X.append(data[i:i+seq_len])\n",
    "        y.append(labels[i+seq_len - 1])\n",
    "    return np.array(X), np.array(y)\n",
    "\n",
    "seq_len = 8\n",
    "X_seq, y_seq = create_sequences(X_scaled, y_raw, seq_len)\n",
    "X_train, X_val, y_train, y_val = train_test_split(X_seq, y_seq, test_size=0.2, stratify=y_seq, random_state=42)\n"
   ]
  },
  {
   "cell_type": "code",
   "execution_count": 16,
   "id": "effbaa74",
   "metadata": {},
   "outputs": [
    {
     "name": "stderr",
     "output_type": "stream",
     "text": [
      "c:\\Users\\NGN Lab\\Desktop\\kys\\논문\\전기안전공학\\source\\arc-detection-project\\powerenv\\Lib\\site-packages\\keras\\src\\layers\\rnn\\rnn.py:200: UserWarning: Do not pass an `input_shape`/`input_dim` argument to a layer. When using Sequential models, prefer using an `Input(shape)` object as the first layer in the model instead.\n",
      "  super().__init__(**kwargs)\n"
     ]
    }
   ],
   "source": [
    "# GRU 모델 정의\n",
    "model = Sequential([\n",
    "    GRU(64, return_sequences=False, input_shape=(seq_len, len(features))),\n",
    "    Dropout(0.3),\n",
    "    Dense(64, activation='relu'),\n",
    "    Dense(1, activation='sigmoid')\n",
    "])\n",
    "\n",
    "model.compile(optimizer='adam', loss='binary_crossentropy', metrics=['accuracy'])"
   ]
  },
  {
   "cell_type": "code",
   "execution_count": 17,
   "id": "2f741ffc",
   "metadata": {},
   "outputs": [
    {
     "name": "stdout",
     "output_type": "stream",
     "text": [
      "Epoch 1/50\n"
     ]
    },
    {
     "name": "stdout",
     "output_type": "stream",
     "text": [
      "\u001b[1m317/317\u001b[0m \u001b[32m━━━━━━━━━━━━━━━━━━━━\u001b[0m\u001b[37m\u001b[0m \u001b[1m4s\u001b[0m 7ms/step - accuracy: 0.8767 - loss: 0.4129 - val_accuracy: 0.8850 - val_loss: 0.3381\n",
      "Epoch 2/50\n",
      "\u001b[1m317/317\u001b[0m \u001b[32m━━━━━━━━━━━━━━━━━━━━\u001b[0m\u001b[37m\u001b[0m \u001b[1m2s\u001b[0m 5ms/step - accuracy: 0.8863 - loss: 0.3378 - val_accuracy: 0.8856 - val_loss: 0.3292\n",
      "Epoch 3/50\n",
      "\u001b[1m317/317\u001b[0m \u001b[32m━━━━━━━━━━━━━━━━━━━━\u001b[0m\u001b[37m\u001b[0m \u001b[1m2s\u001b[0m 5ms/step - accuracy: 0.8893 - loss: 0.3230 - val_accuracy: 0.8883 - val_loss: 0.3177\n",
      "Epoch 4/50\n",
      "\u001b[1m317/317\u001b[0m \u001b[32m━━━━━━━━━━━━━━━━━━━━\u001b[0m\u001b[37m\u001b[0m \u001b[1m2s\u001b[0m 5ms/step - accuracy: 0.8895 - loss: 0.3248 - val_accuracy: 0.8994 - val_loss: 0.3058\n",
      "Epoch 5/50\n",
      "\u001b[1m317/317\u001b[0m \u001b[32m━━━━━━━━━━━━━━━━━━━━\u001b[0m\u001b[37m\u001b[0m \u001b[1m2s\u001b[0m 5ms/step - accuracy: 0.9022 - loss: 0.3019 - val_accuracy: 0.9024 - val_loss: 0.3029\n",
      "Epoch 6/50\n",
      "\u001b[1m317/317\u001b[0m \u001b[32m━━━━━━━━━━━━━━━━━━━━\u001b[0m\u001b[37m\u001b[0m \u001b[1m2s\u001b[0m 5ms/step - accuracy: 0.9039 - loss: 0.2974 - val_accuracy: 0.9045 - val_loss: 0.2995\n",
      "Epoch 7/50\n",
      "\u001b[1m317/317\u001b[0m \u001b[32m━━━━━━━━━━━━━━━━━━━━\u001b[0m\u001b[37m\u001b[0m \u001b[1m2s\u001b[0m 5ms/step - accuracy: 0.9037 - loss: 0.3028 - val_accuracy: 0.9049 - val_loss: 0.2991\n",
      "Epoch 8/50\n",
      "\u001b[1m317/317\u001b[0m \u001b[32m━━━━━━━━━━━━━━━━━━━━\u001b[0m\u001b[37m\u001b[0m \u001b[1m3s\u001b[0m 8ms/step - accuracy: 0.9028 - loss: 0.3037 - val_accuracy: 0.9039 - val_loss: 0.3010\n",
      "Epoch 9/50\n",
      "\u001b[1m317/317\u001b[0m \u001b[32m━━━━━━━━━━━━━━━━━━━━\u001b[0m\u001b[37m\u001b[0m \u001b[1m2s\u001b[0m 6ms/step - accuracy: 0.9076 - loss: 0.2926 - val_accuracy: 0.9079 - val_loss: 0.2966\n",
      "Epoch 10/50\n",
      "\u001b[1m317/317\u001b[0m \u001b[32m━━━━━━━━━━━━━━━━━━━━\u001b[0m\u001b[37m\u001b[0m \u001b[1m2s\u001b[0m 5ms/step - accuracy: 0.9063 - loss: 0.2932 - val_accuracy: 0.9051 - val_loss: 0.2978\n",
      "Epoch 11/50\n",
      "\u001b[1m317/317\u001b[0m \u001b[32m━━━━━━━━━━━━━━━━━━━━\u001b[0m\u001b[37m\u001b[0m \u001b[1m2s\u001b[0m 5ms/step - accuracy: 0.9029 - loss: 0.2968 - val_accuracy: 0.9069 - val_loss: 0.2929\n",
      "Epoch 12/50\n",
      "\u001b[1m317/317\u001b[0m \u001b[32m━━━━━━━━━━━━━━━━━━━━\u001b[0m\u001b[37m\u001b[0m \u001b[1m1s\u001b[0m 5ms/step - accuracy: 0.9080 - loss: 0.2858 - val_accuracy: 0.9081 - val_loss: 0.2941\n",
      "Epoch 13/50\n",
      "\u001b[1m317/317\u001b[0m \u001b[32m━━━━━━━━━━━━━━━━━━━━\u001b[0m\u001b[37m\u001b[0m \u001b[1m2s\u001b[0m 5ms/step - accuracy: 0.9070 - loss: 0.2900 - val_accuracy: 0.9055 - val_loss: 0.2944\n",
      "Epoch 14/50\n",
      "\u001b[1m317/317\u001b[0m \u001b[32m━━━━━━━━━━━━━━━━━━━━\u001b[0m\u001b[37m\u001b[0m \u001b[1m2s\u001b[0m 5ms/step - accuracy: 0.9082 - loss: 0.2876 - val_accuracy: 0.9073 - val_loss: 0.2895\n",
      "Epoch 15/50\n",
      "\u001b[1m317/317\u001b[0m \u001b[32m━━━━━━━━━━━━━━━━━━━━\u001b[0m\u001b[37m\u001b[0m \u001b[1m2s\u001b[0m 5ms/step - accuracy: 0.9043 - loss: 0.2934 - val_accuracy: 0.9099 - val_loss: 0.2876\n",
      "Epoch 16/50\n",
      "\u001b[1m317/317\u001b[0m \u001b[32m━━━━━━━━━━━━━━━━━━━━\u001b[0m\u001b[37m\u001b[0m \u001b[1m2s\u001b[0m 5ms/step - accuracy: 0.9092 - loss: 0.2853 - val_accuracy: 0.9039 - val_loss: 0.2887\n",
      "Epoch 17/50\n",
      "\u001b[1m317/317\u001b[0m \u001b[32m━━━━━━━━━━━━━━━━━━━━\u001b[0m\u001b[37m\u001b[0m \u001b[1m2s\u001b[0m 5ms/step - accuracy: 0.9078 - loss: 0.2841 - val_accuracy: 0.9093 - val_loss: 0.2877\n",
      "Epoch 18/50\n",
      "\u001b[1m317/317\u001b[0m \u001b[32m━━━━━━━━━━━━━━━━━━━━\u001b[0m\u001b[37m\u001b[0m \u001b[1m2s\u001b[0m 5ms/step - accuracy: 0.9066 - loss: 0.2861 - val_accuracy: 0.9093 - val_loss: 0.2883\n",
      "Epoch 19/50\n",
      "\u001b[1m317/317\u001b[0m \u001b[32m━━━━━━━━━━━━━━━━━━━━\u001b[0m\u001b[37m\u001b[0m \u001b[1m2s\u001b[0m 5ms/step - accuracy: 0.9110 - loss: 0.2757 - val_accuracy: 0.9095 - val_loss: 0.2850\n",
      "Epoch 20/50\n",
      "\u001b[1m317/317\u001b[0m \u001b[32m━━━━━━━━━━━━━━━━━━━━\u001b[0m\u001b[37m\u001b[0m \u001b[1m2s\u001b[0m 5ms/step - accuracy: 0.9134 - loss: 0.2744 - val_accuracy: 0.9097 - val_loss: 0.2899\n",
      "Epoch 21/50\n",
      "\u001b[1m317/317\u001b[0m \u001b[32m━━━━━━━━━━━━━━━━━━━━\u001b[0m\u001b[37m\u001b[0m \u001b[1m2s\u001b[0m 5ms/step - accuracy: 0.9105 - loss: 0.2775 - val_accuracy: 0.9075 - val_loss: 0.2868\n",
      "Epoch 22/50\n",
      "\u001b[1m317/317\u001b[0m \u001b[32m━━━━━━━━━━━━━━━━━━━━\u001b[0m\u001b[37m\u001b[0m \u001b[1m2s\u001b[0m 5ms/step - accuracy: 0.9118 - loss: 0.2710 - val_accuracy: 0.9059 - val_loss: 0.2873\n",
      "Epoch 23/50\n",
      "\u001b[1m317/317\u001b[0m \u001b[32m━━━━━━━━━━━━━━━━━━━━\u001b[0m\u001b[37m\u001b[0m \u001b[1m2s\u001b[0m 5ms/step - accuracy: 0.9087 - loss: 0.2753 - val_accuracy: 0.9067 - val_loss: 0.2908\n",
      "Epoch 24/50\n",
      "\u001b[1m317/317\u001b[0m \u001b[32m━━━━━━━━━━━━━━━━━━━━\u001b[0m\u001b[37m\u001b[0m \u001b[1m2s\u001b[0m 5ms/step - accuracy: 0.9120 - loss: 0.2711 - val_accuracy: 0.9097 - val_loss: 0.2840\n",
      "Epoch 25/50\n",
      "\u001b[1m317/317\u001b[0m \u001b[32m━━━━━━━━━━━━━━━━━━━━\u001b[0m\u001b[37m\u001b[0m \u001b[1m2s\u001b[0m 5ms/step - accuracy: 0.9136 - loss: 0.2690 - val_accuracy: 0.9097 - val_loss: 0.2903\n",
      "Epoch 26/50\n",
      "\u001b[1m317/317\u001b[0m \u001b[32m━━━━━━━━━━━━━━━━━━━━\u001b[0m\u001b[37m\u001b[0m \u001b[1m2s\u001b[0m 5ms/step - accuracy: 0.9121 - loss: 0.2754 - val_accuracy: 0.9073 - val_loss: 0.2857\n",
      "Epoch 27/50\n",
      "\u001b[1m317/317\u001b[0m \u001b[32m━━━━━━━━━━━━━━━━━━━━\u001b[0m\u001b[37m\u001b[0m \u001b[1m2s\u001b[0m 5ms/step - accuracy: 0.9108 - loss: 0.2694 - val_accuracy: 0.9093 - val_loss: 0.2850\n",
      "Epoch 28/50\n",
      "\u001b[1m317/317\u001b[0m \u001b[32m━━━━━━━━━━━━━━━━━━━━\u001b[0m\u001b[37m\u001b[0m \u001b[1m2s\u001b[0m 5ms/step - accuracy: 0.9101 - loss: 0.2731 - val_accuracy: 0.9091 - val_loss: 0.2902\n",
      "Epoch 29/50\n",
      "\u001b[1m317/317\u001b[0m \u001b[32m━━━━━━━━━━━━━━━━━━━━\u001b[0m\u001b[37m\u001b[0m \u001b[1m1s\u001b[0m 5ms/step - accuracy: 0.9120 - loss: 0.2649 - val_accuracy: 0.9105 - val_loss: 0.2895\n",
      "Epoch 30/50\n",
      "\u001b[1m317/317\u001b[0m \u001b[32m━━━━━━━━━━━━━━━━━━━━\u001b[0m\u001b[37m\u001b[0m \u001b[1m2s\u001b[0m 5ms/step - accuracy: 0.9158 - loss: 0.2612 - val_accuracy: 0.9087 - val_loss: 0.2887\n",
      "Epoch 31/50\n",
      "\u001b[1m317/317\u001b[0m \u001b[32m━━━━━━━━━━━━━━━━━━━━\u001b[0m\u001b[37m\u001b[0m \u001b[1m1s\u001b[0m 5ms/step - accuracy: 0.9107 - loss: 0.2699 - val_accuracy: 0.9075 - val_loss: 0.2905\n",
      "Epoch 32/50\n",
      "\u001b[1m317/317\u001b[0m \u001b[32m━━━━━━━━━━━━━━━━━━━━\u001b[0m\u001b[37m\u001b[0m \u001b[1m2s\u001b[0m 5ms/step - accuracy: 0.9119 - loss: 0.2659 - val_accuracy: 0.9099 - val_loss: 0.2887\n",
      "Epoch 33/50\n",
      "\u001b[1m317/317\u001b[0m \u001b[32m━━━━━━━━━━━━━━━━━━━━\u001b[0m\u001b[37m\u001b[0m \u001b[1m2s\u001b[0m 5ms/step - accuracy: 0.9156 - loss: 0.2603 - val_accuracy: 0.9075 - val_loss: 0.2919\n",
      "Epoch 34/50\n",
      "\u001b[1m317/317\u001b[0m \u001b[32m━━━━━━━━━━━━━━━━━━━━\u001b[0m\u001b[37m\u001b[0m \u001b[1m2s\u001b[0m 5ms/step - accuracy: 0.9124 - loss: 0.2659 - val_accuracy: 0.9071 - val_loss: 0.2921\n",
      "Epoch 35/50\n",
      "\u001b[1m317/317\u001b[0m \u001b[32m━━━━━━━━━━━━━━━━━━━━\u001b[0m\u001b[37m\u001b[0m \u001b[1m2s\u001b[0m 5ms/step - accuracy: 0.9151 - loss: 0.2562 - val_accuracy: 0.9073 - val_loss: 0.2921\n",
      "Epoch 36/50\n",
      "\u001b[1m317/317\u001b[0m \u001b[32m━━━━━━━━━━━━━━━━━━━━\u001b[0m\u001b[37m\u001b[0m \u001b[1m2s\u001b[0m 5ms/step - accuracy: 0.9149 - loss: 0.2569 - val_accuracy: 0.9087 - val_loss: 0.2939\n",
      "Epoch 37/50\n",
      "\u001b[1m317/317\u001b[0m \u001b[32m━━━━━━━━━━━━━━━━━━━━\u001b[0m\u001b[37m\u001b[0m \u001b[1m2s\u001b[0m 5ms/step - accuracy: 0.9179 - loss: 0.2471 - val_accuracy: 0.9069 - val_loss: 0.2970\n",
      "Epoch 38/50\n",
      "\u001b[1m317/317\u001b[0m \u001b[32m━━━━━━━━━━━━━━━━━━━━\u001b[0m\u001b[37m\u001b[0m \u001b[1m2s\u001b[0m 6ms/step - accuracy: 0.9162 - loss: 0.2520 - val_accuracy: 0.9051 - val_loss: 0.2991\n",
      "Epoch 39/50\n",
      "\u001b[1m317/317\u001b[0m \u001b[32m━━━━━━━━━━━━━━━━━━━━\u001b[0m\u001b[37m\u001b[0m \u001b[1m2s\u001b[0m 6ms/step - accuracy: 0.9155 - loss: 0.2537 - val_accuracy: 0.9061 - val_loss: 0.3045\n",
      "Epoch 40/50\n",
      "\u001b[1m317/317\u001b[0m \u001b[32m━━━━━━━━━━━━━━━━━━━━\u001b[0m\u001b[37m\u001b[0m \u001b[1m2s\u001b[0m 5ms/step - accuracy: 0.9198 - loss: 0.2435 - val_accuracy: 0.9043 - val_loss: 0.3026\n",
      "Epoch 41/50\n",
      "\u001b[1m317/317\u001b[0m \u001b[32m━━━━━━━━━━━━━━━━━━━━\u001b[0m\u001b[37m\u001b[0m \u001b[1m2s\u001b[0m 5ms/step - accuracy: 0.9220 - loss: 0.2362 - val_accuracy: 0.9053 - val_loss: 0.3039\n",
      "Epoch 42/50\n",
      "\u001b[1m317/317\u001b[0m \u001b[32m━━━━━━━━━━━━━━━━━━━━\u001b[0m\u001b[37m\u001b[0m \u001b[1m2s\u001b[0m 5ms/step - accuracy: 0.9190 - loss: 0.2435 - val_accuracy: 0.9059 - val_loss: 0.3068\n",
      "Epoch 43/50\n",
      "\u001b[1m317/317\u001b[0m \u001b[32m━━━━━━━━━━━━━━━━━━━━\u001b[0m\u001b[37m\u001b[0m \u001b[1m2s\u001b[0m 5ms/step - accuracy: 0.9200 - loss: 0.2370 - val_accuracy: 0.9043 - val_loss: 0.3154\n",
      "Epoch 44/50\n",
      "\u001b[1m317/317\u001b[0m \u001b[32m━━━━━━━━━━━━━━━━━━━━\u001b[0m\u001b[37m\u001b[0m \u001b[1m2s\u001b[0m 5ms/step - accuracy: 0.9227 - loss: 0.2338 - val_accuracy: 0.9049 - val_loss: 0.3108\n",
      "Epoch 45/50\n",
      "\u001b[1m317/317\u001b[0m \u001b[32m━━━━━━━━━━━━━━━━━━━━\u001b[0m\u001b[37m\u001b[0m \u001b[1m2s\u001b[0m 5ms/step - accuracy: 0.9246 - loss: 0.2296 - val_accuracy: 0.9049 - val_loss: 0.3151\n",
      "Epoch 46/50\n",
      "\u001b[1m317/317\u001b[0m \u001b[32m━━━━━━━━━━━━━━━━━━━━\u001b[0m\u001b[37m\u001b[0m \u001b[1m2s\u001b[0m 5ms/step - accuracy: 0.9262 - loss: 0.2223 - val_accuracy: 0.9035 - val_loss: 0.3165\n",
      "Epoch 47/50\n",
      "\u001b[1m317/317\u001b[0m \u001b[32m━━━━━━━━━━━━━━━━━━━━\u001b[0m\u001b[37m\u001b[0m \u001b[1m2s\u001b[0m 5ms/step - accuracy: 0.9222 - loss: 0.2332 - val_accuracy: 0.9031 - val_loss: 0.3223\n",
      "Epoch 48/50\n",
      "\u001b[1m317/317\u001b[0m \u001b[32m━━━━━━━━━━━━━━━━━━━━\u001b[0m\u001b[37m\u001b[0m \u001b[1m2s\u001b[0m 5ms/step - accuracy: 0.9250 - loss: 0.2233 - val_accuracy: 0.9045 - val_loss: 0.3238\n",
      "Epoch 49/50\n",
      "\u001b[1m317/317\u001b[0m \u001b[32m━━━━━━━━━━━━━━━━━━━━\u001b[0m\u001b[37m\u001b[0m \u001b[1m2s\u001b[0m 5ms/step - accuracy: 0.9262 - loss: 0.2225 - val_accuracy: 0.9020 - val_loss: 0.3341\n",
      "Epoch 50/50\n",
      "\u001b[1m317/317\u001b[0m \u001b[32m━━━━━━━━━━━━━━━━━━━━\u001b[0m\u001b[37m\u001b[0m \u001b[1m2s\u001b[0m 5ms/step - accuracy: 0.9275 - loss: 0.2119 - val_accuracy: 0.8992 - val_loss: 0.3344\n"
     ]
    },
    {
     "data": {
      "text/plain": [
       "<keras.src.callbacks.history.History at 0x1cedad5e090>"
      ]
     },
     "execution_count": 17,
     "metadata": {},
     "output_type": "execute_result"
    }
   ],
   "source": [
    "# 학습\n",
    "model.fit(X_train, y_train, validation_data=(X_val, y_val),\n",
    "          epochs=50, batch_size=64, verbose=1)"
   ]
  },
  {
   "cell_type": "code",
   "execution_count": 18,
   "id": "d4e4c5bd",
   "metadata": {},
   "outputs": [
    {
     "name": "stderr",
     "output_type": "stream",
     "text": [
      "WARNING:absl:You are saving your model as an HDF5 file via `model.save()` or `keras.saving.save_model(model)`. This file format is considered legacy. We recommend using instead the native Keras format, e.g. `model.save('my_model.keras')` or `keras.saving.save_model(model, 'my_model.keras')`. \n"
     ]
    },
    {
     "data": {
      "text/plain": [
       "['./model/scaler_gru.joblib']"
      ]
     },
     "execution_count": 18,
     "metadata": {},
     "output_type": "execute_result"
    }
   ],
   "source": [
    "# 저장\n",
    "model.save('./model/gru_model.h5')\n",
    "joblib.dump(scaler, './model/scaler_gru.joblib')"
   ]
  },
  {
   "cell_type": "code",
   "execution_count": 19,
   "id": "06e37d7e",
   "metadata": {},
   "outputs": [
    {
     "name": "stderr",
     "output_type": "stream",
     "text": [
      "WARNING:absl:Compiled the loaded model, but the compiled metrics have yet to be built. `model.compile_metrics` will be empty until you train or evaluate the model.\n"
     ]
    },
    {
     "name": "stdout",
     "output_type": "stream",
     "text": [
      "INFO:tensorflow:Assets written to: C:\\Users\\NGNLAB~1\\AppData\\Local\\Temp\\tmp2dsebqvx\\assets\n"
     ]
    },
    {
     "name": "stderr",
     "output_type": "stream",
     "text": [
      "INFO:tensorflow:Assets written to: C:\\Users\\NGNLAB~1\\AppData\\Local\\Temp\\tmp2dsebqvx\\assets\n"
     ]
    },
    {
     "name": "stdout",
     "output_type": "stream",
     "text": [
      "Saved artifact at 'C:\\Users\\NGNLAB~1\\AppData\\Local\\Temp\\tmp2dsebqvx'. The following endpoints are available:\n",
      "\n",
      "* Endpoint 'serve'\n",
      "  args_0 (POSITIONAL_ONLY): TensorSpec(shape=(None, 8, 8), dtype=tf.float32, name='input_layer_1')\n",
      "Output Type:\n",
      "  TensorSpec(shape=(None, 1), dtype=tf.float32, name=None)\n",
      "Captures:\n",
      "  1987957287312: TensorSpec(shape=(), dtype=tf.resource, name=None)\n",
      "  1987957287504: TensorSpec(shape=(), dtype=tf.resource, name=None)\n",
      "  1987957281936: TensorSpec(shape=(), dtype=tf.resource, name=None)\n",
      "  1987957284624: TensorSpec(shape=(), dtype=tf.resource, name=None)\n",
      "  1987957286736: TensorSpec(shape=(), dtype=tf.resource, name=None)\n",
      "  1987957286928: TensorSpec(shape=(), dtype=tf.resource, name=None)\n",
      "  1987957286352: TensorSpec(shape=(), dtype=tf.resource, name=None)\n",
      "✅ GRU 모델 TFLite 변환 성공 (SELECT_TF_OPS 포함)\n"
     ]
    }
   ],
   "source": [
    "import tensorflow as tf\n",
    "import os\n",
    "\n",
    "os.environ['CUDA_VISIBLE_DEVICES'] = '-1'\n",
    "\n",
    "model = tf.keras.models.load_model('./model/gru_model.h5')\n",
    "\n",
    "converter = tf.lite.TFLiteConverter.from_keras_model(model)\n",
    "\n",
    "# 핵심 설정 🔽\n",
    "converter.target_spec.supported_ops = [\n",
    "    tf.lite.OpsSet.TFLITE_BUILTINS,        # 기본 연산\n",
    "    tf.lite.OpsSet.SELECT_TF_OPS           # TensorFlow 연산 허용\n",
    "]\n",
    "converter._experimental_lower_tensor_list_ops = False  # TensorList 연산 내림 방지\n",
    "\n",
    "# 최적화 옵션 (선택)\n",
    "converter.optimizations = [tf.lite.Optimize.DEFAULT]\n",
    "\n",
    "# 변환\n",
    "tflite_model = converter.convert()\n",
    "\n",
    "# 저장\n",
    "with open('./model/gru_model.tflite', 'wb') as f:\n",
    "    f.write(tflite_model)\n",
    "\n",
    "print(\"✅ GRU 모델 TFLite 변환 성공 (SELECT_TF_OPS 포함)\")\n"
   ]
  }
 ],
 "metadata": {
  "kernelspec": {
   "display_name": "powerenv",
   "language": "python",
   "name": "python3"
  },
  "language_info": {
   "codemirror_mode": {
    "name": "ipython",
    "version": 3
   },
   "file_extension": ".py",
   "mimetype": "text/x-python",
   "name": "python",
   "nbconvert_exporter": "python",
   "pygments_lexer": "ipython3",
   "version": "3.12.7"
  }
 },
 "nbformat": 4,
 "nbformat_minor": 5
}
