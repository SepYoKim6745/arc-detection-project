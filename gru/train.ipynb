{
 "cells": [
  {
   "cell_type": "code",
   "execution_count": 1,
   "id": "ad315d23",
   "metadata": {},
   "outputs": [],
   "source": [
    "from tensorflow.keras.models import Sequential\n",
    "from tensorflow.keras.layers import GRU, Dense, Dropout\n",
    "from sklearn.model_selection import train_test_split\n",
    "from sklearn.preprocessing import StandardScaler\n",
    "import numpy as np\n",
    "import pandas as pd\n",
    "import joblib\n",
    "import glob, os\n"
   ]
  },
  {
   "cell_type": "code",
   "execution_count": 2,
   "id": "f4b32e23",
   "metadata": {},
   "outputs": [],
   "source": [
    "# 데이터 불러오기\n",
    "column_names = ['timestamp', 'v_raw', 'c_raw', 'voltage', 'current', 'label']\n",
    "normal_dir = '../realtime/normal/'\n",
    "arc_dir = '../realtime/arc/'\n",
    "normal_data = pd.concat([pd.read_csv(f, names=column_names, header=None)\n",
    "                         for f in glob.glob(os.path.join(normal_dir, '*.csv'))])\n",
    "arc_data = pd.concat([pd.read_csv(f, names=column_names, header=None)\n",
    "                      for f in glob.glob(os.path.join(arc_dir, '*.csv'))])\n",
    "df = pd.concat([normal_data, arc_data]).sample(frac=1).reset_index(drop=True)\n"
   ]
  },
  {
   "cell_type": "code",
   "execution_count": 3,
   "id": "2188a953",
   "metadata": {},
   "outputs": [],
   "source": [
    "# 파생 피처\n",
    "def add_features(df):\n",
    "    df['voltage_diff'] = df['voltage'].diff().fillna(0).abs()\n",
    "    df['current_diff'] = df['current'].diff().fillna(0).abs()\n",
    "    df['voltage_ma'] = df['voltage'].rolling(5).mean().bfill()\n",
    "    df['current_ma'] = df['current'].rolling(5).mean().bfill()\n",
    "    df['power'] = df['voltage'] * df['current']\n",
    "    df['power_diff'] = df['power'].diff().fillna(0).abs()\n",
    "    return df"
   ]
  },
  {
   "cell_type": "code",
   "execution_count": 4,
   "id": "4236c815",
   "metadata": {},
   "outputs": [],
   "source": [
    "df = add_features(df).dropna()\n",
    "features = ['voltage', 'current', 'voltage_diff', 'current_diff',\n",
    "            'voltage_ma', 'current_ma', 'power', 'power_diff']\n",
    "\n",
    "X_raw = df[features].values\n",
    "y_raw = df['label'].astype(int).values"
   ]
  },
  {
   "cell_type": "code",
   "execution_count": 5,
   "id": "64c857ce",
   "metadata": {},
   "outputs": [],
   "source": [
    "# 정규화 및 시퀀스 생성\n",
    "scaler = StandardScaler()\n",
    "X_scaled = scaler.fit_transform(X_raw)\n",
    "\n",
    "def create_sequences(data, labels, seq_len=8):\n",
    "    X, y = [], []\n",
    "    for i in range(len(data) - seq_len):\n",
    "        X.append(data[i:i+seq_len])\n",
    "        y.append(labels[i+seq_len - 1])\n",
    "    return np.array(X), np.array(y)\n",
    "\n",
    "seq_len = 8\n",
    "X_seq, y_seq = create_sequences(X_scaled, y_raw, seq_len)\n",
    "X_train, X_val, y_train, y_val = train_test_split(X_seq, y_seq, test_size=0.2, stratify=y_seq, random_state=42)\n"
   ]
  },
  {
   "cell_type": "code",
   "execution_count": 6,
   "id": "effbaa74",
   "metadata": {},
   "outputs": [
    {
     "name": "stderr",
     "output_type": "stream",
     "text": [
      "c:\\Users\\NGN Lab\\Desktop\\kys\\논문\\전기안전공학\\source\\arc-detection-project\\powerenv\\Lib\\site-packages\\keras\\src\\layers\\rnn\\rnn.py:200: UserWarning: Do not pass an `input_shape`/`input_dim` argument to a layer. When using Sequential models, prefer using an `Input(shape)` object as the first layer in the model instead.\n",
      "  super().__init__(**kwargs)\n"
     ]
    }
   ],
   "source": [
    "# GRU 모델 정의\n",
    "model = Sequential([\n",
    "    GRU(64, return_sequences=False, input_shape=(seq_len, len(features))),\n",
    "    Dropout(0.3),\n",
    "    Dense(64, activation='relu'),\n",
    "    Dense(1, activation='sigmoid')\n",
    "])\n",
    "\n",
    "model.compile(optimizer='adam', loss='binary_crossentropy', metrics=['accuracy'])"
   ]
  },
  {
   "cell_type": "code",
   "execution_count": 7,
   "id": "2f741ffc",
   "metadata": {},
   "outputs": [
    {
     "name": "stdout",
     "output_type": "stream",
     "text": [
      "Epoch 1/50\n",
      "\u001b[1m317/317\u001b[0m \u001b[32m━━━━━━━━━━━━━━━━━━━━\u001b[0m\u001b[37m\u001b[0m \u001b[1m4s\u001b[0m 6ms/step - accuracy: 0.8634 - loss: 0.4176 - val_accuracy: 0.8854 - val_loss: 0.3345\n",
      "Epoch 2/50\n",
      "\u001b[1m317/317\u001b[0m \u001b[32m━━━━━━━━━━━━━━━━━━━━\u001b[0m\u001b[37m\u001b[0m \u001b[1m2s\u001b[0m 5ms/step - accuracy: 0.8876 - loss: 0.3373 - val_accuracy: 0.8854 - val_loss: 0.3272\n",
      "Epoch 3/50\n",
      "\u001b[1m317/317\u001b[0m \u001b[32m━━━━━━━━━━━━━━━━━━━━\u001b[0m\u001b[37m\u001b[0m \u001b[1m2s\u001b[0m 5ms/step - accuracy: 0.8845 - loss: 0.3370 - val_accuracy: 0.8923 - val_loss: 0.3143\n",
      "Epoch 4/50\n",
      "\u001b[1m317/317\u001b[0m \u001b[32m━━━━━━━━━━━━━━━━━━━━\u001b[0m\u001b[37m\u001b[0m \u001b[1m1s\u001b[0m 4ms/step - accuracy: 0.8860 - loss: 0.3340 - val_accuracy: 0.9012 - val_loss: 0.3042\n",
      "Epoch 5/50\n",
      "\u001b[1m317/317\u001b[0m \u001b[32m━━━━━━━━━━━━━━━━━━━━\u001b[0m\u001b[37m\u001b[0m \u001b[1m2s\u001b[0m 5ms/step - accuracy: 0.8953 - loss: 0.3111 - val_accuracy: 0.9073 - val_loss: 0.2995\n",
      "Epoch 6/50\n",
      "\u001b[1m317/317\u001b[0m \u001b[32m━━━━━━━━━━━━━━━━━━━━\u001b[0m\u001b[37m\u001b[0m \u001b[1m2s\u001b[0m 5ms/step - accuracy: 0.8971 - loss: 0.3122 - val_accuracy: 0.9027 - val_loss: 0.2996\n",
      "Epoch 7/50\n",
      "\u001b[1m317/317\u001b[0m \u001b[32m━━━━━━━━━━━━━━━━━━━━\u001b[0m\u001b[37m\u001b[0m \u001b[1m2s\u001b[0m 5ms/step - accuracy: 0.9029 - loss: 0.3020 - val_accuracy: 0.9079 - val_loss: 0.2946\n",
      "Epoch 8/50\n",
      "\u001b[1m317/317\u001b[0m \u001b[32m━━━━━━━━━━━━━━━━━━━━\u001b[0m\u001b[37m\u001b[0m \u001b[1m2s\u001b[0m 5ms/step - accuracy: 0.8993 - loss: 0.3078 - val_accuracy: 0.9085 - val_loss: 0.2941\n",
      "Epoch 9/50\n",
      "\u001b[1m317/317\u001b[0m \u001b[32m━━━━━━━━━━━━━━━━━━━━\u001b[0m\u001b[37m\u001b[0m \u001b[1m2s\u001b[0m 5ms/step - accuracy: 0.9032 - loss: 0.3006 - val_accuracy: 0.9085 - val_loss: 0.2912\n",
      "Epoch 10/50\n",
      "\u001b[1m317/317\u001b[0m \u001b[32m━━━━━━━━━━━━━━━━━━━━\u001b[0m\u001b[37m\u001b[0m \u001b[1m2s\u001b[0m 5ms/step - accuracy: 0.9033 - loss: 0.3044 - val_accuracy: 0.9089 - val_loss: 0.2906\n",
      "Epoch 11/50\n",
      "\u001b[1m317/317\u001b[0m \u001b[32m━━━━━━━━━━━━━━━━━━━━\u001b[0m\u001b[37m\u001b[0m \u001b[1m2s\u001b[0m 6ms/step - accuracy: 0.9052 - loss: 0.2952 - val_accuracy: 0.9099 - val_loss: 0.2865\n",
      "Epoch 12/50\n",
      "\u001b[1m317/317\u001b[0m \u001b[32m━━━━━━━━━━━━━━━━━━━━\u001b[0m\u001b[37m\u001b[0m \u001b[1m2s\u001b[0m 5ms/step - accuracy: 0.9050 - loss: 0.2954 - val_accuracy: 0.9101 - val_loss: 0.2862\n",
      "Epoch 13/50\n",
      "\u001b[1m317/317\u001b[0m \u001b[32m━━━━━━━━━━━━━━━━━━━━\u001b[0m\u001b[37m\u001b[0m \u001b[1m2s\u001b[0m 6ms/step - accuracy: 0.9081 - loss: 0.2906 - val_accuracy: 0.9095 - val_loss: 0.2861\n",
      "Epoch 14/50\n",
      "\u001b[1m317/317\u001b[0m \u001b[32m━━━━━━━━━━━━━━━━━━━━\u001b[0m\u001b[37m\u001b[0m \u001b[1m2s\u001b[0m 6ms/step - accuracy: 0.9037 - loss: 0.2952 - val_accuracy: 0.9101 - val_loss: 0.2838\n",
      "Epoch 15/50\n",
      "\u001b[1m317/317\u001b[0m \u001b[32m━━━━━━━━━━━━━━━━━━━━\u001b[0m\u001b[37m\u001b[0m \u001b[1m2s\u001b[0m 5ms/step - accuracy: 0.9071 - loss: 0.2880 - val_accuracy: 0.9114 - val_loss: 0.2817\n",
      "Epoch 16/50\n",
      "\u001b[1m317/317\u001b[0m \u001b[32m━━━━━━━━━━━━━━━━━━━━\u001b[0m\u001b[37m\u001b[0m \u001b[1m2s\u001b[0m 5ms/step - accuracy: 0.9072 - loss: 0.2871 - val_accuracy: 0.9109 - val_loss: 0.2809\n",
      "Epoch 17/50\n",
      "\u001b[1m317/317\u001b[0m \u001b[32m━━━━━━━━━━━━━━━━━━━━\u001b[0m\u001b[37m\u001b[0m \u001b[1m2s\u001b[0m 5ms/step - accuracy: 0.9097 - loss: 0.2813 - val_accuracy: 0.9101 - val_loss: 0.2799\n",
      "Epoch 18/50\n",
      "\u001b[1m317/317\u001b[0m \u001b[32m━━━━━━━━━━━━━━━━━━━━\u001b[0m\u001b[37m\u001b[0m \u001b[1m2s\u001b[0m 5ms/step - accuracy: 0.9107 - loss: 0.2809 - val_accuracy: 0.9114 - val_loss: 0.2800\n",
      "Epoch 19/50\n",
      "\u001b[1m317/317\u001b[0m \u001b[32m━━━━━━━━━━━━━━━━━━━━\u001b[0m\u001b[37m\u001b[0m \u001b[1m2s\u001b[0m 5ms/step - accuracy: 0.9080 - loss: 0.2864 - val_accuracy: 0.9114 - val_loss: 0.2770\n",
      "Epoch 20/50\n",
      "\u001b[1m317/317\u001b[0m \u001b[32m━━━━━━━━━━━━━━━━━━━━\u001b[0m\u001b[37m\u001b[0m \u001b[1m2s\u001b[0m 5ms/step - accuracy: 0.9094 - loss: 0.2822 - val_accuracy: 0.9124 - val_loss: 0.2770\n",
      "Epoch 21/50\n",
      "\u001b[1m317/317\u001b[0m \u001b[32m━━━━━━━━━━━━━━━━━━━━\u001b[0m\u001b[37m\u001b[0m \u001b[1m1s\u001b[0m 5ms/step - accuracy: 0.9094 - loss: 0.2797 - val_accuracy: 0.9101 - val_loss: 0.2777\n",
      "Epoch 22/50\n",
      "\u001b[1m317/317\u001b[0m \u001b[32m━━━━━━━━━━━━━━━━━━━━\u001b[0m\u001b[37m\u001b[0m \u001b[1m2s\u001b[0m 5ms/step - accuracy: 0.9123 - loss: 0.2743 - val_accuracy: 0.9118 - val_loss: 0.2750\n",
      "Epoch 23/50\n",
      "\u001b[1m317/317\u001b[0m \u001b[32m━━━━━━━━━━━━━━━━━━━━\u001b[0m\u001b[37m\u001b[0m \u001b[1m2s\u001b[0m 5ms/step - accuracy: 0.9118 - loss: 0.2755 - val_accuracy: 0.9110 - val_loss: 0.2742\n",
      "Epoch 24/50\n",
      "\u001b[1m317/317\u001b[0m \u001b[32m━━━━━━━━━━━━━━━━━━━━\u001b[0m\u001b[37m\u001b[0m \u001b[1m2s\u001b[0m 5ms/step - accuracy: 0.9124 - loss: 0.2736 - val_accuracy: 0.9122 - val_loss: 0.2732\n",
      "Epoch 25/50\n",
      "\u001b[1m317/317\u001b[0m \u001b[32m━━━━━━━━━━━━━━━━━━━━\u001b[0m\u001b[37m\u001b[0m \u001b[1m2s\u001b[0m 5ms/step - accuracy: 0.9141 - loss: 0.2699 - val_accuracy: 0.9126 - val_loss: 0.2742\n",
      "Epoch 26/50\n",
      "\u001b[1m317/317\u001b[0m \u001b[32m━━━━━━━━━━━━━━━━━━━━\u001b[0m\u001b[37m\u001b[0m \u001b[1m2s\u001b[0m 5ms/step - accuracy: 0.9132 - loss: 0.2713 - val_accuracy: 0.9124 - val_loss: 0.2746\n",
      "Epoch 27/50\n",
      "\u001b[1m317/317\u001b[0m \u001b[32m━━━━━━━━━━━━━━━━━━━━\u001b[0m\u001b[37m\u001b[0m \u001b[1m2s\u001b[0m 5ms/step - accuracy: 0.9135 - loss: 0.2695 - val_accuracy: 0.9118 - val_loss: 0.2732\n",
      "Epoch 28/50\n",
      "\u001b[1m317/317\u001b[0m \u001b[32m━━━━━━━━━━━━━━━━━━━━\u001b[0m\u001b[37m\u001b[0m \u001b[1m2s\u001b[0m 5ms/step - accuracy: 0.9136 - loss: 0.2712 - val_accuracy: 0.9095 - val_loss: 0.2760\n",
      "Epoch 29/50\n",
      "\u001b[1m317/317\u001b[0m \u001b[32m━━━━━━━━━━━━━━━━━━━━\u001b[0m\u001b[37m\u001b[0m \u001b[1m2s\u001b[0m 5ms/step - accuracy: 0.9120 - loss: 0.2683 - val_accuracy: 0.9120 - val_loss: 0.2714\n",
      "Epoch 30/50\n",
      "\u001b[1m317/317\u001b[0m \u001b[32m━━━━━━━━━━━━━━━━━━━━\u001b[0m\u001b[37m\u001b[0m \u001b[1m2s\u001b[0m 5ms/step - accuracy: 0.9135 - loss: 0.2653 - val_accuracy: 0.9118 - val_loss: 0.2754\n",
      "Epoch 31/50\n",
      "\u001b[1m317/317\u001b[0m \u001b[32m━━━━━━━━━━━━━━━━━━━━\u001b[0m\u001b[37m\u001b[0m \u001b[1m2s\u001b[0m 5ms/step - accuracy: 0.9153 - loss: 0.2649 - val_accuracy: 0.9120 - val_loss: 0.2734\n",
      "Epoch 32/50\n",
      "\u001b[1m317/317\u001b[0m \u001b[32m━━━━━━━━━━━━━━━━━━━━\u001b[0m\u001b[37m\u001b[0m \u001b[1m2s\u001b[0m 5ms/step - accuracy: 0.9112 - loss: 0.2721 - val_accuracy: 0.9128 - val_loss: 0.2730\n",
      "Epoch 33/50\n",
      "\u001b[1m317/317\u001b[0m \u001b[32m━━━━━━━━━━━━━━━━━━━━\u001b[0m\u001b[37m\u001b[0m \u001b[1m2s\u001b[0m 5ms/step - accuracy: 0.9166 - loss: 0.2599 - val_accuracy: 0.9110 - val_loss: 0.2749\n",
      "Epoch 34/50\n",
      "\u001b[1m317/317\u001b[0m \u001b[32m━━━━━━━━━━━━━━━━━━━━\u001b[0m\u001b[37m\u001b[0m \u001b[1m2s\u001b[0m 5ms/step - accuracy: 0.9162 - loss: 0.2590 - val_accuracy: 0.9132 - val_loss: 0.2742\n",
      "Epoch 35/50\n",
      "\u001b[1m317/317\u001b[0m \u001b[32m━━━━━━━━━━━━━━━━━━━━\u001b[0m\u001b[37m\u001b[0m \u001b[1m2s\u001b[0m 5ms/step - accuracy: 0.9152 - loss: 0.2593 - val_accuracy: 0.9138 - val_loss: 0.2736\n",
      "Epoch 36/50\n",
      "\u001b[1m317/317\u001b[0m \u001b[32m━━━━━━━━━━━━━━━━━━━━\u001b[0m\u001b[37m\u001b[0m \u001b[1m1s\u001b[0m 4ms/step - accuracy: 0.9159 - loss: 0.2603 - val_accuracy: 0.9120 - val_loss: 0.2739\n",
      "Epoch 37/50\n",
      "\u001b[1m317/317\u001b[0m \u001b[32m━━━━━━━━━━━━━━━━━━━━\u001b[0m\u001b[37m\u001b[0m \u001b[1m2s\u001b[0m 5ms/step - accuracy: 0.9142 - loss: 0.2615 - val_accuracy: 0.9120 - val_loss: 0.2796\n",
      "Epoch 38/50\n",
      "\u001b[1m317/317\u001b[0m \u001b[32m━━━━━━━━━━━━━━━━━━━━\u001b[0m\u001b[37m\u001b[0m \u001b[1m2s\u001b[0m 5ms/step - accuracy: 0.9139 - loss: 0.2616 - val_accuracy: 0.9130 - val_loss: 0.2761\n",
      "Epoch 39/50\n",
      "\u001b[1m317/317\u001b[0m \u001b[32m━━━━━━━━━━━━━━━━━━━━\u001b[0m\u001b[37m\u001b[0m \u001b[1m2s\u001b[0m 5ms/step - accuracy: 0.9198 - loss: 0.2482 - val_accuracy: 0.9138 - val_loss: 0.2751\n",
      "Epoch 40/50\n",
      "\u001b[1m317/317\u001b[0m \u001b[32m━━━━━━━━━━━━━━━━━━━━\u001b[0m\u001b[37m\u001b[0m \u001b[1m2s\u001b[0m 5ms/step - accuracy: 0.9173 - loss: 0.2515 - val_accuracy: 0.9124 - val_loss: 0.2762\n",
      "Epoch 41/50\n",
      "\u001b[1m317/317\u001b[0m \u001b[32m━━━━━━━━━━━━━━━━━━━━\u001b[0m\u001b[37m\u001b[0m \u001b[1m2s\u001b[0m 5ms/step - accuracy: 0.9215 - loss: 0.2415 - val_accuracy: 0.9136 - val_loss: 0.2773\n",
      "Epoch 42/50\n",
      "\u001b[1m317/317\u001b[0m \u001b[32m━━━━━━━━━━━━━━━━━━━━\u001b[0m\u001b[37m\u001b[0m \u001b[1m2s\u001b[0m 5ms/step - accuracy: 0.9190 - loss: 0.2463 - val_accuracy: 0.9142 - val_loss: 0.2779\n",
      "Epoch 43/50\n",
      "\u001b[1m317/317\u001b[0m \u001b[32m━━━━━━━━━━━━━━━━━━━━\u001b[0m\u001b[37m\u001b[0m \u001b[1m2s\u001b[0m 5ms/step - accuracy: 0.9182 - loss: 0.2460 - val_accuracy: 0.9116 - val_loss: 0.2883\n",
      "Epoch 44/50\n",
      "\u001b[1m317/317\u001b[0m \u001b[32m━━━━━━━━━━━━━━━━━━━━\u001b[0m\u001b[37m\u001b[0m \u001b[1m2s\u001b[0m 5ms/step - accuracy: 0.9197 - loss: 0.2424 - val_accuracy: 0.9144 - val_loss: 0.2842\n",
      "Epoch 45/50\n",
      "\u001b[1m317/317\u001b[0m \u001b[32m━━━━━━━━━━━━━━━━━━━━\u001b[0m\u001b[37m\u001b[0m \u001b[1m2s\u001b[0m 5ms/step - accuracy: 0.9182 - loss: 0.2461 - val_accuracy: 0.9116 - val_loss: 0.2889\n",
      "Epoch 46/50\n",
      "\u001b[1m317/317\u001b[0m \u001b[32m━━━━━━━━━━━━━━━━━━━━\u001b[0m\u001b[37m\u001b[0m \u001b[1m2s\u001b[0m 5ms/step - accuracy: 0.9235 - loss: 0.2309 - val_accuracy: 0.9124 - val_loss: 0.2862\n",
      "Epoch 47/50\n",
      "\u001b[1m317/317\u001b[0m \u001b[32m━━━━━━━━━━━━━━━━━━━━\u001b[0m\u001b[37m\u001b[0m \u001b[1m2s\u001b[0m 5ms/step - accuracy: 0.9191 - loss: 0.2403 - val_accuracy: 0.9093 - val_loss: 0.2980\n",
      "Epoch 48/50\n",
      "\u001b[1m317/317\u001b[0m \u001b[32m━━━━━━━━━━━━━━━━━━━━\u001b[0m\u001b[37m\u001b[0m \u001b[1m1s\u001b[0m 5ms/step - accuracy: 0.9188 - loss: 0.2376 - val_accuracy: 0.9126 - val_loss: 0.2917\n",
      "Epoch 49/50\n",
      "\u001b[1m317/317\u001b[0m \u001b[32m━━━━━━━━━━━━━━━━━━━━\u001b[0m\u001b[37m\u001b[0m \u001b[1m2s\u001b[0m 5ms/step - accuracy: 0.9243 - loss: 0.2291 - val_accuracy: 0.9122 - val_loss: 0.2949\n",
      "Epoch 50/50\n",
      "\u001b[1m317/317\u001b[0m \u001b[32m━━━━━━━━━━━━━━━━━━━━\u001b[0m\u001b[37m\u001b[0m \u001b[1m2s\u001b[0m 5ms/step - accuracy: 0.9206 - loss: 0.2311 - val_accuracy: 0.9124 - val_loss: 0.2919\n"
     ]
    },
    {
     "data": {
      "text/plain": [
       "<keras.src.callbacks.history.History at 0x28b9a61f830>"
      ]
     },
     "execution_count": 7,
     "metadata": {},
     "output_type": "execute_result"
    }
   ],
   "source": [
    "# 학습\n",
    "model.fit(X_train, y_train, validation_data=(X_val, y_val),\n",
    "          epochs=50, batch_size=64, verbose=1)"
   ]
  },
  {
   "cell_type": "code",
   "execution_count": 8,
   "id": "d4e4c5bd",
   "metadata": {},
   "outputs": [
    {
     "name": "stderr",
     "output_type": "stream",
     "text": [
      "WARNING:absl:You are saving your model as an HDF5 file via `model.save()` or `keras.saving.save_model(model)`. This file format is considered legacy. We recommend using instead the native Keras format, e.g. `model.save('my_model.keras')` or `keras.saving.save_model(model, 'my_model.keras')`. \n"
     ]
    },
    {
     "data": {
      "text/plain": [
       "['./model/scaler_gru.joblib']"
      ]
     },
     "execution_count": 8,
     "metadata": {},
     "output_type": "execute_result"
    }
   ],
   "source": [
    "# 저장\n",
    "model.save('./model/gru_model.h5')\n",
    "joblib.dump(scaler, './model/scaler_gru.joblib')"
   ]
  },
  {
   "cell_type": "code",
   "execution_count": 10,
   "id": "06e37d7e",
   "metadata": {},
   "outputs": [
    {
     "name": "stderr",
     "output_type": "stream",
     "text": [
      "WARNING:absl:Compiled the loaded model, but the compiled metrics have yet to be built. `model.compile_metrics` will be empty until you train or evaluate the model.\n"
     ]
    },
    {
     "name": "stdout",
     "output_type": "stream",
     "text": [
      "INFO:tensorflow:Assets written to: C:\\Users\\NGNLAB~1\\AppData\\Local\\Temp\\tmprxbr2rrc\\assets\n"
     ]
    },
    {
     "name": "stderr",
     "output_type": "stream",
     "text": [
      "INFO:tensorflow:Assets written to: C:\\Users\\NGNLAB~1\\AppData\\Local\\Temp\\tmprxbr2rrc\\assets\n"
     ]
    },
    {
     "name": "stdout",
     "output_type": "stream",
     "text": [
      "Saved artifact at 'C:\\Users\\NGNLAB~1\\AppData\\Local\\Temp\\tmprxbr2rrc'. The following endpoints are available:\n",
      "\n",
      "* Endpoint 'serve'\n",
      "  args_0 (POSITIONAL_ONLY): TensorSpec(shape=(None, 8, 8), dtype=tf.float32, name='input_layer')\n",
      "Output Type:\n",
      "  TensorSpec(shape=(None, 1), dtype=tf.float32, name=None)\n",
      "Captures:\n",
      "  2798782196304: TensorSpec(shape=(), dtype=tf.resource, name=None)\n",
      "  2798782192848: TensorSpec(shape=(), dtype=tf.resource, name=None)\n",
      "  2798782195920: TensorSpec(shape=(), dtype=tf.resource, name=None)\n",
      "  2798782195536: TensorSpec(shape=(), dtype=tf.resource, name=None)\n",
      "  2798782197072: TensorSpec(shape=(), dtype=tf.resource, name=None)\n",
      "  2798782196496: TensorSpec(shape=(), dtype=tf.resource, name=None)\n",
      "  2798782198032: TensorSpec(shape=(), dtype=tf.resource, name=None)\n"
     ]
    }
   ],
   "source": [
    "import tensorflow as tf\n",
    "\n",
    "model = tf.keras.models.load_model('./model/gru_model.h5')\n",
    "\n",
    "converter = tf.lite.TFLiteConverter.from_keras_model(model)\n",
    "\n",
    "# 핵심: Select TF ops 허용\n",
    "converter.target_spec.supported_ops = [\n",
    "    tf.lite.OpsSet.TFLITE_BUILTINS,\n",
    "    tf.lite.OpsSet.SELECT_TF_OPS\n",
    "]\n",
    "\n",
    "# TensorList 관련 연산 강제 변환 시도 X\n",
    "converter._experimental_lower_tensor_list_ops = False\n",
    "\n",
    "# (선택) 최적화 옵션\n",
    "# converter.optimizations = [tf.lite.Optimize.DEFAULT]\n",
    "\n",
    "tflite_model = converter.convert()\n",
    "\n",
    "with open(\"./model/gru_model_select_ops.tflite\", \"wb\") as f:\n",
    "    f.write(tflite_model)\n"
   ]
  }
 ],
 "metadata": {
  "kernelspec": {
   "display_name": "powerenv",
   "language": "python",
   "name": "python3"
  },
  "language_info": {
   "codemirror_mode": {
    "name": "ipython",
    "version": 3
   },
   "file_extension": ".py",
   "mimetype": "text/x-python",
   "name": "python",
   "nbconvert_exporter": "python",
   "pygments_lexer": "ipython3",
   "version": "3.12.7"
  }
 },
 "nbformat": 4,
 "nbformat_minor": 5
}
