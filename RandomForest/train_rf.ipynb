{
 "cells": [
  {
   "cell_type": "code",
   "execution_count": 120,
   "id": "f84cc6e2",
   "metadata": {},
   "outputs": [],
   "source": [
    "# 모듈 불러오기\n",
    "import pandas as pd\n",
    "import numpy as np\n",
    "from sklearn.ensemble import RandomForestClassifier\n",
    "from sklearn.preprocessing import StandardScaler\n",
    "from sklearn.metrics import classification_report\n",
    "import joblib\n",
    "import matplotlib.pyplot as plt\n",
    "import time\n",
    "import os"
   ]
  },
  {
   "cell_type": "code",
   "execution_count": 121,
   "id": "5f3133e6",
   "metadata": {},
   "outputs": [],
   "source": [
    "# 데이터 불러오기\n",
    "column_names = ['timestamp', 'v_raw', 'c_raw', 'voltage', 'current', 'label']\n",
    "# df_normal = pd.read_csv('../realtime/raw_dataset_normal_90sec.csv', names=column_names, header=None)\n",
    "# df_arc = pd.read_excel('../dataset/preprocessed/50ohm_아크_train.xlsx')\n",
    "# test_df = pd.read_csv('../realtime/test/test_dataset_rf_ocsvm.csv')\n",
    "test_df = pd.read_csv('../realtime/test_arc/arc_10sec_RC_1.csv')\n",
    "\n",
    "\n",
    "# 컬럼명 통일\n",
    "# df_normal = df_normal.rename(columns={'power_voltage': 'voltage', 'power_current': 'current'})\n",
    "# df_arc = df_arc.rename(columns={'arc_voltage': 'voltage', 'arc_current': 'current'})\n",
    "test_df = test_df.rename(columns={'power_voltage': 'voltage', 'power_current': 'current'})\n",
    "\n",
    "# # 라벨 추가\n",
    "# df_normal['label'] = 0\n",
    "# df_arc['label'] = 1\n",
    "\n",
    "# train_df = pd.concat([df_normal, df_arc], ignore_index=True)"
   ]
  },
  {
   "cell_type": "code",
   "execution_count": 122,
   "id": "009d23aa",
   "metadata": {},
   "outputs": [],
   "source": [
    "# 파생 피처 생성 함수\n",
    "def add_features(voltage_seq, current_seq):\n",
    "    voltage = np.mean(voltage_seq)\n",
    "    current = np.mean(current_seq)\n",
    "    voltage_diff = np.abs(voltage_seq[-1] - voltage_seq[-2])\n",
    "    current_diff = np.abs(current_seq[-1] - current_seq[-2])\n",
    "    voltage_ma = np.mean(voltage_seq[-5:])\n",
    "    current_ma = np.mean(current_seq[-5:])\n",
    "    power = voltage * current\n",
    "    power_diff = np.abs(power - (voltage_seq[-2] * current_seq[-2]))\n",
    "    return [voltage, current, voltage_diff, current_diff, voltage_ma, current_ma, power, power_diff]"
   ]
  },
  {
   "cell_type": "code",
   "execution_count": 123,
   "id": "db239d5c",
   "metadata": {},
   "outputs": [],
   "source": [
    "# 슬라이딩 윈도우로 피처 생성\n",
    "def generate_sequence_features(df, window_size=8):\n",
    "    features = []\n",
    "    labels = []\n",
    "\n",
    "    for i in range(window_size, len(df)):\n",
    "        voltage_seq = df['voltage'].iloc[i - window_size:i].values\n",
    "        current_seq = df['current'].iloc[i - window_size:i].values\n",
    "        feat = add_features(voltage_seq, current_seq)\n",
    "        features.append(feat)\n",
    "        labels.append(df['label'].iloc[i])  # 마지막 인덱스의 라벨 사용\n",
    "\n",
    "    return np.array(features), np.array(labels)"
   ]
  },
  {
   "cell_type": "code",
   "execution_count": 124,
   "id": "75a45e6c",
   "metadata": {},
   "outputs": [],
   "source": [
    "# 모델 및 스케일러 불러오기\n",
    "import joblib\n",
    "\n",
    "model = joblib.load('./model/random_forest_model_R.joblib')\n",
    "scaler = joblib.load('./model/scaler_rf.joblib')\n",
    "\n",
    "# 피처 및 라벨 설정\n",
    "X_test, y_test = generate_sequence_features(test_df)\n",
    "\n",
    "# 정규화\n",
    "X_test_scaled = scaler.transform(X_test)\n",
    "\n",
    "# 모델 예측\n",
    "y_pred = model.predict(X_test_scaled)"
   ]
  },
  {
   "cell_type": "code",
   "execution_count": 125,
   "id": "0c30cff6",
   "metadata": {},
   "outputs": [],
   "source": [
    "# # 피처 및 라벨 설정\n",
    "# # X_train, y_train = generate_sequence_features(train_df)\n",
    "# X_test, y_test = generate_sequence_features(test_df)\n",
    "\n",
    "# # 정규화\n",
    "# scaler = StandardScaler()\n",
    "# # X_train_scaled = scaler.fit_transform(X_train)\n",
    "# X_test_scaled = scaler.transform(X_test)"
   ]
  },
  {
   "cell_type": "code",
   "execution_count": 126,
   "id": "aa4d27bc",
   "metadata": {},
   "outputs": [],
   "source": [
    "# # RandomForest 모델 학습\n",
    "# model = RandomForestClassifier(n_estimators=100, random_state=42)\n",
    "# model.fit(X_train_scaled, y_train)\n",
    "\n",
    "# 모델 저장\n",
    "# joblib.dump(model, './model/random_forest_model.joblib')\n",
    "# joblib.dump(scaler, './model/scaler_rf.joblib')"
   ]
  },
  {
   "cell_type": "code",
   "execution_count": 127,
   "id": "a0e0386c",
   "metadata": {},
   "outputs": [],
   "source": [
    "# # 예측 및 평가\n",
    "# y_pred = model.predict(X_test_scaled)"
   ]
  },
  {
   "cell_type": "code",
   "execution_count": 128,
   "id": "287e1395",
   "metadata": {},
   "outputs": [],
   "source": [
    "def postprocess_anomalies(y_pred_bin, min_consecutive=8):\n",
    "    y_post = np.zeros_like(y_pred_bin)\n",
    "    count = 0\n",
    "    for i, val in enumerate(y_pred_bin):\n",
    "        if val == 1:\n",
    "            count += 1\n",
    "        else:\n",
    "            if count >= min_consecutive:\n",
    "                y_post[i - count:i] = 1\n",
    "            count = 0\n",
    "    if count >= min_consecutive:\n",
    "        y_post[len(y_pred_bin)-count:] = 1\n",
    "    return y_post\n",
    "\n",
    "y_pred_post = postprocess_anomalies(y_pred, min_consecutive=8)\n",
    "y_true_post = postprocess_anomalies(y_test, min_consecutive=8)"
   ]
  },
  {
   "cell_type": "code",
   "execution_count": 129,
   "id": "ef06345e",
   "metadata": {},
   "outputs": [
    {
     "name": "stdout",
     "output_type": "stream",
     "text": [
      "📋 (후처리 적용) 분류 리포트:\n",
      "\n",
      "              precision    recall  f1-score   support\n",
      "\n",
      "          정상       0.00      0.00      0.00       0.0\n",
      "          아크       0.00      0.00      0.00     592.0\n",
      "\n",
      "    accuracy                           0.00     592.0\n",
      "   macro avg       0.00      0.00      0.00     592.0\n",
      "weighted avg       0.00      0.00      0.00     592.0\n",
      "\n"
     ]
    },
    {
     "name": "stderr",
     "output_type": "stream",
     "text": [
      "/opt/homebrew/anaconda3/envs/arcenv/lib/python3.9/site-packages/sklearn/metrics/_classification.py:1565: UndefinedMetricWarning: Precision is ill-defined and being set to 0.0 in labels with no predicted samples. Use `zero_division` parameter to control this behavior.\n",
      "  _warn_prf(average, modifier, f\"{metric.capitalize()} is\", len(result))\n",
      "/opt/homebrew/anaconda3/envs/arcenv/lib/python3.9/site-packages/sklearn/metrics/_classification.py:1565: UndefinedMetricWarning: Recall is ill-defined and being set to 0.0 in labels with no true samples. Use `zero_division` parameter to control this behavior.\n",
      "  _warn_prf(average, modifier, f\"{metric.capitalize()} is\", len(result))\n",
      "/opt/homebrew/anaconda3/envs/arcenv/lib/python3.9/site-packages/sklearn/metrics/_classification.py:1565: UndefinedMetricWarning: Precision is ill-defined and being set to 0.0 in labels with no predicted samples. Use `zero_division` parameter to control this behavior.\n",
      "  _warn_prf(average, modifier, f\"{metric.capitalize()} is\", len(result))\n",
      "/opt/homebrew/anaconda3/envs/arcenv/lib/python3.9/site-packages/sklearn/metrics/_classification.py:1565: UndefinedMetricWarning: Recall is ill-defined and being set to 0.0 in labels with no true samples. Use `zero_division` parameter to control this behavior.\n",
      "  _warn_prf(average, modifier, f\"{metric.capitalize()} is\", len(result))\n",
      "/opt/homebrew/anaconda3/envs/arcenv/lib/python3.9/site-packages/sklearn/metrics/_classification.py:1565: UndefinedMetricWarning: Precision is ill-defined and being set to 0.0 in labels with no predicted samples. Use `zero_division` parameter to control this behavior.\n",
      "  _warn_prf(average, modifier, f\"{metric.capitalize()} is\", len(result))\n",
      "/opt/homebrew/anaconda3/envs/arcenv/lib/python3.9/site-packages/sklearn/metrics/_classification.py:1565: UndefinedMetricWarning: Recall is ill-defined and being set to 0.0 in labels with no true samples. Use `zero_division` parameter to control this behavior.\n",
      "  _warn_prf(average, modifier, f\"{metric.capitalize()} is\", len(result))\n"
     ]
    }
   ],
   "source": [
    "print(\"📋 (후처리 적용) 분류 리포트:\\n\")\n",
    "print(classification_report(y_true_post, y_pred_post, target_names=['정상', '아크']))"
   ]
  },
  {
   "cell_type": "code",
   "execution_count": 130,
   "id": "a68230f9",
   "metadata": {},
   "outputs": [],
   "source": [
    "def calculate_detection_delay(y_pred_bin, label, sampling_interval=0.0001):\n",
    "    arc_start = np.where(label == 1)[0][0] # 아크의 시작 인덱스 찾기\n",
    "    detected = np.where(y_pred_bin[arc_start:] == 1)[0] # 예측 값에서 아크를 처음 발견한 인덱스 찾기\n",
    "    if len(detected) == 0:\n",
    "        print(\"⚠️ 아크를 탐지하지 못했습니다.\")\n",
    "        return None\n",
    "    detect_index = detected[0] + arc_start\n",
    "    delay = detect_index - arc_start\n",
    "    time_detected = detect_index * sampling_interval\n",
    "    print(f\"✅ 아크 시작 인덱스: {arc_start}\")\n",
    "    print(f\"✅ 모델 이상 감지 인덱스: {detect_index}\")\n",
    "    print(f\"⏱️ 감지 지연 시간: {delay} 샘플\")\n",
    "    print(f\"⏱️ 감지된 시점 (초): {time_detected:.6f} 초\")\n",
    "    return arc_start, detect_index, delay\n",
    "\n",
    "# arc_start, detect_index, delay = calculate_detection_delay(y_pred_post, y_true_post)\n"
   ]
  },
  {
   "cell_type": "code",
   "execution_count": 131,
   "id": "48f0cdac",
   "metadata": {},
   "outputs": [
    {
     "name": "stdout",
     "output_type": "stream",
     "text": [
      "⏱️ 전체 예측 소요 시간: 0.0078950830초\n",
      "⚠️ 후처리된 이상 탐지 결과가 없습니다.\n"
     ]
    }
   ],
   "source": [
    "import time\n",
    "\n",
    "# 전체 예측 시간\n",
    "start_total = time.perf_counter()\n",
    "y_pred = model.predict(X_test_scaled)\n",
    "elapsed_total = time.perf_counter() - start_total\n",
    "print(f\"⏱️ 전체 예측 소요 시간: {elapsed_total:.10f}초\")\n",
    "\n",
    "# 후처리 + 첫 이상 감지까지 시간\n",
    "start_first = time.perf_counter()\n",
    "y_pred_post = postprocess_anomalies(y_pred, min_consecutive=8)\n",
    "first_index = np.where(y_pred_post == 1)[0]\n",
    "elapsed_first = time.perf_counter() - start_first\n",
    "\n",
    "if len(first_index) > 0:\n",
    "    print(f\"🟡 첫 번째 이상 탐지 인덱스: {first_index[0]}\")\n",
    "    print(f\"⏱️ 첫 이상 탐지까지 걸린 시간: {elapsed_first:.10f}초\")\n",
    "else:\n",
    "    print(\"⚠️ 후처리된 이상 탐지 결과가 없습니다.\")\n"
   ]
  },
  {
   "cell_type": "code",
   "execution_count": 132,
   "id": "7d7b04ba",
   "metadata": {},
   "outputs": [
    {
     "name": "stdout",
     "output_type": "stream",
     "text": [
      "🔍 예측 전 시스템 상태:\n",
      "🧠 메모리 사용량: 629.27 MB\n",
      "🧮 CPU 사용률: 0.40%\n",
      "🔍 예측 후 시스템 상태:\n",
      "🧠 메모리 사용량: 629.27 MB\n",
      "🧮 CPU 사용률: 0.10%\n",
      "⏱️ 전체 예측 소요 시간: 0.0082833340초\n"
     ]
    }
   ],
   "source": [
    "# 모듈 임포트\n",
    "import psutil\n",
    "import os\n",
    "\n",
    "# 리소스 사용량 출력 함수\n",
    "def print_resource_usage():\n",
    "    process = psutil.Process(os.getpid())\n",
    "    mem_info = process.memory_info()\n",
    "    cpu_percent = process.cpu_percent(interval=1.0)\n",
    "    print(f\"🧠 메모리 사용량: {mem_info.rss / 1024 ** 2:.2f} MB\")\n",
    "    print(f\"🧮 CPU 사용률: {cpu_percent:.2f}%\")\n",
    "\n",
    "\n",
    "# 전체 예측 시간 측정 + 시스템 리소스 출력\n",
    "print(\"🔍 예측 전 시스템 상태:\")\n",
    "print_resource_usage()\n",
    "\n",
    "start_total = time.perf_counter()\n",
    "y_pred = model.predict(X_test_scaled)\n",
    "elapsed_total = time.perf_counter() - start_total\n",
    "\n",
    "print(\"🔍 예측 후 시스템 상태:\")\n",
    "print_resource_usage()\n",
    "\n",
    "print(f\"⏱️ 전체 예측 소요 시간: {elapsed_total:.10f}초\")\n",
    "\n"
   ]
  },
  {
   "cell_type": "markdown",
   "id": "01b00bd4",
   "metadata": {},
   "source": [
    "---\n",
    "# 시각화 자료"
   ]
  },
  {
   "cell_type": "code",
   "execution_count": 133,
   "id": "c1520828",
   "metadata": {},
   "outputs": [],
   "source": [
    "import matplotlib.pyplot as plt\n",
    "import matplotlib as mpl\n",
    "\n",
    "# 한글 폰트 설정 (예: 맑은 고딕)\n",
    "plt.rcParams['font.family'] = 'Malgun Gothic'  # Windows 사용자\n",
    "# plt.rcParams['font.family'] = 'AppleGothic'   # macOS 사용자\n",
    "# plt.rcParams['font.family'] = 'NanumGothic'   # Linux 사용자 (Nanum 폰트 설치 필요)\n",
    "\n",
    "# 마이너스 부호 깨짐 방지\n",
    "mpl.rcParams['axes.unicode_minus'] = False"
   ]
  },
  {
   "cell_type": "code",
   "execution_count": 134,
   "id": "2fa84b91",
   "metadata": {},
   "outputs": [
    {
     "ename": "NameError",
     "evalue": "name 'arc_start' is not defined",
     "output_type": "error",
     "traceback": [
      "\u001b[0;31m---------------------------------------------------------------------------\u001b[0m",
      "\u001b[0;31mNameError\u001b[0m                                 Traceback (most recent call last)",
      "Cell \u001b[0;32mIn[134], line 18\u001b[0m\n\u001b[1;32m     15\u001b[0m     plt\u001b[38;5;241m.\u001b[39mtight_layout()\n\u001b[1;32m     16\u001b[0m     plt\u001b[38;5;241m.\u001b[39mshow()\n\u001b[0;32m---> 18\u001b[0m plot_predictions(y_pred_post, \u001b[43marc_start\u001b[49m, detect_index)\n",
      "\u001b[0;31mNameError\u001b[0m: name 'arc_start' is not defined"
     ]
    }
   ],
   "source": [
    "def plot_predictions(y_pred_bin, arc_start=None, detect_index=None):\n",
    "    plt.figure(figsize=(15, 4))\n",
    "    plt.plot(y_pred_bin, label='예측 이상 (1=이상)', color='red', linewidth=1)\n",
    "\n",
    "    if arc_start is not None:\n",
    "        plt.axvline(x=arc_start, color='blue', linestyle='--', label='실제 아크 시작')\n",
    "    if detect_index is not None:\n",
    "        plt.axvline(x=detect_index, color='green', linestyle='--', label='감지된 시점')\n",
    "\n",
    "    plt.title(\"Random Forest 이상 탐지 결과\")\n",
    "    plt.xlabel(\"샘플 인덱스\")\n",
    "    plt.ylabel(\"예측값\")\n",
    "    plt.legend()\n",
    "    plt.grid(True)\n",
    "    plt.tight_layout()\n",
    "    plt.show()\n",
    "\n",
    "plot_predictions(y_pred_post, arc_start, detect_index)"
   ]
  },
  {
   "cell_type": "code",
   "execution_count": null,
   "id": "a7fbb2fd",
   "metadata": {},
   "outputs": [],
   "source": [
    "def plot_current_waveform(test_df):\n",
    "    plt.figure(figsize=(15, 4))\n",
    "    plt.plot(test_df['current'], label='전류 파형', alpha=0.7)\n",
    "    plt.title(\"전체 전류 파형\")\n",
    "    plt.xlabel(\"샘플 인덱스\")\n",
    "    plt.ylabel(\"전류 (A)\")\n",
    "    plt.grid(True)\n",
    "    plt.tight_layout()\n",
    "    plt.legend()\n",
    "    plt.show()\n",
    "\n",
    "plot_current_waveform(test_df)"
   ]
  },
  {
   "cell_type": "code",
   "execution_count": null,
   "id": "e0509bec",
   "metadata": {},
   "outputs": [],
   "source": [
    "def compare_postprocessing(y_pred_bin, y_pred_post, title=\"후처리 전후 비교\"):\n",
    "    plt.figure(figsize=(15, 4))\n",
    "    plt.plot(y_pred_bin, label='후처리 전', color='orange', alpha=0.6)\n",
    "    plt.plot(y_pred_post, label='후처리 후', color='green', alpha=0.6)\n",
    "    plt.title(title)\n",
    "    plt.xlabel(\"샘플 인덱스\")\n",
    "    plt.ylabel(\"이상 탐지 결과\")\n",
    "    plt.legend()\n",
    "    plt.grid(True)\n",
    "    plt.tight_layout()\n",
    "    plt.show()\n",
    "\n",
    "compare_postprocessing(y_pred, y_pred_post)\n",
    "\n",
    "\n"
   ]
  },
  {
   "cell_type": "code",
   "execution_count": null,
   "id": "4468be6b",
   "metadata": {},
   "outputs": [],
   "source": [
    "def compare_prediction_vs_label(y_true, y_pred_post):\n",
    "    plt.figure(figsize=(15, 4))\n",
    "    plt.plot(y_true, label='실제 라벨', alpha=0.5)\n",
    "    plt.plot(y_pred_post, label='모델 예측', alpha=0.7)\n",
    "    plt.title(\"실제 라벨 vs 모델 예측 비교\")\n",
    "    plt.xlabel(\"샘플 인덱스\")\n",
    "    plt.ylabel(\"값 (0=정상, 1=아크)\")\n",
    "    plt.legend()\n",
    "    plt.grid(True)\n",
    "    plt.tight_layout()\n",
    "    plt.show()\n",
    "\n",
    "compare_prediction_vs_label(y_true_post, y_pred_post)\n",
    "\n",
    "# # 차이점 위치 찾기\n",
    "# mismatch_indices = np.where(y_true_post != y_pred_post)[0]\n",
    "# print(\"불일치 인덱스:\", mismatch_indices)\n",
    "# print(\"불일치 개수:\", len(mismatch_indices))"
   ]
  }
 ],
 "metadata": {
  "kernelspec": {
   "display_name": "arcenv",
   "language": "python",
   "name": "python3"
  },
  "language_info": {
   "codemirror_mode": {
    "name": "ipython",
    "version": 3
   },
   "file_extension": ".py",
   "mimetype": "text/x-python",
   "name": "python",
   "nbconvert_exporter": "python",
   "pygments_lexer": "ipython3",
   "version": "3.9.21"
  }
 },
 "nbformat": 4,
 "nbformat_minor": 5
}
