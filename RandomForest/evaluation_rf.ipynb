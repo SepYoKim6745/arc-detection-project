{
 "cells": [
  {
   "cell_type": "code",
   "execution_count": 65,
   "id": "a6015982",
   "metadata": {},
   "outputs": [],
   "source": [
    "# 모듈 임포트\n",
    "import pandas as pd\n",
    "import numpy as np\n",
    "from sklearn.preprocessing import StandardScaler\n",
    "from sklearn.metrics import classification_report\n",
    "import joblib\n",
    "import os"
   ]
  },
  {
   "cell_type": "code",
   "execution_count": 66,
   "id": "c10ef9e7",
   "metadata": {},
   "outputs": [],
   "source": [
    "# 피처 엔지니어링 함수 정의\n",
    "def add_features(df):\n",
    "    df['voltage_diff'] = df['voltage'].diff().fillna(0).abs()\n",
    "    df['current_diff'] = df['current'].diff().fillna(0).abs()\n",
    "    df['voltage_ma'] = df['voltage'].rolling(5).mean().bfill()\n",
    "    df['current_ma'] = df['current'].rolling(5).mean().bfill()\n",
    "    df['power'] = df['voltage'] * df['current']\n",
    "    df['power_diff'] = df['power'].diff().fillna(0).abs()\n",
    "    return df"
   ]
  },
  {
   "cell_type": "code",
   "execution_count": 67,
   "id": "a32f596f",
   "metadata": {},
   "outputs": [],
   "source": [
    "# 피처 목록 정의\n",
    "features = ['voltage', 'current', 'voltage_diff', 'current_diff',\n",
    "            'voltage_ma', 'current_ma', 'power', 'power_diff']"
   ]
  },
  {
   "cell_type": "code",
   "execution_count": null,
   "id": "46bcc15d",
   "metadata": {},
   "outputs": [],
   "source": [
    "# 테스트셋 로드\n",
    "test_path = '../realtime/test/1.csv'  # ← 파일 경로 확인 필요\n",
    "test_df = pd.read_csv(test_path)\n",
    "\n",
    "# 전처리\n",
    "test_df = add_features(test_df).dropna()\n",
    "\n",
    "X_test = test_df[features].values\n",
    "y_test = test_df['label'].astype(int).values"
   ]
  },
  {
   "cell_type": "code",
   "execution_count": 69,
   "id": "4f128b9e",
   "metadata": {},
   "outputs": [],
   "source": [
    "# 모델 및 스케일러 로드\n",
    "model = joblib.load('./model/random_forest_model.joblib')\n",
    "scaler = joblib.load('./model/scaler.joblib')\n",
    "\n",
    "X_test_scaled = scaler.transform(X_test)"
   ]
  },
  {
   "cell_type": "code",
   "execution_count": 70,
   "id": "cfd10366",
   "metadata": {},
   "outputs": [
    {
     "name": "stdout",
     "output_type": "stream",
     "text": [
      "📊 Classification Report (Random Forest)\n",
      "              precision    recall  f1-score   support\n",
      "\n",
      "           0     0.9994    0.9863    0.9928     27000\n",
      "           1     0.0391    0.5000    0.0725        30\n",
      "\n",
      "    accuracy                         0.9858     27030\n",
      "   macro avg     0.5192    0.7432    0.5327     27030\n",
      "weighted avg     0.9984    0.9858    0.9918     27030\n",
      "\n"
     ]
    }
   ],
   "source": [
    "# 예측 및 성능 평가\n",
    "y_pred = model.predict(X_test_scaled)\n",
    "\n",
    "print(\"📊 Classification Report (Random Forest)\")\n",
    "print(classification_report(y_test, y_pred, digits=4))"
   ]
  },
  {
   "cell_type": "code",
   "execution_count": null,
   "id": "0c2739c0",
   "metadata": {},
   "outputs": [],
   "source": []
  }
 ],
 "metadata": {
  "language_info": {
   "name": "python"
  }
 },
 "nbformat": 4,
 "nbformat_minor": 5
}
