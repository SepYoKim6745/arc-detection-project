{
 "cells": [
  {
   "cell_type": "code",
   "execution_count": null,
   "id": "33d66857",
   "metadata": {},
   "outputs": [],
   "source": [
    "# 모듈 불러오기\n",
    "import time\n",
    "import board\n",
    "import busio\n",
    "import adafruit_ads1x15.ads1115 as ADS\n",
    "from adafruit_ads1x15.analog_in import AnalogIn\n",
    "import pandas as pd\n",
    "import numpy as np\n",
    "import joblib\n",
    "from sklearn.ensemble import RandomForestClassifier\n",
    "from sklearn.preprocessing import StandardScaler\n",
    "from datetime import datetime\n",
    "import os\n",
    "import sys\n",
    "\n",
    "# 알림음 (비프음) 설정\n",
    "import os\n",
    "def play_beep():\n",
    "    os.system('aplay /usr/share/sounds/alsa/Front_Center.wav &')  # 또는 beep 명령어"
   ]
  },
  {
   "cell_type": "code",
   "execution_count": null,
   "id": "f7c0bffe",
   "metadata": {},
   "outputs": [],
   "source": [
    "i2c = busio.I2C(board.SCL, board.SDA)\n",
    "ads = ADS.ADS1115(i2c)\n",
    "ads.gain = 1\n",
    "\n",
    "voltage_ch = AnalogIn(ads, ADS.P0)\n",
    "current_ch = AnalogIn(ads, ADS.P1)"
   ]
  },
  {
   "cell_type": "code",
   "execution_count": null,
   "id": "3a074445",
   "metadata": {},
   "outputs": [],
   "source": [
    "# 보정 파라미터 \n",
    "ZMPT_offset = 1.65  # 중심값 (ZMPT101B 기준)\n",
    "ZMPT_scale = 57.14  # 1.65V → 약 220V일 때, 실험해서 보정 필요\n",
    "\n",
    "ACS712_offset = 2.5      # 0A일 때 기준 전압\n",
    "ACS712_sensitivity = 0.1 # 20A 버전: 100mV/A"
   ]
  },
  {
   "cell_type": "code",
   "execution_count": null,
   "id": "44121f60",
   "metadata": {},
   "outputs": [],
   "source": [
    "# 모델 로딩\n",
    "model = joblib.load('./model/random_forest_model.joblib')\n",
    "scaler = joblib.load('./model/scaler_rf.joblib')"
   ]
  },
  {
   "cell_type": "code",
   "execution_count": null,
   "id": "432b7ff2",
   "metadata": {},
   "outputs": [],
   "source": [
    "# 후처리 함수\n",
    "def postprocess_anomalies(y_bin, min_consecutive=8):\n",
    "    y_post = np.zeros_like(y_bin)\n",
    "    count = 0\n",
    "    for i, val in enumerate(y_bin):\n",
    "        if val == 1:\n",
    "            count += 1\n",
    "        else:\n",
    "            if count >= min_consecutive:\n",
    "                y_post[i - count:i] = 1\n",
    "            count = 0\n",
    "    if count >= min_consecutive:\n",
    "        y_post[len(y_bin)-count:] = 1\n",
    "    return y_post"
   ]
  },
  {
   "cell_type": "code",
   "execution_count": null,
   "id": "319721fb",
   "metadata": {},
   "outputs": [],
   "source": [
    "# 파생 피처 함수 정의\n",
    "def add_features(df):\n",
    "    df['voltage_diff'] = df['voltage'].diff().fillna(0).abs()\n",
    "    df['current_diff'] = df['current'].diff().fillna(0).abs()\n",
    "    df['voltage_ma'] = df['voltage'].rolling(5).mean().bfill()\n",
    "    df['current_ma'] = df['current'].rolling(5).mean().bfill()\n",
    "    df['power'] = df['voltage'] * df['current']\n",
    "    df['power_diff'] = df['power'].diff().fillna(0).abs()\n",
    "    return df"
   ]
  },
  {
   "cell_type": "code",
   "execution_count": null,
   "id": "242a01b3",
   "metadata": {},
   "outputs": [],
   "source": [
    "# 센서 데이터 읽기 함수\n",
    "def read_sensor_data():\n",
    "    v_raw = voltage_ch.voltage\n",
    "    c_raw = current_ch.voltage\n",
    "\n",
    "    voltage = (v_raw - ZMPT_offset) * ZMPT_scale\n",
    "    current = (c_raw - ACS712_offset) / ACS712_sensitivity\n",
    "\n",
    "    return voltage, current"
   ]
  },
  {
   "cell_type": "code",
   "execution_count": null,
   "id": "7d8d411f",
   "metadata": {},
   "outputs": [],
   "source": [
    "# 실시간 예측\n",
    "\n",
    "buffer = []\n",
    "log_list = []\n",
    "\n",
    "print(\"🔁 실시간 아크 감지 시작\")\n",
    "\n",
    "try:\n",
    "    while True:\n",
    "        voltage, current = read_sensor_data()\n",
    "        timestamp = datetime.now().strftime('%H:%M:%S.%f')[:-3]\n",
    "        buffer.append({'voltage': voltage, 'current': current, 'time': timestamp})\n",
    "\n",
    "        if len(buffer) >= 50:\n",
    "            df = pd.DataFrame(buffer[-50:])\n",
    "            df = add_features(df)\n",
    "            X = df[['voltage', 'current', 'voltage_diff', 'current_diff',\n",
    "                    'voltage_ma', 'current_ma', 'power', 'power_diff']].fillna(0).values\n",
    "            X_scaled = scaler.transform(X)\n",
    "            y_pred = model.predict(X_scaled)\n",
    "            y_post = postprocess_anomalies(y_pred)\n",
    "\n",
    "            if y_post[-1] == 1:\n",
    "                print(f\"⚠️ 아크 감지됨! ⏱️ {timestamp}\")\n",
    "                log = {'time': timestamp, 'voltage': voltage, 'current': current, 'prediction': 1}\n",
    "                log_list.append(log)\n",
    "                play_beep()\n",
    "                time.sleep(30) # 아크 발견시 멈추기\n",
    "\n",
    "        time.sleep(0.0001)\n",
    "\n",
    "except KeyboardInterrupt:\n",
    "    print(\"🛑 종료되었습니다.\")\n",
    "    if log_list:\n",
    "        log_df = pd.DataFrame(log_list)\n",
    "        log_df.to_csv('arc_log.csv', index=False)\n",
    "        print(\"✅ arc_log.csv 파일로 저장 완료\")\n",
    "    else:\n",
    "        print(\"ℹ️ 감지된 아크 없음.\")"
   ]
  },
  {
   "cell_type": "code",
   "execution_count": null,
   "id": "163de052",
   "metadata": {},
   "outputs": [],
   "source": []
  }
 ],
 "metadata": {
  "kernelspec": {
   "display_name": "powerenv",
   "language": "python",
   "name": "python3"
  },
  "language_info": {
   "codemirror_mode": {
    "name": "ipython",
    "version": 3
   },
   "file_extension": ".py",
   "mimetype": "text/x-python",
   "name": "python",
   "nbconvert_exporter": "python",
   "pygments_lexer": "ipython3",
   "version": "3.11.2"
  }
 },
 "nbformat": 4,
 "nbformat_minor": 5
}
