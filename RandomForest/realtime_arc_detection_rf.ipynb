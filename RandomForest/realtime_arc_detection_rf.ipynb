{
 "cells": [
  {
   "cell_type": "code",
   "execution_count": 1,
   "id": "33d66857",
   "metadata": {},
   "outputs": [],
   "source": [
    "# 모듈 임포트\n",
    "import time\n",
    "import board\n",
    "import busio\n",
    "import adafruit_ads1x15.ads1115 as ADS\n",
    "from adafruit_ads1x15.analog_in import AnalogIn\n",
    "import joblib\n",
    "import numpy as np\n",
    "import psutil\n",
    "import pandas as pd\n",
    "from sklearn.preprocessing import StandardScaler\n",
    "import csv\n",
    "from datetime import datetime"
   ]
  },
  {
   "cell_type": "code",
   "execution_count": 2,
   "id": "163de052",
   "metadata": {},
   "outputs": [],
   "source": [
    "# 모델 및 스케일러 로드\n",
    "model = joblib.load('./model/random_forest_model.joblib')  # ← 변경된 모델 파일\n",
    "scaler = joblib.load('./model/scaler_rf.joblib')\n"
   ]
  },
  {
   "cell_type": "code",
   "execution_count": 3,
   "id": "8b3d3d28",
   "metadata": {},
   "outputs": [],
   "source": [
    "# I2C 및 ADC 설정\n",
    "i2c = busio.I2C(board.SCL, board.SDA)\n",
    "ads = ADS.ADS1115(i2c) # (아날로그 → 디지털 변환기) 객체\n",
    "ads.gain = 1 # 증폭 배율 설정\n",
    "\n",
    "# ADS1115 채널 선택\n",
    "voltage_ch = AnalogIn(ads, ADS.P0)\n",
    "current_ch = AnalogIn(ads, ADS.P1)"
   ]
  },
  {
   "cell_type": "code",
   "execution_count": 4,
   "id": "61bca31e",
   "metadata": {},
   "outputs": [],
   "source": [
    "# 센서 보정값\n",
    "ZMPT_offset = 2.5539\n",
    "ZMPT_scale = 997.6\n",
    "\n",
    "ACS712_offset = 2.5087\n",
    "ACS712_sensitivity = 0.0990"
   ]
  },
  {
   "cell_type": "code",
   "execution_count": 5,
   "id": "ee5ecad8",
   "metadata": {},
   "outputs": [],
   "source": [
    "# 파생 피처 생성 함수\n",
    "def add_features(voltage_seq, current_seq):\n",
    "    voltage = np.mean(voltage_seq)\n",
    "    current = np.mean(current_seq)\n",
    "    voltage_diff = np.abs(voltage_seq[-1] - voltage_seq[-2])\n",
    "    current_diff = np.abs(current_seq[-1] - current_seq[-2])\n",
    "    voltage_ma = np.mean(voltage_seq[-5:])\n",
    "    current_ma = np.mean(current_seq[-5:])\n",
    "    power = voltage * current\n",
    "    power_diff = np.abs(power - (voltage_seq[-2] * current_seq[-2]))\n",
    "    return [voltage, current, voltage_diff, current_diff, voltage_ma, current_ma, power, power_diff]"
   ]
  },
  {
   "cell_type": "code",
   "execution_count": 6,
   "id": "88553b84",
   "metadata": {},
   "outputs": [],
   "source": [
    "def postprocess_anomalies_realtime(anomaly_buffer, min_consecutive=8):\n",
    "    if len(anomaly_buffer) < min_consecutive:\n",
    "        return False\n",
    "    \n",
    "    # 정확히 연속된 1이 min_consecutive 이상인지 확인\n",
    "    count = 0\n",
    "    for val in reversed(anomaly_buffer): # 최근 값부터 역순으로 확인\n",
    "        if val == 1:\n",
    "            count += 1\n",
    "        else:\n",
    "            break\n",
    "    \n",
    "    return count >= min_consecutive"
   ]
  },
  {
   "cell_type": "code",
   "execution_count": 7,
   "id": "8a55dbbc",
   "metadata": {},
   "outputs": [
    {
     "ename": "FileNotFoundError",
     "evalue": "[Errno 2] No such file or directory: './log/raw_dataset_arc.csv'",
     "output_type": "error",
     "traceback": [
      "\u001b[31m---------------------------------------------------------------------------\u001b[39m",
      "\u001b[31mFileNotFoundError\u001b[39m                         Traceback (most recent call last)",
      "\u001b[36mCell\u001b[39m\u001b[36m \u001b[39m\u001b[32mIn[7]\u001b[39m\u001b[32m, line 3\u001b[39m\n\u001b[32m      1\u001b[39m \u001b[38;5;66;03m# 테스트 데이터 불러오기 (센서 대체용 - 사용 안 할 경우 생략 가능)\u001b[39;00m\n\u001b[32m      2\u001b[39m column_names = [\u001b[33m'\u001b[39m\u001b[33mtimestamp\u001b[39m\u001b[33m'\u001b[39m, \u001b[33m'\u001b[39m\u001b[33mv_raw\u001b[39m\u001b[33m'\u001b[39m, \u001b[33m'\u001b[39m\u001b[33mc_raw\u001b[39m\u001b[33m'\u001b[39m, \u001b[33m'\u001b[39m\u001b[33mvoltage\u001b[39m\u001b[33m'\u001b[39m, \u001b[33m'\u001b[39m\u001b[33mcurrent\u001b[39m\u001b[33m'\u001b[39m]\n\u001b[32m----> \u001b[39m\u001b[32m3\u001b[39m df = \u001b[43mpd\u001b[49m\u001b[43m.\u001b[49m\u001b[43mread_csv\u001b[49m\u001b[43m(\u001b[49m\u001b[33;43m'\u001b[39;49m\u001b[33;43m./log/raw_dataset_arc.csv\u001b[39;49m\u001b[33;43m'\u001b[39;49m\u001b[43m,\u001b[49m\u001b[43m \u001b[49m\u001b[43mnames\u001b[49m\u001b[43m=\u001b[49m\u001b[43mcolumn_names\u001b[49m\u001b[43m,\u001b[49m\u001b[43m \u001b[49m\u001b[43mheader\u001b[49m\u001b[43m=\u001b[49m\u001b[38;5;28;43;01mNone\u001b[39;49;00m\u001b[43m)\u001b[49m\n\u001b[32m      4\u001b[39m df = df.dropna(subset=[\u001b[33m'\u001b[39m\u001b[33mvoltage\u001b[39m\u001b[33m'\u001b[39m, \u001b[33m'\u001b[39m\u001b[33mcurrent\u001b[39m\u001b[33m'\u001b[39m]).reset_index(drop=\u001b[38;5;28;01mTrue\u001b[39;00m)\n\u001b[32m      5\u001b[39m csv_filename = \u001b[33m\"\u001b[39m\u001b[33m./log/rf_log1.csv\u001b[39m\u001b[33m\"\u001b[39m\n",
      "\u001b[36mFile \u001b[39m\u001b[32m~/powerenv/lib/python3.11/site-packages/pandas/io/parsers/readers.py:1026\u001b[39m, in \u001b[36mread_csv\u001b[39m\u001b[34m(filepath_or_buffer, sep, delimiter, header, names, index_col, usecols, dtype, engine, converters, true_values, false_values, skipinitialspace, skiprows, skipfooter, nrows, na_values, keep_default_na, na_filter, verbose, skip_blank_lines, parse_dates, infer_datetime_format, keep_date_col, date_parser, date_format, dayfirst, cache_dates, iterator, chunksize, compression, thousands, decimal, lineterminator, quotechar, quoting, doublequote, escapechar, comment, encoding, encoding_errors, dialect, on_bad_lines, delim_whitespace, low_memory, memory_map, float_precision, storage_options, dtype_backend)\u001b[39m\n\u001b[32m   1013\u001b[39m kwds_defaults = _refine_defaults_read(\n\u001b[32m   1014\u001b[39m     dialect,\n\u001b[32m   1015\u001b[39m     delimiter,\n\u001b[32m   (...)\u001b[39m\u001b[32m   1022\u001b[39m     dtype_backend=dtype_backend,\n\u001b[32m   1023\u001b[39m )\n\u001b[32m   1024\u001b[39m kwds.update(kwds_defaults)\n\u001b[32m-> \u001b[39m\u001b[32m1026\u001b[39m \u001b[38;5;28;01mreturn\u001b[39;00m \u001b[43m_read\u001b[49m\u001b[43m(\u001b[49m\u001b[43mfilepath_or_buffer\u001b[49m\u001b[43m,\u001b[49m\u001b[43m \u001b[49m\u001b[43mkwds\u001b[49m\u001b[43m)\u001b[49m\n",
      "\u001b[36mFile \u001b[39m\u001b[32m~/powerenv/lib/python3.11/site-packages/pandas/io/parsers/readers.py:620\u001b[39m, in \u001b[36m_read\u001b[39m\u001b[34m(filepath_or_buffer, kwds)\u001b[39m\n\u001b[32m    617\u001b[39m _validate_names(kwds.get(\u001b[33m\"\u001b[39m\u001b[33mnames\u001b[39m\u001b[33m\"\u001b[39m, \u001b[38;5;28;01mNone\u001b[39;00m))\n\u001b[32m    619\u001b[39m \u001b[38;5;66;03m# Create the parser.\u001b[39;00m\n\u001b[32m--> \u001b[39m\u001b[32m620\u001b[39m parser = \u001b[43mTextFileReader\u001b[49m\u001b[43m(\u001b[49m\u001b[43mfilepath_or_buffer\u001b[49m\u001b[43m,\u001b[49m\u001b[43m \u001b[49m\u001b[43m*\u001b[49m\u001b[43m*\u001b[49m\u001b[43mkwds\u001b[49m\u001b[43m)\u001b[49m\n\u001b[32m    622\u001b[39m \u001b[38;5;28;01mif\u001b[39;00m chunksize \u001b[38;5;129;01mor\u001b[39;00m iterator:\n\u001b[32m    623\u001b[39m     \u001b[38;5;28;01mreturn\u001b[39;00m parser\n",
      "\u001b[36mFile \u001b[39m\u001b[32m~/powerenv/lib/python3.11/site-packages/pandas/io/parsers/readers.py:1620\u001b[39m, in \u001b[36mTextFileReader.__init__\u001b[39m\u001b[34m(self, f, engine, **kwds)\u001b[39m\n\u001b[32m   1617\u001b[39m     \u001b[38;5;28mself\u001b[39m.options[\u001b[33m\"\u001b[39m\u001b[33mhas_index_names\u001b[39m\u001b[33m\"\u001b[39m] = kwds[\u001b[33m\"\u001b[39m\u001b[33mhas_index_names\u001b[39m\u001b[33m\"\u001b[39m]\n\u001b[32m   1619\u001b[39m \u001b[38;5;28mself\u001b[39m.handles: IOHandles | \u001b[38;5;28;01mNone\u001b[39;00m = \u001b[38;5;28;01mNone\u001b[39;00m\n\u001b[32m-> \u001b[39m\u001b[32m1620\u001b[39m \u001b[38;5;28mself\u001b[39m._engine = \u001b[38;5;28;43mself\u001b[39;49m\u001b[43m.\u001b[49m\u001b[43m_make_engine\u001b[49m\u001b[43m(\u001b[49m\u001b[43mf\u001b[49m\u001b[43m,\u001b[49m\u001b[43m \u001b[49m\u001b[38;5;28;43mself\u001b[39;49m\u001b[43m.\u001b[49m\u001b[43mengine\u001b[49m\u001b[43m)\u001b[49m\n",
      "\u001b[36mFile \u001b[39m\u001b[32m~/powerenv/lib/python3.11/site-packages/pandas/io/parsers/readers.py:1880\u001b[39m, in \u001b[36mTextFileReader._make_engine\u001b[39m\u001b[34m(self, f, engine)\u001b[39m\n\u001b[32m   1878\u001b[39m     \u001b[38;5;28;01mif\u001b[39;00m \u001b[33m\"\u001b[39m\u001b[33mb\u001b[39m\u001b[33m\"\u001b[39m \u001b[38;5;129;01mnot\u001b[39;00m \u001b[38;5;129;01min\u001b[39;00m mode:\n\u001b[32m   1879\u001b[39m         mode += \u001b[33m\"\u001b[39m\u001b[33mb\u001b[39m\u001b[33m\"\u001b[39m\n\u001b[32m-> \u001b[39m\u001b[32m1880\u001b[39m \u001b[38;5;28mself\u001b[39m.handles = \u001b[43mget_handle\u001b[49m\u001b[43m(\u001b[49m\n\u001b[32m   1881\u001b[39m \u001b[43m    \u001b[49m\u001b[43mf\u001b[49m\u001b[43m,\u001b[49m\n\u001b[32m   1882\u001b[39m \u001b[43m    \u001b[49m\u001b[43mmode\u001b[49m\u001b[43m,\u001b[49m\n\u001b[32m   1883\u001b[39m \u001b[43m    \u001b[49m\u001b[43mencoding\u001b[49m\u001b[43m=\u001b[49m\u001b[38;5;28;43mself\u001b[39;49m\u001b[43m.\u001b[49m\u001b[43moptions\u001b[49m\u001b[43m.\u001b[49m\u001b[43mget\u001b[49m\u001b[43m(\u001b[49m\u001b[33;43m\"\u001b[39;49m\u001b[33;43mencoding\u001b[39;49m\u001b[33;43m\"\u001b[39;49m\u001b[43m,\u001b[49m\u001b[43m \u001b[49m\u001b[38;5;28;43;01mNone\u001b[39;49;00m\u001b[43m)\u001b[49m\u001b[43m,\u001b[49m\n\u001b[32m   1884\u001b[39m \u001b[43m    \u001b[49m\u001b[43mcompression\u001b[49m\u001b[43m=\u001b[49m\u001b[38;5;28;43mself\u001b[39;49m\u001b[43m.\u001b[49m\u001b[43moptions\u001b[49m\u001b[43m.\u001b[49m\u001b[43mget\u001b[49m\u001b[43m(\u001b[49m\u001b[33;43m\"\u001b[39;49m\u001b[33;43mcompression\u001b[39;49m\u001b[33;43m\"\u001b[39;49m\u001b[43m,\u001b[49m\u001b[43m \u001b[49m\u001b[38;5;28;43;01mNone\u001b[39;49;00m\u001b[43m)\u001b[49m\u001b[43m,\u001b[49m\n\u001b[32m   1885\u001b[39m \u001b[43m    \u001b[49m\u001b[43mmemory_map\u001b[49m\u001b[43m=\u001b[49m\u001b[38;5;28;43mself\u001b[39;49m\u001b[43m.\u001b[49m\u001b[43moptions\u001b[49m\u001b[43m.\u001b[49m\u001b[43mget\u001b[49m\u001b[43m(\u001b[49m\u001b[33;43m\"\u001b[39;49m\u001b[33;43mmemory_map\u001b[39;49m\u001b[33;43m\"\u001b[39;49m\u001b[43m,\u001b[49m\u001b[43m \u001b[49m\u001b[38;5;28;43;01mFalse\u001b[39;49;00m\u001b[43m)\u001b[49m\u001b[43m,\u001b[49m\n\u001b[32m   1886\u001b[39m \u001b[43m    \u001b[49m\u001b[43mis_text\u001b[49m\u001b[43m=\u001b[49m\u001b[43mis_text\u001b[49m\u001b[43m,\u001b[49m\n\u001b[32m   1887\u001b[39m \u001b[43m    \u001b[49m\u001b[43merrors\u001b[49m\u001b[43m=\u001b[49m\u001b[38;5;28;43mself\u001b[39;49m\u001b[43m.\u001b[49m\u001b[43moptions\u001b[49m\u001b[43m.\u001b[49m\u001b[43mget\u001b[49m\u001b[43m(\u001b[49m\u001b[33;43m\"\u001b[39;49m\u001b[33;43mencoding_errors\u001b[39;49m\u001b[33;43m\"\u001b[39;49m\u001b[43m,\u001b[49m\u001b[43m \u001b[49m\u001b[33;43m\"\u001b[39;49m\u001b[33;43mstrict\u001b[39;49m\u001b[33;43m\"\u001b[39;49m\u001b[43m)\u001b[49m\u001b[43m,\u001b[49m\n\u001b[32m   1888\u001b[39m \u001b[43m    \u001b[49m\u001b[43mstorage_options\u001b[49m\u001b[43m=\u001b[49m\u001b[38;5;28;43mself\u001b[39;49m\u001b[43m.\u001b[49m\u001b[43moptions\u001b[49m\u001b[43m.\u001b[49m\u001b[43mget\u001b[49m\u001b[43m(\u001b[49m\u001b[33;43m\"\u001b[39;49m\u001b[33;43mstorage_options\u001b[39;49m\u001b[33;43m\"\u001b[39;49m\u001b[43m,\u001b[49m\u001b[43m \u001b[49m\u001b[38;5;28;43;01mNone\u001b[39;49;00m\u001b[43m)\u001b[49m\u001b[43m,\u001b[49m\n\u001b[32m   1889\u001b[39m \u001b[43m\u001b[49m\u001b[43m)\u001b[49m\n\u001b[32m   1890\u001b[39m \u001b[38;5;28;01massert\u001b[39;00m \u001b[38;5;28mself\u001b[39m.handles \u001b[38;5;129;01mis\u001b[39;00m \u001b[38;5;129;01mnot\u001b[39;00m \u001b[38;5;28;01mNone\u001b[39;00m\n\u001b[32m   1891\u001b[39m f = \u001b[38;5;28mself\u001b[39m.handles.handle\n",
      "\u001b[36mFile \u001b[39m\u001b[32m~/powerenv/lib/python3.11/site-packages/pandas/io/common.py:873\u001b[39m, in \u001b[36mget_handle\u001b[39m\u001b[34m(path_or_buf, mode, encoding, compression, memory_map, is_text, errors, storage_options)\u001b[39m\n\u001b[32m    868\u001b[39m \u001b[38;5;28;01melif\u001b[39;00m \u001b[38;5;28misinstance\u001b[39m(handle, \u001b[38;5;28mstr\u001b[39m):\n\u001b[32m    869\u001b[39m     \u001b[38;5;66;03m# Check whether the filename is to be opened in binary mode.\u001b[39;00m\n\u001b[32m    870\u001b[39m     \u001b[38;5;66;03m# Binary mode does not support 'encoding' and 'newline'.\u001b[39;00m\n\u001b[32m    871\u001b[39m     \u001b[38;5;28;01mif\u001b[39;00m ioargs.encoding \u001b[38;5;129;01mand\u001b[39;00m \u001b[33m\"\u001b[39m\u001b[33mb\u001b[39m\u001b[33m\"\u001b[39m \u001b[38;5;129;01mnot\u001b[39;00m \u001b[38;5;129;01min\u001b[39;00m ioargs.mode:\n\u001b[32m    872\u001b[39m         \u001b[38;5;66;03m# Encoding\u001b[39;00m\n\u001b[32m--> \u001b[39m\u001b[32m873\u001b[39m         handle = \u001b[38;5;28;43mopen\u001b[39;49m\u001b[43m(\u001b[49m\n\u001b[32m    874\u001b[39m \u001b[43m            \u001b[49m\u001b[43mhandle\u001b[49m\u001b[43m,\u001b[49m\n\u001b[32m    875\u001b[39m \u001b[43m            \u001b[49m\u001b[43mioargs\u001b[49m\u001b[43m.\u001b[49m\u001b[43mmode\u001b[49m\u001b[43m,\u001b[49m\n\u001b[32m    876\u001b[39m \u001b[43m            \u001b[49m\u001b[43mencoding\u001b[49m\u001b[43m=\u001b[49m\u001b[43mioargs\u001b[49m\u001b[43m.\u001b[49m\u001b[43mencoding\u001b[49m\u001b[43m,\u001b[49m\n\u001b[32m    877\u001b[39m \u001b[43m            \u001b[49m\u001b[43merrors\u001b[49m\u001b[43m=\u001b[49m\u001b[43merrors\u001b[49m\u001b[43m,\u001b[49m\n\u001b[32m    878\u001b[39m \u001b[43m            \u001b[49m\u001b[43mnewline\u001b[49m\u001b[43m=\u001b[49m\u001b[33;43m\"\u001b[39;49m\u001b[33;43m\"\u001b[39;49m\u001b[43m,\u001b[49m\n\u001b[32m    879\u001b[39m \u001b[43m        \u001b[49m\u001b[43m)\u001b[49m\n\u001b[32m    880\u001b[39m     \u001b[38;5;28;01melse\u001b[39;00m:\n\u001b[32m    881\u001b[39m         \u001b[38;5;66;03m# Binary mode\u001b[39;00m\n\u001b[32m    882\u001b[39m         handle = \u001b[38;5;28mopen\u001b[39m(handle, ioargs.mode)\n",
      "\u001b[31mFileNotFoundError\u001b[39m: [Errno 2] No such file or directory: './log/raw_dataset_arc.csv'"
     ]
    }
   ],
   "source": [
    "# 테스트 데이터 불러오기 (센서 대체용 - 사용 안 할 경우 생략 가능)\n",
    "column_names = ['timestamp', 'v_raw', 'c_raw', 'voltage', 'current']\n",
    "df = pd.read_csv('./log/raw_dataset_arc.csv', names=column_names, header=None)\n",
    "df = df.dropna(subset=['voltage', 'current']).reset_index(drop=True)\n",
    "csv_filename = \"./log/rf_log1.csv\""
   ]
  },
  {
   "cell_type": "code",
   "execution_count": null,
   "id": "30aee67f",
   "metadata": {},
   "outputs": [],
   "source": [
    "try:\n",
    "    print(\"🚀 실시간 아크 감지 시작합니다!\")\n",
    "\n",
    "    USE_SENSOR = True\n",
    "    ANOMALY_THRESHOLD = 2\n",
    "\n",
    "    data_buffer = []\n",
    "    anomaly_buffer = []\n",
    "    first_anomaly_detected = False\n",
    "    anomaly_start_time = None\n",
    "    start_time = time.perf_counter()\n",
    "    idx = -1\n",
    "\n",
    "    while True:\n",
    "        idx += 1\n",
    "\n",
    "        if USE_SENSOR:\n",
    "            try:\n",
    "                v_raw_sensor = voltage_ch.voltage\n",
    "                c_raw_sensor = current_ch.voltage\n",
    "                voltage = (v_raw_sensor - ZMPT_offset) * ZMPT_scale\n",
    "                current = (c_raw_sensor - ACS712_offset) / ACS712_sensitivity\n",
    "\n",
    "                prev_voltage = voltage\n",
    "                prev_current = current\n",
    "\n",
    "            except (OSError, ValueError, RuntimeError) as e:\n",
    "                print(f\"⚠️ 센서 오류 발생: {e}\")\n",
    "                voltage = prev_voltage if 'prev_voltage' in locals() else 0\n",
    "                current = prev_current if 'prev_current' in locals() else 0\n",
    "\n",
    "        else:\n",
    "            voltage = df['voltage'].iloc[idx]\n",
    "            current = df['current'].iloc[idx]\n",
    "\n",
    "        data_buffer.append((voltage, current))\n",
    "\n",
    "        if len(data_buffer) >= 8:\n",
    "            voltage_seq, current_seq = zip(*data_buffer[-8:])\n",
    "            features = add_features(voltage_seq, current_seq)\n",
    "            features_scaled = scaler.transform([features])\n",
    "            anomaly = int(model.predict(features_scaled).flatten()[0])  # RandomForest는 0/1 반환\n",
    "\n",
    "            anomaly_buffer.append(anomaly)\n",
    "            if len(anomaly_buffer) > ANOMALY_THRESHOLD:\n",
    "                anomaly_buffer.pop(0)\n",
    "\n",
    "            if anomaly == 1 and anomaly_start_time is None:\n",
    "                anomaly_start_time = time.perf_counter()\n",
    "            elif anomaly == 0:\n",
    "                anomaly_start_time = None\n",
    "\n",
    "            if postprocess_anomalies_realtime(anomaly_buffer, min_consecutive=ANOMALY_THRESHOLD):\n",
    "                print(\"⚡ 아크 이상 감지!\", idx)\n",
    "                if not first_anomaly_detected and anomaly_start_time is not None:\n",
    "                    total_elapsed = time.perf_counter() - start_time\n",
    "                    actual_elapsed = time.perf_counter() - anomaly_start_time\n",
    "                    print(f\"⏱️ 전체 소요 시간: {total_elapsed:.6f}초\")\n",
    "                    print(f\"⏱️ 연속 8개 이상 신호까지 실제 소요 시간: {actual_elapsed:.6f}초\")\n",
    "                    first_anomaly_detected = True\n",
    "                    break\n",
    "\n",
    "        # CSV 기록\n",
    "        with open(csv_filename, mode='a', newline='') as file:\n",
    "            writer = csv.writer(file)\n",
    "            timestamp = datetime.now().isoformat()\n",
    "            writer.writerow([timestamp, voltage, current, anomaly])\n",
    "\n",
    "        cpu_usage = psutil.cpu_percent(interval=0.0)\n",
    "        memory_usage = psutil.Process().memory_info().rss / 1024 ** 2\n",
    "        print(f\"🧠 메모리: {memory_usage:.2f}MB | 🧮 CPU: {cpu_usage:.2f}% | idx: {idx}\")\n",
    "        print(f\"v_raw:{v_raw_sensor}, c_raw:{c_raw_sensor}, voltage:{voltage}, current:{current}\")\n",
    "\n",
    "        time.sleep(0.001163)  # 860Hz\n",
    "\n",
    "except KeyboardInterrupt:\n",
    "    print(\"🛑 실시간 감지를 종료합니다.\")\n"
   ]
  }
 ],
 "metadata": {
  "kernelspec": {
   "display_name": "powerenv",
   "language": "python",
   "name": "python3"
  },
  "language_info": {
   "codemirror_mode": {
    "name": "ipython",
    "version": 3
   },
   "file_extension": ".py",
   "mimetype": "text/x-python",
   "name": "python",
   "nbconvert_exporter": "python",
   "pygments_lexer": "ipython3",
   "version": "3.11.2"
  }
 },
 "nbformat": 4,
 "nbformat_minor": 5
}
