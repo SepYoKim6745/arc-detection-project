{
 "cells": [
  {
   "cell_type": "code",
   "execution_count": 1,
   "id": "33d66857",
   "metadata": {},
   "outputs": [],
   "source": [
    "# 모듈 임포트\n",
    "import time\n",
    "import board\n",
    "import busio\n",
    "import adafruit_ads1x15.ads1115 as ADS\n",
    "from adafruit_ads1x15.analog_in import AnalogIn\n",
    "import joblib\n",
    "import numpy as np\n",
    "import psutil\n",
    "import pandas as pd\n",
    "import os\n",
    "from datetime import datetime"
   ]
  },
  {
   "cell_type": "code",
   "execution_count": null,
   "id": "163de052",
   "metadata": {},
   "outputs": [],
   "source": [
    "# 모델, 스케일러 로드\n",
    "model = joblib.load('./model/random_forest_model.joblib')\n",
    "scaler = joblib.load('./model/scaler_rf.joblib')"
   ]
  },
  {
   "cell_type": "code",
   "execution_count": null,
   "id": "8b3d3d28",
   "metadata": {},
   "outputs": [],
   "source": [
    "# I2C 및 ADC 설정\n",
    "i2c = busio.I2C(board.SCL, board.SDA)\n",
    "ads = ADS.ADS1115(i2c) # (아날로그 → 디지털 변환기) 객체\n",
    "ads.gain = 1 # 증폭 배율 설정\n",
    "\n",
    "# ADS1115 채널 선택\n",
    "voltage_ch = AnalogIn(ads, ADS.P0)\n",
    "current_ch = AnalogIn(ads, ADS.P1)"
   ]
  },
  {
   "cell_type": "code",
   "execution_count": null,
   "id": "61bca31e",
   "metadata": {},
   "outputs": [],
   "source": [
    "# 보정 파라미터\n",
    "ZMPT_offset = 1.65  # 중심값\n",
    "ZMPT_scale = 57.14  # 스케일 조정\n",
    "ACS712_offset = 2.5\n",
    "ACS712_sensitivity = 0.1"
   ]
  },
  {
   "cell_type": "code",
   "execution_count": null,
   "id": "ee5ecad8",
   "metadata": {},
   "outputs": [],
   "source": [
    "# 파생 피처 생성 함수\n",
    "def add_features(voltage_seq, current_seq):\n",
    "    voltage = np.mean(voltage_seq)\n",
    "    current = np.mean(current_seq)\n",
    "    voltage_diff = np.abs(voltage_seq[-1] - voltage_seq[-2])\n",
    "    current_diff = np.abs(current_seq[-1] - current_seq[-2])\n",
    "    voltage_ma = np.mean(voltage_seq[-5:])\n",
    "    current_ma = np.mean(current_seq[-5:])\n",
    "    power = voltage * current\n",
    "    power_diff = np.abs(power - (voltage_seq[-2] * current_seq[-2]))\n",
    "    return [voltage, current, voltage_diff, current_diff, voltage_ma, current_ma, power, power_diff]"
   ]
  },
  {
   "cell_type": "code",
   "execution_count": null,
   "metadata": {},
   "outputs": [],
   "source": [
    "# 후처리 함수 (8개 이상 연속 감지)\n",
    "def postprocess_anomalies(y_bin, min_consecutive=8):\n",
    "    if len(y_bin) < min_consecutive:\n",
    "        return 0\n",
    "    return int(sum(y_bin[-min_consecutive:]) >= min_consecutive)"
   ]
  },
  {
   "cell_type": "code",
   "execution_count": null,
   "metadata": {},
   "outputs": [],
   "source": [
    "# 실시간 센서 읽기 및 예측\n",
    "try:\n",
    "    print(\"🚀 실시간 아크 감지 시작합니다!\")\n",
    "\n",
    "    data_buffer = []\n",
    "    anomaly_buffer = []\n",
    "    ANOMALY_THRESHOLD = 8\n",
    "    first_anomaly_detected = False\n",
    "    start_time = time.perf_counter()\n",
    "\n",
    "    while True:\n",
    "        # 센서 읽기\n",
    "        v_raw = voltage_ch.voltage\n",
    "        c_raw = current_ch.voltage\n",
    "\n",
    "        voltage = (v_raw - ZMPT_offset) * ZMPT_scale\n",
    "        current = (c_raw - ACS712_offset) / ACS712_sensitivity\n",
    "\n",
    "        data_buffer.append((voltage, current))\n",
    "\n",
    "        if len(data_buffer) >= 8:\n",
    "            voltage_seq, current_seq = zip(*data_buffer[-8:])\n",
    "            features = add_features(voltage_seq, current_seq)\n",
    "            features_scaled = scaler.transform(np.array(features).reshape(1, -1)) # 모델 학습을 위해서 표준화 작업(입력을 맞춤)\n",
    "\n",
    "            y_pred = model.predict(features_scaled)\n",
    "            anomaly = int(y_pred.flatten()) # predict() 결과가 기본적으로 배열 형태로 나오게 됨 (ex: [0], [1]) → flatten으로 1D 배열로 평탄환 작업 또한 int()를 통해 깔끔하게 0 or 1 단일 숫자로 변환\n",
    "\n",
    "            anomaly_buffer.append(anomaly)\n",
    "            if len(anomaly_buffer) > ANOMALY_THRESHOLD:\n",
    "                anomaly_buffer.pop(0)\n",
    "\n",
    "            if postprocess_anomalies(anomaly_buffer, min_consecutive=ANOMALY_THRESHOLD):\n",
    "                print(\"⚡ 아크 이상 감지!\")\n",
    "                if not first_anomaly_detected:\n",
    "                    elapsed_time = time.perf_counter() - start_time\n",
    "                    print(f\"⏱️ 첫 번째 이상 탐지까지 걸린 시간: {elapsed_time:.6f}초\")\n",
    "                    first_anomaly_detected = True\n",
    "\n",
    "        # 리소스 사용량 출력\n",
    "        cpu_usage = psutil.cpu_percent(interval=0.0)\n",
    "        memory_usage = psutil.Process().memory_info().rss / 1024 ** 2\n",
    "        print(f\"🧠 메모리 사용량: {memory_usage:.2f} MB, 🧮 CPU 사용률: {cpu_usage:.2f}%\")\n",
    "\n",
    "        time.sleep(0.0001)  # 10kHz 샘플링\n",
    "\n",
    "except KeyboardInterrupt:\n",
    "    print(\"🛑 실시간 감지를 종료합니다.\")\n",
    "    pass"
   ]
  }
 ],
 "metadata": {
  "kernelspec": {
   "display_name": "powerenv",
   "language": "python",
   "name": "python3"
  },
  "language_info": {
   "codemirror_mode": {
    "name": "ipython",
    "version": 3
   },
   "file_extension": ".py",
   "mimetype": "text/x-python",
   "name": "python",
   "nbconvert_exporter": "python",
   "pygments_lexer": "ipython3",
   "version": "3.11.2"
  }
 },
 "nbformat": 4,
 "nbformat_minor": 5
}
