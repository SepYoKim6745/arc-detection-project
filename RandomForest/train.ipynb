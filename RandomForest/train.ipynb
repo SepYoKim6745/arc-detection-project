{
 "cells": [
  {
   "cell_type": "code",
   "execution_count": null,
   "id": "e217a203",
   "metadata": {},
   "outputs": [],
   "source": [
    "# 모듈 임포트\n",
    "import pandas as pd\n",
    "import numpy as np\n",
    "from sklearn.preprocessing import StandardScaler\n",
    "from sklearn.ensemble import RandomForestClassifier\n",
    "from sklearn.metrics import classification_report, confusion_matrix\n",
    "import joblib\n",
    "import matplotlib.pyplot as plt"
   ]
  },
  {
   "cell_type": "code",
   "execution_count": null,
   "id": "e61955b0",
   "metadata": {},
   "outputs": [],
   "source": [
    "# 1. 정상 데이터 불러오기\n",
    "column_names = ['timestamp', 'v_raw', 'c_raw', 'voltage', 'current']\n",
    "normal_df = pd.read_csv('../realtime/raw_dataset_normal_90sec.csv', names=column_names, header=None)\n",
    "normal_df['label'] = 0  # 정상 라벨 추가\n",
    "\n",
    "# 2. 아크(이상) 데이터 불러오기\n",
    "# → 아크 데이터도 같은 형식의 CSV라고 가정\n",
    "arc_df = pd.read_csv('../realtime/raw_dataset_arc_30sec.csv', names=column_names, header=None)\n",
    "arc_df['label'] = 1  # 이상 라벨 추가\n",
    "\n",
    "# 3. 두 데이터 합치기\n",
    "train_df = pd.concat([normal_df, arc_df], ignore_index=True)\n"
   ]
  },
  {
   "cell_type": "code",
   "execution_count": null,
   "id": "861f97d4",
   "metadata": {},
   "outputs": [],
   "source": [
    "# 파생 피처 생성\n",
    "def add_features(df):\n",
    "    df['voltage_diff'] = df['voltage'].diff().fillna(0).abs()\n",
    "    df['current_diff'] = df['current'].diff().fillna(0).abs()\n",
    "    df['voltage_ma'] = df['voltage'].rolling(5).mean().bfill()\n",
    "    df['current_ma'] = df['current'].rolling(5).mean().bfill()\n",
    "    df['power'] = df['voltage'] * df['current']\n",
    "    df['power_diff'] = df['power'].diff().fillna(0).abs()\n",
    "    return df\n",
    "\n",
    "train_df = add_features(train_df).dropna()"
   ]
  },
  {
   "cell_type": "code",
   "execution_count": null,
   "id": "f8fb4ab5",
   "metadata": {},
   "outputs": [],
   "source": [
    "# 입력/정답 분리\n",
    "features = ['voltage', 'current', 'voltage_diff', 'current_diff',\n",
    "            'voltage_ma', 'current_ma', 'power', 'power_diff']\n",
    "X = train_df[features].values\n",
    "y = train_df['label'].values\n",
    "\n",
    "# 스케일링\n",
    "scaler = StandardScaler()\n",
    "X_scaled = scaler.fit_transform(X)"
   ]
  },
  {
   "cell_type": "code",
   "execution_count": null,
   "id": "0a19448d",
   "metadata": {},
   "outputs": [],
   "source": [
    "# 학습\n",
    "model = RandomForestClassifier(n_estimators=100, random_state=42)\n",
    "model.fit(X_scaled, y)\n",
    "\n",
    "# 저장\n",
    "joblib.dump(model, './model/random_forest_model.joblib')\n",
    "joblib.dump(scaler, './model/rf_scaler.joblib')\n",
    "\n",
    "print(\"✅ 모델 학습 및 저장 완료!\")"
   ]
  }
 ],
 "metadata": {
  "kernelspec": {
   "display_name": "powerenv",
   "language": "python",
   "name": "python3"
  },
  "language_info": {
   "codemirror_mode": {
    "name": "ipython",
    "version": 3
   },
   "file_extension": ".py",
   "mimetype": "text/x-python",
   "name": "python",
   "nbconvert_exporter": "python",
   "pygments_lexer": "ipython3",
   "version": "3.9.21"
  }
 },
 "nbformat": 4,
 "nbformat_minor": 5
}
