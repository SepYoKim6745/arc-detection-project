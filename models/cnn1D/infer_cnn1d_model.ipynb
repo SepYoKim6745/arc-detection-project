{
 "cells": [
  {
   "cell_type": "code",
   "execution_count": null,
   "id": "865e867f",
   "metadata": {},
   "outputs": [],
   "source": [
    "# 모듈 불러오기\n",
    "import pandas as pd\n",
    "import numpy as np\n",
    "import tensorflow as tf\n",
    "from sklearn.preprocessing import StandardScaler\n",
    "from sklearn.metrics import classification_report\n",
    "import joblib\n",
    "import time\n",
    "import psutil\n",
    "import os"
   ]
  },
  {
   "cell_type": "code",
   "execution_count": null,
   "id": "7278717b",
   "metadata": {},
   "outputs": [],
   "source": [
    "# TFLite 모델 및 스케일러 로드\n",
    "interpreter = tflite.Interpreter(model_path=\"./model/cnn1d_model_compatible.tflite\")\n",
    "interpreter.allocate_tensors()\n",
    "\n",
    "input_details = interpreter.get_input_details()\n",
    "output_details = interpreter.get_output_details()\n",
    "\n",
    "scaler = joblib.load('./model/scaler_cnn.joblib')"
   ]
  },
  {
   "cell_type": "code",
   "execution_count": null,
   "id": "d16058c3",
   "metadata": {},
   "outputs": [],
   "source": [
    "# Test 데이터셋 불러오기\n",
    "column_names = ['timestamp', 'voltage', 'current', 'label']\n",
    "test_df = pd.read_csv('../../data/test/test_dataset_187.csv', names=column_names, header=None)\n",
    "test_df = test_df.dropna(subset=['voltage', 'current']).reset_index(drop=True)"
   ]
  },
  {
   "cell_type": "code",
   "execution_count": null,
   "id": "883840e3",
   "metadata": {},
   "outputs": [],
   "source": [
    "# 파생 피처 생성 함수\n",
    "def add_features(voltage_seq, current_seq):\n",
    "    voltage = np.mean(voltage_seq)\n",
    "    current = np.mean(current_seq)\n",
    "    voltage_diff = np.abs(voltage_seq[-1] - voltage_seq[-2])\n",
    "    current_diff = np.abs(current_seq[-1] - current_seq[-2])\n",
    "    voltage_ma = np.mean(voltage_seq[-5:])\n",
    "    current_ma = np.mean(current_seq[-5:])\n",
    "    power = voltage * current\n",
    "    power_diff = np.abs(power - (voltage_seq[-2] * current_seq[-2]))\n",
    "    return [voltage, current, voltage_diff, current_diff, voltage_ma, current_ma, power, power_diff]"
   ]
  },
  {
   "cell_type": "code",
   "execution_count": null,
   "id": "b38bf167",
   "metadata": {},
   "outputs": [],
   "source": [
    "# 슬라이딩 윈도우 기반 피처 생성\n",
    "def generate_sequence_features(df, window_size=8):\n",
    "    features = []\n",
    "    labels = []\n",
    "\n",
    "    for i in range(window_size, len(df)):\n",
    "        voltage_seq = df['voltage'].iloc[i - window_size:i].values\n",
    "        current_seq = df['current'].iloc[i - window_size:i].values\n",
    "        feat = add_features(voltage_seq, current_seq)\n",
    "        features.append(feat)\n",
    "        labels.append(df['label'].iloc[i])  # 마지막 인덱스의 라벨 사용\n",
    "\n",
    "    return np.array(features), np.array(labels)\n"
   ]
  },
  {
   "cell_type": "code",
   "execution_count": null,
   "id": "fa1fffdd",
   "metadata": {},
   "outputs": [],
   "source": [
    "# 피처 및 라벨 생성\n",
    "window_size = 8\n",
    "X_test, y_test = generate_sequence_features(test_df, window_size=window_size)\n",
    "\n",
    "# 정규화\n",
    "X_test_scaled = scaler.transform(X_test)\n",
    "\n",
    "# CNN 입력 형태로 reshape: (samples, timesteps, features)\n",
    "X_test_scaled = X_test_scaled.reshape((X_test_scaled.shape[0], window_size, X_test_scaled.shape[1]))"
   ]
  },
  {
   "cell_type": "code",
   "execution_count": null,
   "id": "35d2e548",
   "metadata": {},
   "outputs": [],
   "source": [
    "# 예측 함수\n",
    "def predict_with_tflite(interpreter, X):\n",
    "    input_index = input_details[0]['index']\n",
    "    output_index = output_details[0]['index']\n",
    "    predictions = []\n",
    "\n",
    "    for sample in X:\n",
    "        sample = sample.astype(np.float32)\n",
    "        interpreter.set_tensor(input_index, np.expand_dims(sample, axis=0))\n",
    "        interpreter.invoke()\n",
    "        output_data = interpreter.get_tensor(output_index)\n",
    "        predictions.append(output_data[0][0])\n",
    "\n",
    "    return np.array(predictions)"
   ]
  },
  {
   "cell_type": "code",
   "execution_count": null,
   "id": "32103668",
   "metadata": {},
   "outputs": [],
   "source": [
    "# 예측\n",
    "y_pred_prob = predict_with_tflite(interpreter, X_test_scaled)\n",
    "y_pred = (y_pred_prob > 0.48).astype(int)"
   ]
  },
  {
   "cell_type": "code",
   "execution_count": null,
   "id": "8bd6ee57",
   "metadata": {},
   "outputs": [],
   "source": [
    "# 후처리 함수\n",
    "def postprocess_anomalies(y_pred_bin, min_consecutive=1):\n",
    "    y_post = np.zeros_like(y_pred_bin)\n",
    "    count = 0\n",
    "    for i, val in enumerate(y_pred_bin):\n",
    "        if val == 1:\n",
    "            count += 1\n",
    "        else:\n",
    "            if count >= min_consecutive:\n",
    "                y_post[i - count:i] = 1\n",
    "            count = 0\n",
    "    if count >= min_consecutive:\n",
    "        y_post[len(y_pred_bin)-count:] = 1\n",
    "    return y_post\n",
    "\n",
    "# 후처리 적용\n",
    "y_pred_post = postprocess_anomalies(y_pred, min_consecutive=1)"
   ]
  },
  {
   "cell_type": "code",
   "execution_count": null,
   "id": "7c032046",
   "metadata": {},
   "outputs": [],
   "source": [
    "# 분류 리포트 출력\n",
    "print(\"📋 (후처리 적용) 분류 리포트:\\n\")\n",
    "print(classification_report(y_test, y_pred_post, target_names=['정상', '아크']))"
   ]
  },
  {
   "cell_type": "code",
   "execution_count": null,
   "id": "481f371b",
   "metadata": {},
   "outputs": [],
   "source": [
    "# 감지 지연 시간 계산 함수\n",
    "def calculate_detection_delay(y_pred_bin, label, sampling_interval=0.001163):\n",
    "    try:\n",
    "        # 아크의 시작 인덱스 찾기\n",
    "        arc_start = np.where(label == 1)[0][0]\n",
    "        # 예측 값에서 아크를 처음 발견한 인덱스 찾기\n",
    "        detected = np.where(y_pred_bin[arc_start:] == 1)[0]\n",
    "        if len(detected) == 0:\n",
    "            print(\"⚠️ 아크를 탐지하지 못했습니다.\")\n",
    "            return None\n",
    "        detect_index = detected[0] + arc_start\n",
    "        delay = detect_index - arc_start\n",
    "        time_detected = detect_index * sampling_interval\n",
    "        print(f\"✅ 아크 시작 인덱스: {arc_start}\")\n",
    "        print(f\"✅ 모델 이상 감지 인덱스: {detect_index}\")\n",
    "        print(f\"⏱️ 감지 지연 시간: {delay} 샘플\")\n",
    "        print(f\"⏱️ 감지된 시점 (초): {time_detected:.6f} 초\")\n",
    "        return arc_start, detect_index, delay\n",
    "    except IndexError:\n",
    "        print(\"⚠️ 라벨 데이터에 아크가 포함되어 있지 않습니다.\")\n",
    "        return None\n",
    "    \n",
    "# 감지 지연 시간 계산\n",
    "result = calculate_detection_delay(y_pred_post, y_test)\n",
    "if result is not None:\n",
    "    arc_start, detect_index, delay = result\n",
    "else:\n",
    "    arc_start, detect_index, delay = None, None, None"
   ]
  },
  {
   "cell_type": "code",
   "execution_count": null,
   "id": "080e85db",
   "metadata": {},
   "outputs": [],
   "source": [
    "# 전체 예측 시간\n",
    "start_total = time.perf_counter()\n",
    "y_pred_prob = model.predict(X_test_scaled)\n",
    "y_pred = (y_pred_prob.flatten() > 0.5).astype(int)\n",
    "elapsed_total = time.perf_counter() - start_total\n",
    "print(f\"⏱️ 전체 예측 소요 시간: {elapsed_total:.10f}초\")\n",
    "\n",
    "# 후처리 + 첫 이상 감지까지 시간\n",
    "start_first = time.perf_counter()\n",
    "y_pred_post = postprocess_anomalies(y_pred, min_consecutive=8)\n",
    "first_index = np.where(y_pred_post == 1)[0]\n",
    "elapsed_first = time.perf_counter() - start_first\n",
    "\n",
    "if len(first_index) > 0:\n",
    "    print(f\"🟡 첫 번째 이상 탐지 인덱스: {first_index[0]}\")\n",
    "    print(f\"⏱️ 첫 이상 탐지까지 걸린 시간: {elapsed_first:.10f}초\")\n",
    "else:\n",
    "    print(\"⚠️ 후처리된 이상 탐지 결과가 없습니다.\")\n"
   ]
  },
  {
   "cell_type": "code",
   "execution_count": null,
   "id": "2b4c720c",
   "metadata": {},
   "outputs": [],
   "source": [
    "# 모듈 임포트\n",
    "import psutil\n",
    "import os\n",
    "\n",
    "# 리소스 사용량 출력 함수\n",
    "def print_resource_usage():\n",
    "    process = psutil.Process(os.getpid())\n",
    "    mem_info = process.memory_info()\n",
    "    cpu_percent = process.cpu_percent(interval=1.0)\n",
    "    print(f\"🧠 메모리 사용량: {mem_info.rss / 1024 ** 2:.2f} MB\")\n",
    "    print(f\"🧮 CPU 사용률: {cpu_percent:.2f}%\")\n",
    "\n",
    "\n",
    "# 전체 예측 시간 측정 + 시스템 리소스 출력\n",
    "print(\"🔍 예측 전 시스템 상태:\")\n",
    "print_resource_usage()\n",
    "\n",
    "start_total = time.perf_counter()\n",
    "y_pred = model.predict(X_test_scaled)\n",
    "elapsed_total = time.perf_counter() - start_total\n",
    "\n",
    "print(\"🔍 예측 후 시스템 상태:\")\n",
    "print_resource_usage()\n",
    "\n",
    "print(f\"⏱️ 전체 예측 소요 시간: {elapsed_total:.10f}초\")\n",
    "\n"
   ]
  },
  {
   "cell_type": "markdown",
   "id": "597ab985",
   "metadata": {},
   "source": [
    "---\n",
    "# 시각화"
   ]
  },
  {
   "cell_type": "code",
   "execution_count": null,
   "id": "53a13482",
   "metadata": {},
   "outputs": [],
   "source": [
    "import matplotlib.pyplot as plt\n",
    "import matplotlib as mpl\n",
    "\n",
    "# 한글 폰트 설정 (예: 맑은 고딕)\n",
    "plt.rcParams['font.family'] = 'Malgun Gothic'  # Windows 사용자\n",
    "# plt.rcParams['font.family'] = 'AppleGothic'   # macOS 사용자\n",
    "# plt.rcParams['font.family'] = 'NanumGothic'   # Linux 사용자 (Nanum 폰트 설치 필요)\n",
    "\n",
    "# 마이너스 부호 깨짐 방지\n",
    "mpl.rcParams['axes.unicode_minus'] = False"
   ]
  },
  {
   "cell_type": "code",
   "execution_count": null,
   "id": "252048c0",
   "metadata": {},
   "outputs": [],
   "source": [
    "def plot_predictions(y_pred_bin, arc_start=None, detect_index=None):\n",
    "    plt.figure(figsize=(15, 4))\n",
    "    plt.plot(y_pred_bin, label='예측 이상 (1=이상)', color='red', linewidth=1)\n",
    "\n",
    "    if arc_start is not None:\n",
    "        plt.axvline(x=arc_start, color='blue', linestyle='--', label='실제 아크 시작')\n",
    "    if detect_index is not None:\n",
    "        plt.axvline(x=detect_index, color='green', linestyle='--', label='감지된 시점')\n",
    "\n",
    "    plt.title(\"CNN 이상 탐지 결과\")\n",
    "    plt.xlabel(\"샘플 인덱스\")\n",
    "    plt.ylabel(\"예측값\")\n",
    "    plt.legend()\n",
    "    plt.grid(True)\n",
    "    plt.tight_layout()\n",
    "    plt.show()\n",
    "\n",
    "plot_predictions(y_pred_post, arc_start, detect_index)\n"
   ]
  },
  {
   "cell_type": "code",
   "execution_count": null,
   "id": "10da97d4",
   "metadata": {},
   "outputs": [],
   "source": [
    "def plot_current_waveform(test_df):\n",
    "    plt.figure(figsize=(15, 4))\n",
    "    plt.plot(test_df['current'], label='전류 파형', alpha=0.7)\n",
    "    plt.title(\"전체 전류 파형\")\n",
    "    plt.xlabel(\"샘플 인덱스\")\n",
    "    plt.ylabel(\"전류 (A)\")\n",
    "    plt.grid(True)\n",
    "    plt.tight_layout()\n",
    "    plt.legend()\n",
    "    plt.show()\n",
    "\n",
    "plot_current_waveform(test_df)"
   ]
  },
  {
   "cell_type": "code",
   "execution_count": null,
   "id": "10a33c4b",
   "metadata": {},
   "outputs": [],
   "source": [
    "def compare_postprocessing(y_pred_bin, y_pred_post, title=\"후처리 전후 비교\"):\n",
    "    plt.figure(figsize=(15, 4))\n",
    "    plt.plot(y_pred_bin, label='후처리 전', color='orange', alpha=0.6)\n",
    "    plt.plot(y_pred_post, label='후처리 후', color='green', alpha=0.6)\n",
    "    plt.title(title)\n",
    "    plt.xlabel(\"샘플 인덱스\")\n",
    "    plt.ylabel(\"이상 탐지 결과\")\n",
    "    plt.legend()\n",
    "    plt.grid(True)\n",
    "    plt.tight_layout()\n",
    "    plt.show()\n",
    "\n",
    "compare_postprocessing(y_pred, y_pred_post)\n",
    "\n",
    "\n"
   ]
  },
  {
   "cell_type": "code",
   "execution_count": null,
   "id": "81ad4b0c",
   "metadata": {},
   "outputs": [],
   "source": [
    "def compare_prediction_vs_label(y_true, y_pred_post):\n",
    "    plt.figure(figsize=(15, 4))\n",
    "    plt.plot(y_true, label='실제 라벨', alpha=0.5)\n",
    "    plt.plot(y_pred_post, label='모델 예측', alpha=0.7)\n",
    "    plt.title(\"실제 라벨 vs 모델 예측 비교\")\n",
    "    plt.xlabel(\"샘플 인덱스\")\n",
    "    plt.ylabel(\"값 (0=정상, 1=아크)\")\n",
    "    plt.legend()\n",
    "    plt.grid(True)\n",
    "    plt.tight_layout()\n",
    "    plt.show()\n",
    "\n",
    "compare_prediction_vs_label(y_true_post, y_pred_post)\n",
    "\n",
    "# # 차이점 위치 찾기\n",
    "# mismatch_indices = np.where(y_true_post != y_pred_post)[0]\n",
    "# print(\"불일치 인덱스:\", mismatch_indices)\n",
    "# print(\"불일치 개수:\", len(mismatch_indices))"
   ]
  },
  {
   "cell_type": "code",
   "execution_count": null,
   "id": "2e769514",
   "metadata": {},
   "outputs": [],
   "source": []
  }
 ],
 "metadata": {
  "kernelspec": {
   "display_name": "powerenv",
   "language": "python",
   "name": "python3"
  },
  "language_info": {
   "codemirror_mode": {
    "name": "ipython",
    "version": 3
   },
   "file_extension": ".py",
   "mimetype": "text/x-python",
   "name": "python",
   "nbconvert_exporter": "python",
   "pygments_lexer": "ipython3",
   "version": "3.12.7"
  }
 },
 "nbformat": 4,
 "nbformat_minor": 5
}
